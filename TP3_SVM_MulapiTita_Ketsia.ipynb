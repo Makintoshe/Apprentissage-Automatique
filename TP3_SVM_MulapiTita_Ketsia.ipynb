{
 "cells": [
  {
   "cell_type": "markdown",
   "id": "prepared-mileage",
   "metadata": {},
   "source": [
    "# Travail pratique d'apprentissage automatique sur les Machines à Vecteurs de Support dites SVM"
   ]
  },
  {
   "cell_type": "markdown",
   "id": "recent-infrared",
   "metadata": {},
   "source": [
    "## Réalisé par Mulapi Tita Ketsia"
   ]
  },
  {
   "cell_type": "markdown",
   "id": "square-entertainment",
   "metadata": {},
   "source": [
    "A propos\n",
    "\n",
    "Dans ce travail, nous allons principalement nous focaliser sur l'algorithme SVM :\n",
    "\n",
    "nous allons ensuite déterminer pour chacun des cas précédents que nous allons traiter et des différents noyaux que nous allons appliquer :\n",
    "\n",
    "- Le **accuracy_score** qui est le taux de bonne performance, c'est à dire chercher le taux de bonne classification\n",
    "\n",
    "Ensuite on va se permettre de trouver :\n",
    "\n",
    "- le **precision_score** pour dire si le modèle de prédiction est précis\n",
    "\n",
    "- il y aura le **recall_score** qui est un rappel des cas réel trouvé!\n",
    "\n",
    "- Il s'en suivra du **f1_score** qui est fonction de la **précision** et du **rappel**, car elle les combine on dit que si ce denrier est petit alors, c'est à dire que la précision \n",
    "\n",
    "    f1_score = 2 * $ \\frac{precision * rappel}{precision+rappel} $\n",
    "\n",
    "et, est constituée d'une petite précision et d'un petit rappel (inversement pour le cas grand).\n",
    "\n",
    "- une jolie matrice bleu en guise de matrice de confusion la recherche d'un hyperparamètre qui déterminera la meilleur valeur du paramètre C (Gamma ou tel que vu en cours de **TBD**) pour l'optimisation de notre modèle dapprentissage.\n",
    "\n",
    "Et enfin, au bout du compte, un peu comme dans la pluspart des articles scientifiques sur les data sciences **nous allons résummer notre modèle à l'aide d'une représentation en bar (diagramme en bar).**"
   ]
  },
  {
   "cell_type": "markdown",
   "id": "angry-granny",
   "metadata": {},
   "source": [
    "#### Rappel sur les notions d'un SVM :\n",
    "\n",
    "    Modèle d'apprentissage puissant et polyvalent, une machine à vecteurs de suports est un séparateur à vaste marge c'est à dire que d'une part il s'adaptent bien à la classification des données complexes, de taille réduite ou moyenne, ce qui lui permet d'autre part de travailler sur des données linéaires ou non (contrairement à un perceptron) et, à la détection des données abérrantes (exemple : pièces défectueuses ou non déféctueuse, etc.)\n",
    "    \n",
    "    - Classification Linéaire :\n",
    "        \n",
    "        * 2 classes sont dîtes linéairement séparables, si et seulement si, elles peuvent aisément se séparer par une ligne doite (Aurélien Géron).\n",
    "        \n",
    "        * Hyperparamètres : On peut régulariser un modèle à l'aide d'un hyperpramètre, celui-ci permettra au modèle de moins sur ajuster à partir du moment où il sera petit.\n",
    "        \n",
    "        * LinearSVC : Très souvent considéré comme moins meilleur que le type de SVM dit SVC avec un nouyau linéaire, le LinearSVC peut se réaliser à l'aide d'un piline ,c'est à dire que ici il est conseillé de normaliser les données en apppliquant le théromè centra=l limite qui revient à centrer et à réduire les données par la moyenne et l'écart-r=type respectivmement, avant d'entraîner le modèle car, ce modèle qui est adaptable aux entraînement hors-mémoire, régularise le terme constant.\n",
    "        \n",
    "        \n",
    "     - Classification SVM non Linéaire :\n",
    "     \n",
    "        * Dans la vrai vie (comme nous le dis très souvent notre professeur d'apprentissage), les données manipulées par le Data Scientist ne sont pas toujours linéaires, on pourrait même se retrouver face au fameux fléau de la dimensionalité. Afin donc d'y faire face, on pourrait par exemple rajouter des variables, (le cas des variables polynomiales) afin de se retrouver dnas une situation linéairement séparable.\n",
    "        \n",
    "        * SVC :\n",
    "        \n",
    "        Il existe une classe pour le faire, mais nous pourrons aussi utiliser un type de SVM que l'on appel SVC pour un type de classifieur SVM qui permet de traiter les données en fonction d'un noyau.\n",
    "        \n",
    "        * la notion du noyau :\n",
    "        \n",
    "        'astuce du noyau est un concept qui permet d'obtenir les mêmes résultats que lorsqu'on rajoute des variables supplémentaires sans en ajouter !!! On est donc épargné des explosions combinatoires, ainsi des noyau il en existe plusiseurs : RBF, Linéaire, Polynomial, Sigmoïd, etc."
   ]
  },
  {
   "cell_type": "markdown",
   "id": "sunrise-myrtle",
   "metadata": {},
   "source": [
    "## Importation des librairies"
   ]
  },
  {
   "cell_type": "code",
   "execution_count": 162,
   "id": "productive-playback",
   "metadata": {},
   "outputs": [],
   "source": [
    "import pandas as pd\n",
    "import matplotlib.pyplot as plt\n",
    "import seaborn as sn\n",
    "from sklearn.model_selection import train_test_split, learning_curve, GridSearchCV\n",
    "from sklearn.naive_bayes import GaussianNB\n",
    "from sklearn.svm import SVC\n",
    "from sklearn.svm import LinearSVC\n",
    "from sklearn.preprocessing import OrdinalEncoder, StandardScaler\n",
    "from sklearn.pipeline import make_pipeline\n",
    "from sklearn.metrics import plot_confusion_matrix, accuracy_score, classification_report, precision_score, f1_score, recall_score\n",
    "from sklearn import metrics\n",
    "import numpy as np"
   ]
  },
  {
   "cell_type": "markdown",
   "id": "married-interval",
   "metadata": {},
   "source": [
    "# phase de pré-traitement"
   ]
  },
  {
   "cell_type": "markdown",
   "id": "driving-cycling",
   "metadata": {},
   "source": [
    "Fonction d'ouvrerture d'un fichier"
   ]
  },
  {
   "cell_type": "code",
   "execution_count": 163,
   "id": "damaged-martin",
   "metadata": {},
   "outputs": [],
   "source": [
    "def open_file(path):\n",
    "    with open(path, 'r') as f:\n",
    "        lines = f.readlines()\n",
    "    classes=[]\n",
    "    XList=[]\n",
    "    YList=[]\n",
    "    for line in lines:\n",
    "        line = line.split(\" \")\n",
    "        classes.append(line[0])\n",
    "        XList.append(line[1])\n",
    "        YList.append(line[2].replace(\"\\n\",\"\"))\n",
    "    df = pd.DataFrame({\"classes\":classes,\"X\":XList,\"Y\":YList})\n",
    "    #df.info()\n",
    "    return df"
   ]
  },
  {
   "cell_type": "markdown",
   "id": "outer-newton",
   "metadata": {},
   "source": [
    "Fonction de typage des colonnes"
   ]
  },
  {
   "cell_type": "code",
   "execution_count": 164,
   "id": "universal-franchise",
   "metadata": {},
   "outputs": [],
   "source": [
    "def df_formatter(df):\n",
    "    df.classes = df.classes.astype(\"int\")\n",
    "    df.X = df.X.astype(\"float\")\n",
    "    df.Y = df.Y.astype(\"float\")\n",
    "    return df"
   ]
  },
  {
   "cell_type": "markdown",
   "id": "bulgarian-animal",
   "metadata": {},
   "source": [
    "Fonction qui nous permet d'afficher le jeu de données"
   ]
  },
  {
   "cell_type": "code",
   "execution_count": 165,
   "id": "lucky-better",
   "metadata": {},
   "outputs": [],
   "source": [
    "def afficher_dataset(df):\n",
    "    plt.figure(figsize=(15,8))\n",
    "    for i in range(5): \n",
    "        plt.plot(df[df.iloc[:,0]==i+1].iloc[:,0:3].iloc[:,1], df[df.iloc[:,0]==i+1].iloc[:,0:3].iloc[:,2], 'o', label=\"classes : \"+str(i+1))\n",
    "        plt.legend()"
   ]
  },
  {
   "cell_type": "markdown",
   "id": "federal-missile",
   "metadata": {},
   "source": [
    "Nous récupérons les jeux de données : From file to DataFrame"
   ]
  },
  {
   "cell_type": "code",
   "execution_count": 166,
   "id": "later-default",
   "metadata": {},
   "outputs": [],
   "source": [
    "df_app1 = open_file(\"data_tp1_app.txt\")\n",
    "df_app1 = df_formatter(df_app1)"
   ]
  },
  {
   "cell_type": "code",
   "execution_count": 167,
   "id": "determined-nursing",
   "metadata": {},
   "outputs": [],
   "source": [
    "df_dec1 = open_file(\"data_tp1_dec.txt\")\n",
    "df_dec1 = df_formatter(df_dec1)"
   ]
  },
  {
   "cell_type": "code",
   "execution_count": 168,
   "id": "tropical-comparison",
   "metadata": {},
   "outputs": [],
   "source": [
    "df_app2 = open_file(\"data_tp2_app.txt\")\n",
    "df_app2 = df_formatter(df_app2)"
   ]
  },
  {
   "cell_type": "code",
   "execution_count": 169,
   "id": "metallic-capitol",
   "metadata": {},
   "outputs": [],
   "source": [
    "df_dec2 = open_file(\"data_tp2_dec.txt\")\n",
    "df_dec2 = df_formatter(df_dec2)"
   ]
  },
  {
   "cell_type": "code",
   "execution_count": 170,
   "id": "improved-coach",
   "metadata": {},
   "outputs": [],
   "source": [
    "df_app3 = open_file(\"data_tp3_app.txt\")\n",
    "df_app3 = df_formatter(df_app3)"
   ]
  },
  {
   "cell_type": "code",
   "execution_count": 171,
   "id": "intermediate-persian",
   "metadata": {},
   "outputs": [],
   "source": [
    "df_dec3 = open_file(\"data_tp3_dec.txt\")\n",
    "df_dec3 = df_formatter(df_dec3)"
   ]
  },
  {
   "cell_type": "markdown",
   "id": "civilian-health",
   "metadata": {},
   "source": [
    "## Commencez par tester l’implémentation par défaut d’un SVM."
   ]
  },
  {
   "cell_type": "code",
   "execution_count": 172,
   "id": "parliamentary-witness",
   "metadata": {},
   "outputs": [],
   "source": [
    "model_summary =[]"
   ]
  },
  {
   "cell_type": "markdown",
   "id": "southern-klein",
   "metadata": {},
   "source": [
    "Testez la solution svm.LinearSVC :\n",
    "https://scikitlearn.org/stable/modules/generated/sklearn.svm.LinearSVC.html\n",
    "Cette fonction n’est disponible que pour des SVM linéaires. Donc à tester sur le jeu de\n",
    "données TP1."
   ]
  },
  {
   "cell_type": "code",
   "execution_count": 178,
   "id": "executive-chamber",
   "metadata": {},
   "outputs": [
    {
     "name": "stdout",
     "output_type": "stream",
     "text": [
      "Performance: 0.994\n",
      "Précision: 0.994\n",
      "Rappel: 0.994\n",
      "F1-score: 0.994\n"
     ]
    },
    {
     "data": {
      "image/png": "[encoded data removed]",
      "text/plain": [
       "<Figure size 432x288 with 2 Axes>"
      ]
     },
     "metadata": {
      "needs_background": "light"
     },
     "output_type": "display_data"
    }
   ],
   "source": [
    "# Train & Test\n",
    "X_train1, y_train1 = df_app1.iloc[:,1:3],df_app1.iloc[:,0]\n",
    "X_test1, y_test1 = df_dec1.iloc[:,1:3],df_dec1.iloc[:,0]\n",
    "\n",
    "# Model\n",
    "classifier = make_pipeline(StandardScaler(), LinearSVC(random_state=0, tol=1e-5))\n",
    "\n",
    "classifier = classifier.fit(X_train1, y_train1)\n",
    "\n",
    "# metrics\n",
    "y_pred1 = classifier.predict(X_test1) \n",
    "print(\"Performance:\", accuracy_score(y_test1, y_pred1))\n",
    "print(\"Précision:\", precision_score(y_test1, y_pred1,\n",
    "                                               average='micro'))\n",
    "print(\"Rappel:\", recall_score(y_test1, y_pred1, \n",
    "                                               average='micro'))\n",
    "print(\"F1-score:\", f1_score(y_test1, y_pred1, \n",
    "                                             average='micro'))\n",
    "\n",
    "# Matrice de confusion\n",
    "class_names = ['classe1', 'classe2', 'classe3', 'classe4', 'classe5']\n",
    "disp = plot_confusion_matrix(classifier, X_test1, y_test1,\n",
    "                                     display_labels=class_names,\n",
    "                                     cmap=plt.cm.Blues,\n",
    "                                     )\n",
    "disp.ax_.set_title('Matrice de confusion LinearSVC')\n",
    "plt.show()"
   ]
  },
  {
   "cell_type": "markdown",
   "id": "failing-necklace",
   "metadata": {},
   "source": [
    "### Commentaire :\n",
    "\n",
    "Nous pouvons donc conclure que :\n",
    "\n",
    "    Le taux de bonne classification de notre modèle est de 99.4%\n",
    "    \n",
    "    Notre modèle est précis à 99.4%\n",
    "    \n",
    "    Ce qui nous est rappelé est de 99.4%\n",
    "    \n",
    "    et enfin, notre f1_score est de 99.4%\n",
    "    \n",
    "    Dans notre matrice de confusion alors que 497 observations ont correctement été prédites, 3 seulement ont été mal prédites ce qui s'avère être bon.\n",
    "\n",
    "\n",
    "\n",
    "*****"
   ]
  },
  {
   "cell_type": "markdown",
   "id": "dimensional-repair",
   "metadata": {},
   "source": [
    "# 2) Utilisez la classe svm.SVC de scikit-learn :\n",
    "\n",
    "En utilisant la documentation testez des SVM avec les paramètres suivants:\n",
    "- Noyau: linéaire, C=1.0,\n",
    "- Noyau: RBF, C=1.0, Gamma = 0.7,\n",
    "- Noyau: Polynomial, C=1.0, degré: 3\n",
    "\n",
    "A tester sur les jeux de données TP1 et TP2"
   ]
  },
  {
   "cell_type": "code",
   "execution_count": 14,
   "id": "subjective-mounting",
   "metadata": {},
   "outputs": [],
   "source": [
    "def SVM_Classification(Model, noyau, hyp, df_app, df_dec, model_summary, g=None):\n",
    "    \n",
    "    # Train & Test\n",
    "    X_train, y_train = df_app.iloc[:,1:3],df_app.iloc[:,0]\n",
    "    X_test, y_test = df_dec.iloc[:,1:3],df_dec.iloc[:,0]\n",
    "    \n",
    "    if(g==None):\n",
    "        g=0.7\n",
    "\n",
    "    # Model\n",
    "    if(noyau==\"linear\"):\n",
    "        classifier = make_pipeline(StandardScaler(), Model(kernel=noyau, C=hyp, random_state=0, tol=1e-5))\n",
    "    elif(noyau==\"rbf\"):\n",
    "        classifier = make_pipeline(StandardScaler(), Model(kernel=noyau, C=hyp, gamma=g, random_state=0, tol=1e-5))\n",
    "    elif(noyau==\"poly\"):\n",
    "        classifier = make_pipeline(StandardScaler(), Model(kernel=noyau, C=hyp, degree=3, random_state=0, tol=1e-5))        \n",
    "    else:\n",
    "        classifier = make_pipeline(StandardScaler(), Model(kernel=noyau, C=hyp, random_state=0, tol=1e-5)) \n",
    "            \n",
    "    classifier = classifier.fit(X_train, y_train)\n",
    "\n",
    "    # metrics\n",
    "    y_pred = classifier.predict(X_test) \n",
    "    print(\"Performance:\", accuracy_score(y_test, y_pred))\n",
    "    print(\"Précision:\", precision_score(y_test, y_pred,\n",
    "                                               average='micro'))\n",
    "    print(\"Rappel:\", recall_score(y_test, y_pred, \n",
    "                                               average='micro'))\n",
    "    print(\"F1-score:\", f1_score(y_test, y_pred, \n",
    "                                               average='micro'))\n",
    "    model_summary.append(dict(model=\"SVM \"+str(noyau), accuracy_score=accuracy_score(y_test, y_pred)))\n",
    "\n",
    "    # Matrice de confusion\n",
    "    class_names = ['classe1', 'classe2', 'classe3', 'classe4', 'classe5']\n",
    "    disp = plot_confusion_matrix(classifier, X_test, y_test,\n",
    "                                     display_labels=class_names,\n",
    "                                     cmap=plt.cm.Blues,\n",
    "                                     )\n",
    "    disp.ax_.set_title('Matrice de confusion '+str(noyau)+' model')\n",
    "    plt.show()"
   ]
  },
  {
   "cell_type": "markdown",
   "id": "immune-while",
   "metadata": {},
   "source": [
    "### Jeu TP1"
   ]
  },
  {
   "cell_type": "code",
   "execution_count": 15,
   "id": "european-startup",
   "metadata": {},
   "outputs": [],
   "source": [
    "model_summary_TP1 = []"
   ]
  },
  {
   "cell_type": "code",
   "execution_count": 16,
   "id": "welcome-advocacy",
   "metadata": {},
   "outputs": [
    {
     "name": "stdout",
     "output_type": "stream",
     "text": [
      "Performance: 0.996\n",
      "Précision: 0.996\n",
      "Rappel: 0.996\n",
      "F1-score: 0.996\n"
     ]
    },
    {
     "data": {
      "image/png": "[encoded data removed]",
      "text/plain": [
       "<Figure size 432x288 with 2 Axes>"
      ]
     },
     "metadata": {
      "needs_background": "light"
     },
     "output_type": "display_data"
    }
   ],
   "source": [
    "SVM_Classification(SVC, \"linear\", 1.0, df_app1, df_dec1, model_summary_TP1)"
   ]
  },
  {
   "cell_type": "code",
   "execution_count": 17,
   "id": "equipped-conflict",
   "metadata": {},
   "outputs": [
    {
     "name": "stdout",
     "output_type": "stream",
     "text": [
      "Performance: 0.996\n",
      "Précision: 0.996\n",
      "Rappel: 0.996\n",
      "F1-score: 0.996\n"
     ]
    },
    {
     "data": {
      "image/png": "[encoded data removed]",
      "text/plain": [
       "<Figure size 432x288 with 2 Axes>"
      ]
     },
     "metadata": {
      "needs_background": "light"
     },
     "output_type": "display_data"
    }
   ],
   "source": [
    "SVM_Classification(SVC, \"rbf\", 1.0, df_app1, df_dec1, model_summary_TP1)"
   ]
  },
  {
   "cell_type": "code",
   "execution_count": 18,
   "id": "reliable-infection",
   "metadata": {},
   "outputs": [
    {
     "name": "stdout",
     "output_type": "stream",
     "text": [
      "Performance: 0.986\n",
      "Précision: 0.986\n",
      "Rappel: 0.986\n",
      "F1-score: 0.986\n"
     ]
    },
    {
     "data": {
      "image/png": "[encoded data removed]",
      "text/plain": [
       "<Figure size 432x288 with 2 Axes>"
      ]
     },
     "metadata": {
      "needs_background": "light"
     },
     "output_type": "display_data"
    }
   ],
   "source": [
    "SVM_Classification(SVC, \"poly\", 1.0, df_app1, df_dec1, model_summary_TP1)"
   ]
  },
  {
   "cell_type": "markdown",
   "id": "second-system",
   "metadata": {},
   "source": [
    "petit bonus :"
   ]
  },
  {
   "cell_type": "code",
   "execution_count": 19,
   "id": "saving-interstate",
   "metadata": {},
   "outputs": [
    {
     "name": "stdout",
     "output_type": "stream",
     "text": [
      "Performance: 0.996\n",
      "Précision: 0.996\n",
      "Rappel: 0.996\n",
      "F1-score: 0.996\n"
     ]
    },
    {
     "data": {
      "image/png": "[encoded data removed]",
      "text/plain": [
       "<Figure size 432x288 with 2 Axes>"
      ]
     },
     "metadata": {
      "needs_background": "light"
     },
     "output_type": "display_data"
    }
   ],
   "source": [
    "SVM_Classification(SVC, \"sigmoid\", 1.0, df_app1, df_dec1, model_summary_TP1)"
   ]
  },
  {
   "cell_type": "markdown",
   "id": "legal-mitchell",
   "metadata": {},
   "source": [
    "## Jeu TP2"
   ]
  },
  {
   "cell_type": "code",
   "execution_count": 34,
   "id": "spread-sucking",
   "metadata": {},
   "outputs": [],
   "source": [
    "model_summary_TP2 = []"
   ]
  },
  {
   "cell_type": "code",
   "execution_count": 35,
   "id": "experimental-corporation",
   "metadata": {},
   "outputs": [
    {
     "name": "stdout",
     "output_type": "stream",
     "text": [
      "Performance: 0.952\n",
      "Précision: 0.952\n",
      "Rappel: 0.952\n",
      "F1-score: 0.952\n"
     ]
    },
    {
     "data": {
      "image/png": "[encoded data removed]",
      "text/plain": [
       "<Figure size 432x288 with 2 Axes>"
      ]
     },
     "metadata": {
      "needs_background": "light"
     },
     "output_type": "display_data"
    }
   ],
   "source": [
    "SVM_Classification(SVC, \"linear\", 1.0, df_app2, df_dec2, model_summary_TP2)"
   ]
  },
  {
   "cell_type": "code",
   "execution_count": 36,
   "id": "vulnerable-travel",
   "metadata": {},
   "outputs": [
    {
     "name": "stdout",
     "output_type": "stream",
     "text": [
      "Performance: 0.95\n",
      "Précision: 0.95\n",
      "Rappel: 0.95\n",
      "F1-score: 0.9500000000000001\n"
     ]
    },
    {
     "data": {
      "image/png": "[encoded data removed]",
      "text/plain": [
       "<Figure size 432x288 with 2 Axes>"
      ]
     },
     "metadata": {
      "needs_background": "light"
     },
     "output_type": "display_data"
    }
   ],
   "source": [
    "SVM_Classification(SVC, \"rbf\", 1.0, df_app2, df_dec2, model_summary_TP2)"
   ]
  },
  {
   "cell_type": "code",
   "execution_count": 37,
   "id": "cathedral-updating",
   "metadata": {},
   "outputs": [
    {
     "name": "stdout",
     "output_type": "stream",
     "text": [
      "Performance: 0.932\n",
      "Précision: 0.932\n",
      "Rappel: 0.932\n",
      "F1-score: 0.932\n"
     ]
    },
    {
     "data": {
      "image/png": "[encoded data removed]",
      "text/plain": [
       "<Figure size 432x288 with 2 Axes>"
      ]
     },
     "metadata": {
      "needs_background": "light"
     },
     "output_type": "display_data"
    }
   ],
   "source": [
    "SVM_Classification(SVC, \"poly\", 1.0, df_app2, df_dec2, model_summary_TP2)"
   ]
  },
  {
   "cell_type": "markdown",
   "id": "arabic-caution",
   "metadata": {},
   "source": [
    "petit bonus :"
   ]
  },
  {
   "cell_type": "code",
   "execution_count": 38,
   "id": "transparent-anger",
   "metadata": {},
   "outputs": [
    {
     "name": "stdout",
     "output_type": "stream",
     "text": [
      "Performance: 0.93\n",
      "Précision: 0.93\n",
      "Rappel: 0.93\n",
      "F1-score: 0.93\n"
     ]
    },
    {
     "data": {
      "image/png": "[encoded data removed]",
      "text/plain": [
       "<Figure size 432x288 with 2 Axes>"
      ]
     },
     "metadata": {
      "needs_background": "light"
     },
     "output_type": "display_data"
    }
   ],
   "source": [
    "SVM_Classification(SVC, \"sigmoid\", 1.0, df_app2, df_dec2, model_summary_TP2)"
   ]
  },
  {
   "cell_type": "markdown",
   "id": "numerical-coating",
   "metadata": {},
   "source": [
    "# 3) Sur les jeux de données TP1 et TP2, rechercher les meilleurs hyperparamètres pour les 3 noyaux."
   ]
  },
  {
   "cell_type": "code",
   "execution_count": 45,
   "id": "public-theorem",
   "metadata": {},
   "outputs": [],
   "source": [
    "model_opti_summary = []"
   ]
  },
  {
   "cell_type": "code",
   "execution_count": 42,
   "id": "pointed-wages",
   "metadata": {},
   "outputs": [],
   "source": [
    "def getHyperBestParam(X_train, y_train, X_test, y_test):\n",
    "    # Set the parameters by cross-validation\n",
    "    tuned_parameters = [{'kernel': ['rbf'], 'gamma': [1e-3, 1e-4],\n",
    "                         'C': [1, 10, 100, 1000]},\n",
    "                        {'kernel': ['linear'], 'C': [1, 10, 100, 1000]},\n",
    "                        {'kernel': ['poly'], 'C': [1, 10, 100, 1000]}]\n",
    "\n",
    "    scores = ['precision', 'recall']\n",
    "\n",
    "    for score in scores:\n",
    "        print(\"# Tuning hyper-parameters for %s\" % score)\n",
    "        print()\n",
    "\n",
    "        clf = GridSearchCV(\n",
    "            SVC(), tuned_parameters, scoring='%s_macro' % score\n",
    "        )\n",
    "        clf.fit(X_train, y_train)\n",
    "\n",
    "        print(\"Best parameters set found on development set:\")\n",
    "        print()\n",
    "        print(clf.best_params_)\n",
    "        print()\n",
    "        print(\"Grid scores on development set:\")\n",
    "        print()\n",
    "        means = clf.cv_results_['mean_test_score']\n",
    "        stds = clf.cv_results_['std_test_score']\n",
    "        for mean, std, params in zip(means, stds, clf.cv_results_['params']):\n",
    "            print(\"%0.3f (+/-%0.03f) for %r\"\n",
    "                  % (mean, std * 2, params))\n",
    "        print()\n",
    "\n",
    "        print(\"Detailed classification report:\")\n",
    "        print()\n",
    "        print(\"The model is trained on the full development set.\")\n",
    "        print(\"The scores are computed on the full evaluation set.\")\n",
    "        print()\n",
    "        y_true, y_pred = y_test, clf.predict(X_test)\n",
    "        print(classification_report(y_true, y_pred))\n",
    "        print()\n",
    "\n",
    "    # Note the problem is too easy: the hyperparameter plateau is too flat and the\n",
    "    # output model is the same for precision and recall with ties in quality."
   ]
  },
  {
   "cell_type": "markdown",
   "id": "general-longer",
   "metadata": {},
   "source": [
    "## Recherche d'un bon hyper paramètre pour le jeu TP1"
   ]
  },
  {
   "cell_type": "code",
   "execution_count": 43,
   "id": "completed-phrase",
   "metadata": {},
   "outputs": [
    {
     "name": "stdout",
     "output_type": "stream",
     "text": [
      "# Tuning hyper-parameters for precision\n",
      "\n",
      "Best parameters set found on development set:\n",
      "\n",
      "{'C': 10, 'gamma': 0.001, 'kernel': 'rbf'}\n",
      "\n",
      "Grid scores on development set:\n",
      "\n",
      "0.996 (+/-0.009) for {'C': 1, 'gamma': 0.001, 'kernel': 'rbf'}\n",
      "0.992 (+/-0.008) for {'C': 1, 'gamma': 0.0001, 'kernel': 'rbf'}\n",
      "0.998 (+/-0.008) for {'C': 10, 'gamma': 0.001, 'kernel': 'rbf'}\n",
      "0.996 (+/-0.009) for {'C': 10, 'gamma': 0.0001, 'kernel': 'rbf'}\n",
      "0.998 (+/-0.008) for {'C': 100, 'gamma': 0.001, 'kernel': 'rbf'}\n",
      "0.998 (+/-0.008) for {'C': 100, 'gamma': 0.0001, 'kernel': 'rbf'}\n",
      "0.994 (+/-0.009) for {'C': 1000, 'gamma': 0.001, 'kernel': 'rbf'}\n",
      "0.998 (+/-0.008) for {'C': 1000, 'gamma': 0.0001, 'kernel': 'rbf'}\n",
      "0.998 (+/-0.008) for {'C': 1, 'kernel': 'linear'}\n",
      "0.994 (+/-0.009) for {'C': 10, 'kernel': 'linear'}\n",
      "0.994 (+/-0.009) for {'C': 100, 'kernel': 'linear'}\n",
      "0.994 (+/-0.009) for {'C': 1000, 'kernel': 'linear'}\n",
      "0.989 (+/-0.007) for {'C': 1, 'kernel': 'poly'}\n",
      "0.991 (+/-0.012) for {'C': 10, 'kernel': 'poly'}\n",
      "0.994 (+/-0.009) for {'C': 100, 'kernel': 'poly'}\n",
      "0.994 (+/-0.009) for {'C': 1000, 'kernel': 'poly'}\n",
      "\n",
      "Detailed classification report:\n",
      "\n",
      "The model is trained on the full development set.\n",
      "The scores are computed on the full evaluation set.\n",
      "\n",
      "              precision    recall  f1-score   support\n",
      "\n",
      "           1       0.99      0.99      0.99       100\n",
      "           2       1.00      1.00      1.00       100\n",
      "           3       1.00      1.00      1.00       100\n",
      "           4       1.00      1.00      1.00       100\n",
      "           5       0.99      0.99      0.99       100\n",
      "\n",
      "    accuracy                           1.00       500\n",
      "   macro avg       1.00      1.00      1.00       500\n",
      "weighted avg       1.00      1.00      1.00       500\n",
      "\n",
      "\n",
      "# Tuning hyper-parameters for recall\n",
      "\n",
      "Best parameters set found on development set:\n",
      "\n",
      "{'C': 10, 'gamma': 0.001, 'kernel': 'rbf'}\n",
      "\n",
      "Grid scores on development set:\n",
      "\n",
      "0.996 (+/-0.010) for {'C': 1, 'gamma': 0.001, 'kernel': 'rbf'}\n",
      "0.992 (+/-0.008) for {'C': 1, 'gamma': 0.0001, 'kernel': 'rbf'}\n",
      "0.998 (+/-0.008) for {'C': 10, 'gamma': 0.001, 'kernel': 'rbf'}\n",
      "0.996 (+/-0.010) for {'C': 10, 'gamma': 0.0001, 'kernel': 'rbf'}\n",
      "0.998 (+/-0.008) for {'C': 100, 'gamma': 0.001, 'kernel': 'rbf'}\n",
      "0.998 (+/-0.008) for {'C': 100, 'gamma': 0.0001, 'kernel': 'rbf'}\n",
      "0.994 (+/-0.010) for {'C': 1000, 'gamma': 0.001, 'kernel': 'rbf'}\n",
      "0.998 (+/-0.008) for {'C': 1000, 'gamma': 0.0001, 'kernel': 'rbf'}\n",
      "0.998 (+/-0.008) for {'C': 1, 'kernel': 'linear'}\n",
      "0.994 (+/-0.010) for {'C': 10, 'kernel': 'linear'}\n",
      "0.994 (+/-0.010) for {'C': 100, 'kernel': 'linear'}\n",
      "0.994 (+/-0.010) for {'C': 1000, 'kernel': 'linear'}\n",
      "0.988 (+/-0.008) for {'C': 1, 'kernel': 'poly'}\n",
      "0.990 (+/-0.013) for {'C': 10, 'kernel': 'poly'}\n",
      "0.994 (+/-0.010) for {'C': 100, 'kernel': 'poly'}\n",
      "0.994 (+/-0.010) for {'C': 1000, 'kernel': 'poly'}\n",
      "\n",
      "Detailed classification report:\n",
      "\n",
      "The model is trained on the full development set.\n",
      "The scores are computed on the full evaluation set.\n",
      "\n",
      "              precision    recall  f1-score   support\n",
      "\n",
      "           1       0.99      0.99      0.99       100\n",
      "           2       1.00      1.00      1.00       100\n",
      "           3       1.00      1.00      1.00       100\n",
      "           4       1.00      1.00      1.00       100\n",
      "           5       0.99      0.99      0.99       100\n",
      "\n",
      "    accuracy                           1.00       500\n",
      "   macro avg       1.00      1.00      1.00       500\n",
      "weighted avg       1.00      1.00      1.00       500\n",
      "\n",
      "\n"
     ]
    }
   ],
   "source": [
    "getHyperBestParam(df_app1.iloc[:,1:3], df_app1.iloc[:,0], df_dec1.iloc[:,1:3], df_dec1.iloc[:,0])"
   ]
  },
  {
   "cell_type": "markdown",
   "id": "committed-february",
   "metadata": {},
   "source": [
    "### **pour TP1, le meilleur noyau est << RBF >>, le meilleur hyper paramètre associé est 10 et le bon gamma est 0.001**"
   ]
  },
  {
   "cell_type": "code",
   "execution_count": 47,
   "id": "stable-america",
   "metadata": {},
   "outputs": [
    {
     "name": "stdout",
     "output_type": "stream",
     "text": [
      "Performance: 0.994\n",
      "Précision: 0.994\n",
      "Rappel: 0.994\n",
      "F1-score: 0.994\n"
     ]
    },
    {
     "data": {
      "image/png": "[encoded data removed]",
      "text/plain": [
       "<Figure size 432x288 with 2 Axes>"
      ]
     },
     "metadata": {
      "needs_background": "light"
     },
     "output_type": "display_data"
    }
   ],
   "source": [
    "SVM_Classification(SVC, \"rbf\", 10, df_app1, df_dec1, model_opti_summary, 0.001)"
   ]
  },
  {
   "cell_type": "markdown",
   "id": "revised-wholesale",
   "metadata": {},
   "source": [
    "## Recherche d'un bon hyper paramètre pour le jeu TP2"
   ]
  },
  {
   "cell_type": "code",
   "execution_count": 48,
   "id": "corporate-differential",
   "metadata": {},
   "outputs": [
    {
     "name": "stdout",
     "output_type": "stream",
     "text": [
      "# Tuning hyper-parameters for precision\n",
      "\n",
      "Best parameters set found on development set:\n",
      "\n",
      "{'C': 1, 'gamma': 0.001, 'kernel': 'rbf'}\n",
      "\n",
      "Grid scores on development set:\n",
      "\n",
      "0.955 (+/-0.020) for {'C': 1, 'gamma': 0.001, 'kernel': 'rbf'}\n",
      "0.895 (+/-0.057) for {'C': 1, 'gamma': 0.0001, 'kernel': 'rbf'}\n",
      "0.947 (+/-0.024) for {'C': 10, 'gamma': 0.001, 'kernel': 'rbf'}\n",
      "0.955 (+/-0.020) for {'C': 10, 'gamma': 0.0001, 'kernel': 'rbf'}\n",
      "0.953 (+/-0.030) for {'C': 100, 'gamma': 0.001, 'kernel': 'rbf'}\n",
      "0.947 (+/-0.024) for {'C': 100, 'gamma': 0.0001, 'kernel': 'rbf'}\n",
      "0.949 (+/-0.031) for {'C': 1000, 'gamma': 0.001, 'kernel': 'rbf'}\n",
      "0.953 (+/-0.030) for {'C': 1000, 'gamma': 0.0001, 'kernel': 'rbf'}\n",
      "0.946 (+/-0.042) for {'C': 1, 'kernel': 'linear'}\n",
      "0.946 (+/-0.036) for {'C': 10, 'kernel': 'linear'}\n",
      "0.944 (+/-0.040) for {'C': 100, 'kernel': 'linear'}\n",
      "0.946 (+/-0.036) for {'C': 1000, 'kernel': 'linear'}\n",
      "0.936 (+/-0.040) for {'C': 1, 'kernel': 'poly'}\n",
      "0.942 (+/-0.036) for {'C': 10, 'kernel': 'poly'}\n",
      "0.942 (+/-0.042) for {'C': 100, 'kernel': 'poly'}\n",
      "0.942 (+/-0.042) for {'C': 1000, 'kernel': 'poly'}\n",
      "\n",
      "Detailed classification report:\n",
      "\n",
      "The model is trained on the full development set.\n",
      "The scores are computed on the full evaluation set.\n",
      "\n",
      "              precision    recall  f1-score   support\n",
      "\n",
      "           1       1.00      0.99      0.99       100\n",
      "           2       0.95      0.99      0.97       100\n",
      "           3       0.93      0.82      0.87       100\n",
      "           4       0.98      0.97      0.97       100\n",
      "           5       0.90      0.99      0.94       100\n",
      "\n",
      "    accuracy                           0.95       500\n",
      "   macro avg       0.95      0.95      0.95       500\n",
      "weighted avg       0.95      0.95      0.95       500\n",
      "\n",
      "\n",
      "# Tuning hyper-parameters for recall\n",
      "\n",
      "Best parameters set found on development set:\n",
      "\n",
      "{'C': 100, 'gamma': 0.001, 'kernel': 'rbf'}\n",
      "\n",
      "Grid scores on development set:\n",
      "\n",
      "0.950 (+/-0.022) for {'C': 1, 'gamma': 0.001, 'kernel': 'rbf'}\n",
      "0.884 (+/-0.065) for {'C': 1, 'gamma': 0.0001, 'kernel': 'rbf'}\n",
      "0.944 (+/-0.020) for {'C': 10, 'gamma': 0.001, 'kernel': 'rbf'}\n",
      "0.950 (+/-0.022) for {'C': 10, 'gamma': 0.0001, 'kernel': 'rbf'}\n",
      "0.950 (+/-0.028) for {'C': 100, 'gamma': 0.001, 'kernel': 'rbf'}\n",
      "0.944 (+/-0.020) for {'C': 100, 'gamma': 0.0001, 'kernel': 'rbf'}\n",
      "0.946 (+/-0.030) for {'C': 1000, 'gamma': 0.001, 'kernel': 'rbf'}\n",
      "0.950 (+/-0.028) for {'C': 1000, 'gamma': 0.0001, 'kernel': 'rbf'}\n",
      "0.944 (+/-0.041) for {'C': 1, 'kernel': 'linear'}\n",
      "0.944 (+/-0.035) for {'C': 10, 'kernel': 'linear'}\n",
      "0.942 (+/-0.039) for {'C': 100, 'kernel': 'linear'}\n",
      "0.944 (+/-0.035) for {'C': 1000, 'kernel': 'linear'}\n",
      "0.926 (+/-0.047) for {'C': 1, 'kernel': 'poly'}\n",
      "0.938 (+/-0.037) for {'C': 10, 'kernel': 'poly'}\n",
      "0.940 (+/-0.042) for {'C': 100, 'kernel': 'poly'}\n",
      "0.940 (+/-0.042) for {'C': 1000, 'kernel': 'poly'}\n",
      "\n",
      "Detailed classification report:\n",
      "\n",
      "The model is trained on the full development set.\n",
      "The scores are computed on the full evaluation set.\n",
      "\n",
      "              precision    recall  f1-score   support\n",
      "\n",
      "           1       0.99      1.00      1.00       100\n",
      "           2       0.95      0.96      0.96       100\n",
      "           3       0.90      0.85      0.88       100\n",
      "           4       0.98      0.97      0.97       100\n",
      "           5       0.93      0.98      0.96       100\n",
      "\n",
      "    accuracy                           0.95       500\n",
      "   macro avg       0.95      0.95      0.95       500\n",
      "weighted avg       0.95      0.95      0.95       500\n",
      "\n",
      "\n"
     ]
    }
   ],
   "source": [
    "getHyperBestParam(df_app2.iloc[:,1:3], df_app2.iloc[:,0], df_dec2.iloc[:,1:3], df_dec2.iloc[:,0])"
   ]
  },
  {
   "cell_type": "markdown",
   "id": "brazilian-lesson",
   "metadata": {},
   "source": [
    "### **pour TP2, le meilleur noyau est << RBF >>, le meilleur hyper paramètre associé est 100 et le bon gamma est 0.001**"
   ]
  },
  {
   "cell_type": "code",
   "execution_count": 49,
   "id": "mighty-nation",
   "metadata": {},
   "outputs": [
    {
     "name": "stdout",
     "output_type": "stream",
     "text": [
      "Performance: 0.95\n",
      "Précision: 0.95\n",
      "Rappel: 0.95\n",
      "F1-score: 0.9500000000000001\n"
     ]
    },
    {
     "data": {
      "image/png": "[encoded data removed]",
      "text/plain": [
       "<Figure size 432x288 with 2 Axes>"
      ]
     },
     "metadata": {
      "needs_background": "light"
     },
     "output_type": "display_data"
    }
   ],
   "source": [
    "SVM_Classification(SVC, \"rbf\", 100, df_app2, df_dec2, model_opti_summary, 0.001)"
   ]
  },
  {
   "cell_type": "markdown",
   "id": "diagnostic-morrison",
   "metadata": {},
   "source": [
    "****"
   ]
  },
  {
   "cell_type": "markdown",
   "id": "disciplinary-factory",
   "metadata": {},
   "source": [
    "# 4) Bonus : Model summary"
   ]
  },
  {
   "cell_type": "markdown",
   "id": "opening-reserve",
   "metadata": {},
   "source": [
    "###  4.1) Résumé TP1"
   ]
  },
  {
   "cell_type": "code",
   "execution_count": 107,
   "id": "massive-blank",
   "metadata": {},
   "outputs": [],
   "source": [
    "df_sum_TP1 = pd.DataFrame(model_summary_TP1)"
   ]
  },
  {
   "cell_type": "code",
   "execution_count": 113,
   "id": "funded-young",
   "metadata": {},
   "outputs": [
    {
     "data": {
      "text/html": [
       "<div>\n",
       "<style scoped>\n",
       "    .dataframe tbody tr th:only-of-type {\n",
       "        vertical-align: middle;\n",
       "    }\n",
       "\n",
       "    .dataframe tbody tr th {\n",
       "        vertical-align: top;\n",
       "    }\n",
       "\n",
       "    .dataframe thead th {\n",
       "        text-align: right;\n",
       "    }\n",
       "</style>\n",
       "<table border=\"1\" class=\"dataframe\">\n",
       "  <thead>\n",
       "    <tr style=\"text-align: right;\">\n",
       "      <th></th>\n",
       "      <th>model</th>\n",
       "      <th>accuracy_score</th>\n",
       "    </tr>\n",
       "  </thead>\n",
       "  <tbody>\n",
       "    <tr>\n",
       "      <th>0</th>\n",
       "      <td>SVM linear</td>\n",
       "      <td>0.996</td>\n",
       "    </tr>\n",
       "    <tr>\n",
       "      <th>1</th>\n",
       "      <td>SVM rbf</td>\n",
       "      <td>0.996</td>\n",
       "    </tr>\n",
       "    <tr>\n",
       "      <th>2</th>\n",
       "      <td>SVM poly</td>\n",
       "      <td>0.986</td>\n",
       "    </tr>\n",
       "    <tr>\n",
       "      <th>3</th>\n",
       "      <td>SVM sigmoid</td>\n",
       "      <td>0.996</td>\n",
       "    </tr>\n",
       "  </tbody>\n",
       "</table>\n",
       "</div>"
      ],
      "text/plain": [
       "         model  accuracy_score\n",
       "0   SVM linear           0.996\n",
       "1      SVM rbf           0.996\n",
       "2     SVM poly           0.986\n",
       "3  SVM sigmoid           0.996"
      ]
     },
     "execution_count": 113,
     "metadata": {},
     "output_type": "execute_result"
    }
   ],
   "source": [
    "df_sum_TP1"
   ]
  },
  {
   "cell_type": "code",
   "execution_count": 108,
   "id": "neutral-medication",
   "metadata": {},
   "outputs": [
    {
     "data": {
      "image/png": "[encoded data removed]",
      "text/plain": [
       "<Figure size 720x360 with 1 Axes>"
      ]
     },
     "metadata": {
      "needs_background": "light"
     },
     "output_type": "display_data"
    }
   ],
   "source": [
    "figure = plt.figure(figsize=(10,5))\n",
    "ax = sn.barplot(y='accuracy_score', x='model', data=df_sum_TP1)\n",
    "# j'ajoute les valeurs\n",
    "for index, row in df_sum_TP1.iterrows():\n",
    "    ax.text(row.name,row.accuracy_score, round(row.accuracy_score,3), color='black', ha=\"center\")\n",
    "\n",
    "plt.show()"
   ]
  },
  {
   "cell_type": "markdown",
   "id": "standard-writer",
   "metadata": {},
   "source": [
    "#### Commentaire :\n",
    "\n",
    "Pour notre jeu TP1, sans cross validation, il s'avère que nous pouvons obtenir un bon résultat rien qu'avec un noyau Linéaire de plus ceci s'explique car les données que nos données sont dailleurs elles mêmes linéairement séparable."
   ]
  },
  {
   "cell_type": "markdown",
   "id": "declared-manual",
   "metadata": {},
   "source": [
    "****"
   ]
  },
  {
   "cell_type": "markdown",
   "id": "adequate-aerospace",
   "metadata": {},
   "source": [
    "###  4.2) Résumé TP2"
   ]
  },
  {
   "cell_type": "code",
   "execution_count": 109,
   "id": "motivated-magic",
   "metadata": {},
   "outputs": [],
   "source": [
    "df_sum_TP2 = pd.DataFrame(model_summary_TP2)"
   ]
  },
  {
   "cell_type": "code",
   "execution_count": 114,
   "id": "conditional-exploration",
   "metadata": {},
   "outputs": [
    {
     "data": {
      "text/html": [
       "<div>\n",
       "<style scoped>\n",
       "    .dataframe tbody tr th:only-of-type {\n",
       "        vertical-align: middle;\n",
       "    }\n",
       "\n",
       "    .dataframe tbody tr th {\n",
       "        vertical-align: top;\n",
       "    }\n",
       "\n",
       "    .dataframe thead th {\n",
       "        text-align: right;\n",
       "    }\n",
       "</style>\n",
       "<table border=\"1\" class=\"dataframe\">\n",
       "  <thead>\n",
       "    <tr style=\"text-align: right;\">\n",
       "      <th></th>\n",
       "      <th>model</th>\n",
       "      <th>accuracy_score</th>\n",
       "    </tr>\n",
       "  </thead>\n",
       "  <tbody>\n",
       "    <tr>\n",
       "      <th>0</th>\n",
       "      <td>SVM linear</td>\n",
       "      <td>0.952</td>\n",
       "    </tr>\n",
       "    <tr>\n",
       "      <th>1</th>\n",
       "      <td>SVM rbf</td>\n",
       "      <td>0.950</td>\n",
       "    </tr>\n",
       "    <tr>\n",
       "      <th>2</th>\n",
       "      <td>SVM poly</td>\n",
       "      <td>0.932</td>\n",
       "    </tr>\n",
       "    <tr>\n",
       "      <th>3</th>\n",
       "      <td>SVM sigmoid</td>\n",
       "      <td>0.930</td>\n",
       "    </tr>\n",
       "  </tbody>\n",
       "</table>\n",
       "</div>"
      ],
      "text/plain": [
       "         model  accuracy_score\n",
       "0   SVM linear           0.952\n",
       "1      SVM rbf           0.950\n",
       "2     SVM poly           0.932\n",
       "3  SVM sigmoid           0.930"
      ]
     },
     "execution_count": 114,
     "metadata": {},
     "output_type": "execute_result"
    }
   ],
   "source": [
    "df_sum_TP2"
   ]
  },
  {
   "cell_type": "code",
   "execution_count": 110,
   "id": "genetic-popularity",
   "metadata": {},
   "outputs": [
    {
     "data": {
      "image/png": "[encoded data removed]",
      "text/plain": [
       "<Figure size 720x360 with 1 Axes>"
      ]
     },
     "metadata": {
      "needs_background": "light"
     },
     "output_type": "display_data"
    }
   ],
   "source": [
    "figure = plt.figure(figsize=(10,5))\n",
    "ax = sn.barplot(y='accuracy_score', x='model', data=df_sum_TP2)\n",
    "# j'ajoute les valeurs\n",
    "for index, row in df_sum_TP2.iterrows():\n",
    "    ax.text(row.name,row.accuracy_score, round(row.accuracy_score,3), color='black', ha=\"center\")\n",
    "\n",
    "plt.show()"
   ]
  },
  {
   "cell_type": "markdown",
   "id": "unauthorized-transmission",
   "metadata": {},
   "source": [
    "#### Commentaire :"
   ]
  },
  {
   "cell_type": "markdown",
   "id": "informational-screening",
   "metadata": {},
   "source": [
    "Pour le jeu de données 2, sans Cross validation un noyau linéaire semble donner des résultats satisfaisant."
   ]
  },
  {
   "cell_type": "markdown",
   "id": "international-alfred",
   "metadata": {},
   "source": [
    "****"
   ]
  },
  {
   "cell_type": "markdown",
   "id": "solved-beginning",
   "metadata": {},
   "source": [
    "###  4.2) Résumé sur les meilleurs Hyper-paramètres selon les jeux de donénes 1 et 2"
   ]
  },
  {
   "cell_type": "code",
   "execution_count": 150,
   "id": "filled-induction",
   "metadata": {},
   "outputs": [],
   "source": [
    "df_sum = pd.DataFrame(model_opti_summary)"
   ]
  },
  {
   "cell_type": "code",
   "execution_count": 157,
   "id": "continued-combine",
   "metadata": {},
   "outputs": [],
   "source": [
    "df_sum.iloc[0,0]=\"Best model for TP1 : SVM_SVC(C:10,gamma:0.001)\"\n",
    "df_sum.iloc[1,0]=\"Best model for TP2 : SVM_SVC(C:100,gamma:0.001)\""
   ]
  },
  {
   "cell_type": "code",
   "execution_count": 158,
   "id": "commercial-loading",
   "metadata": {
    "scrolled": true
   },
   "outputs": [
    {
     "data": {
      "text/html": [
       "<div>\n",
       "<style scoped>\n",
       "    .dataframe tbody tr th:only-of-type {\n",
       "        vertical-align: middle;\n",
       "    }\n",
       "\n",
       "    .dataframe tbody tr th {\n",
       "        vertical-align: top;\n",
       "    }\n",
       "\n",
       "    .dataframe thead th {\n",
       "        text-align: right;\n",
       "    }\n",
       "</style>\n",
       "<table border=\"1\" class=\"dataframe\">\n",
       "  <thead>\n",
       "    <tr style=\"text-align: right;\">\n",
       "      <th></th>\n",
       "      <th>model</th>\n",
       "      <th>accuracy_score</th>\n",
       "    </tr>\n",
       "  </thead>\n",
       "  <tbody>\n",
       "    <tr>\n",
       "      <th>0</th>\n",
       "      <td>Best model for TP1 : SVM_SVC(C:10,gamma:0.001)</td>\n",
       "      <td>0.994</td>\n",
       "    </tr>\n",
       "    <tr>\n",
       "      <th>1</th>\n",
       "      <td>Best model for TP2 : SVM_SVC(C:100,gamma:0.001)</td>\n",
       "      <td>0.950</td>\n",
       "    </tr>\n",
       "  </tbody>\n",
       "</table>\n",
       "</div>"
      ],
      "text/plain": [
       "                                             model  accuracy_score\n",
       "0   Best model for TP1 : SVM_SVC(C:10,gamma:0.001)           0.994\n",
       "1  Best model for TP2 : SVM_SVC(C:100,gamma:0.001)           0.950"
      ]
     },
     "execution_count": 158,
     "metadata": {},
     "output_type": "execute_result"
    }
   ],
   "source": [
    "df_sum"
   ]
  },
  {
   "cell_type": "code",
   "execution_count": 160,
   "id": "downtown-candy",
   "metadata": {},
   "outputs": [
    {
     "data": {
      "image/png": "[encoded data removed]",
      "text/plain": [
       "<Figure size 720x360 with 1 Axes>"
      ]
     },
     "metadata": {
      "needs_background": "light"
     },
     "output_type": "display_data"
    }
   ],
   "source": [
    "figure = plt.figure(figsize=(10,5))\n",
    "ax = sn.barplot(y='accuracy_score', x='model', data=df_sum)\n",
    "# j'ajoute les valeurs\n",
    "for index, row in df_sum.iterrows():\n",
    "    ax.text(row.name,row.accuracy_score, round(row.accuracy_score,4), color='black', ha=\"center\")\n",
    "    \n",
    "plt.show()"
   ]
  },
  {
   "cell_type": "markdown",
   "id": "broken-chart",
   "metadata": {},
   "source": [
    "#### Commentaire :\n",
    "\n",
    "Enfin on peut observer la performance de nos 2 modèles, avec leur meilleur hyper paramètre respectif.\n",
    "\n",
    "Dans les 2 cas de figures : Un modèle SVM, type SVC avec comme hyper-paramètres C=10 (C=100) notre vitesse d'apprentissage et, Gamma=0.001, au départ nous étions parti d'un gamma = 0.7 mais lors de l'étape de recherche des régulateur optimal nous emmène à une réduction de ce dernier ce qui signifie que, afin de ne pas sur ajuster les données, on le réduit de tel sorte qu'on ait une frontère de décision beaucoup plus fine et donc, une courbe en cloche beaucoup plus élargit...bref, une zone d'influence pour élargit pour chaque observation."
   ]
  },
  {
   "cell_type": "markdown",
   "id": "universal-bottle",
   "metadata": {},
   "source": [
    "#### Autre chose :"
   ]
  },
  {
   "cell_type": "markdown",
   "id": "dental-insider",
   "metadata": {},
   "source": [
    "Le modèle LinearSVC semble aussi efficace qu'un modèle SVC."
   ]
  }
 ],
 "metadata": {
  "kernelspec": {
   "display_name": "Python 3",
   "language": "python",
   "name": "python3"
  },
  "language_info": {
   "codemirror_mode": {
    "name": "ipython",
    "version": 3
   },
   "file_extension": ".py",
   "mimetype": "text/x-python",
   "name": "python",
   "nbconvert_exporter": "python",
   "pygments_lexer": "ipython3",
   "version": "3.6.13"
  }
 },
 "nbformat": 4,
 "nbformat_minor": 5
}
