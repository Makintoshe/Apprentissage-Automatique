{
 "cells": [
  {
   "cell_type": "markdown",
   "id": "alternate-printer",
   "metadata": {},
   "source": [
    "# Travail pratique d'apprentissag automatique sur les Réseaux de Neuronnes avec Perceptron (MLP)"
   ]
  },
  {
   "cell_type": "markdown",
   "id": "applied-despite",
   "metadata": {},
   "source": [
    "### Réalisé par MULAPI TITA Ketsia"
   ]
  },
  {
   "cell_type": "code",
   "execution_count": 1,
   "id": "satisfactory-representation",
   "metadata": {},
   "outputs": [],
   "source": [
    "import pandas as pd"
   ]
  },
  {
   "cell_type": "code",
   "execution_count": 2,
   "id": "grand-palmer",
   "metadata": {},
   "outputs": [],
   "source": [
    "import numpy as np"
   ]
  },
  {
   "cell_type": "code",
   "execution_count": 3,
   "id": "aggregate-answer",
   "metadata": {},
   "outputs": [],
   "source": [
    "import matplotlib.pyplot as plt"
   ]
  },
  {
   "cell_type": "markdown",
   "id": "automatic-aluminum",
   "metadata": {},
   "source": [
    "## 1) Pretraitement"
   ]
  },
  {
   "cell_type": "code",
   "execution_count": 4,
   "id": "defensive-savings",
   "metadata": {},
   "outputs": [],
   "source": [
    "def pretraitement(path):\n",
    "    with open(path, 'r') as f:\n",
    "        lines = f.readlines()\n",
    "    classes=[]\n",
    "    XList=[]\n",
    "    YList=[]\n",
    "    for line in lines:\n",
    "        line = line.split(\" \")\n",
    "        classes.append(line[0])\n",
    "        XList.append(line[1])\n",
    "        YList.append(line[2].replace(\"\\n\",\"\"))\n",
    "    df = pd.DataFrame({\"classes\":classes,\"X\":XList,\"Y\":YList})\n",
    "    df.info()\n",
    "    return df"
   ]
  },
  {
   "cell_type": "code",
   "execution_count": 46,
   "id": "configured-lawrence",
   "metadata": {},
   "outputs": [
    {
     "name": "stdout",
     "output_type": "stream",
     "text": [
      "<class 'pandas.core.frame.DataFrame'>\n",
      "RangeIndex: 500 entries, 0 to 499\n",
      "Data columns (total 3 columns):\n",
      " #   Column   Non-Null Count  Dtype \n",
      "---  ------   --------------  ----- \n",
      " 0   classes  500 non-null    object\n",
      " 1   X        500 non-null    object\n",
      " 2   Y        500 non-null    object\n",
      "dtypes: object(3)\n",
      "memory usage: 11.8+ KB\n"
     ]
    }
   ],
   "source": [
    "df_app1 = pretraitement(\"data_tp1_app.txt\")"
   ]
  },
  {
   "cell_type": "code",
   "execution_count": 171,
   "id": "genuine-imaging",
   "metadata": {},
   "outputs": [],
   "source": [
    "def getClasses(df):\n",
    "    df.classes = df.classes.astype(\"int\")\n",
    "    df.X = df.X.astype(\"float\")\n",
    "    df.Y = df.Y.astype(\"float\")\n",
    "    return df"
   ]
  },
  {
   "cell_type": "code",
   "execution_count": 172,
   "id": "bearing-region",
   "metadata": {},
   "outputs": [],
   "source": [
    "df_app1 = getClasses(df_app1)"
   ]
  },
  {
   "cell_type": "code",
   "execution_count": 49,
   "id": "first-hormone",
   "metadata": {},
   "outputs": [],
   "source": [
    "def fromDFtoArray(df):\n",
    "    return np.array(df)"
   ]
  },
  {
   "cell_type": "markdown",
   "id": "consolidated-alias",
   "metadata": {},
   "source": [
    " Cette fonction nous permet d'ajouter un biais à notre jeux de données d'apprentissage ou, à notre n'importe quel dataset qui représenterai des valeurs devant passer apr une couche, afin qu'en entrée on puisse avoir 3 caractéristique (x,y,biais) avec biais=1 pour la couche d'entrée et donc, (x,y,...,biais) pour une couche quelconque."
   ]
  },
  {
   "cell_type": "code",
   "execution_count": 78,
   "id": "cloudy-standing",
   "metadata": {},
   "outputs": [],
   "source": [
    "def getDfWithBiais(df):\n",
    "    position = df.shape[1]\n",
    "    df.insert(position,\"Biais\",1)\n",
    "    return df"
   ]
  },
  {
   "cell_type": "markdown",
   "id": "worldwide-receptor",
   "metadata": {},
   "source": [
    "## 2)  Fonction d'activation et de transfert : calcul de la sortie obtenue"
   ]
  },
  {
   "cell_type": "code",
   "execution_count": 51,
   "id": "copyrighted-malta",
   "metadata": {},
   "outputs": [],
   "source": [
    "def noyau_activation(x):\n",
    "    return 1/(1+np.exp(-x))"
   ]
  },
  {
   "cell_type": "code",
   "execution_count": 52,
   "id": "computational-methodology",
   "metadata": {},
   "outputs": [],
   "source": [
    "def transfert_InputHidenOutput(df_data, df_Weight):\n",
    "    assert df_data.shape[1] == df_Weight.shape[0]\n",
    "    Entree = fromDFtoArray(df_data)\n",
    "    Poids_EH = fromDFtoArray(df_Weight) \n",
    "    return np.matmul(Entree,Poids_EH) "
   ]
  },
  {
   "cell_type": "markdown",
   "id": "precise-vehicle",
   "metadata": {},
   "source": [
    "## 3) Détermination du nombre de neuronne en couche caché"
   ]
  },
  {
   "cell_type": "markdown",
   "id": "northern-chaos",
   "metadata": {},
   "source": [
    "- 2 neuronne d'entrée + 5 neuronnes de sorties, le tout divisé par 2"
   ]
  },
  {
   "cell_type": "code",
   "execution_count": 53,
   "id": "dressed-exchange",
   "metadata": {},
   "outputs": [
    {
     "data": {
      "text/plain": [
       "4.0"
      ]
     },
     "execution_count": 53,
     "metadata": {},
     "output_type": "execute_result"
    }
   ],
   "source": [
    "nH = np.ceil((2 + 5) / 2)\n",
    "nH"
   ]
  },
  {
   "cell_type": "markdown",
   "id": "indoor-march",
   "metadata": {},
   "source": [
    "## 4)  Le taux d'apprentissage"
   ]
  },
  {
   "cell_type": "code",
   "execution_count": 54,
   "id": "catholic-siemens",
   "metadata": {},
   "outputs": [],
   "source": [
    "µ = 0.1"
   ]
  },
  {
   "cell_type": "markdown",
   "id": "equipped-trust",
   "metadata": {},
   "source": [
    "## 5)  Génération des poids, valeurs comprises entre -0.5 et 0.5"
   ]
  },
  {
   "cell_type": "markdown",
   "id": "solid-apartment",
   "metadata": {},
   "source": [
    "#### - Nombre de poids sans biais"
   ]
  },
  {
   "cell_type": "markdown",
   "id": "mental-vegetation",
   "metadata": {},
   "source": [
    "- Nombre de Poids entre la couche d'entrée et la couche cachée"
   ]
  },
  {
   "cell_type": "code",
   "execution_count": 55,
   "id": "functioning-franklin",
   "metadata": {},
   "outputs": [
    {
     "data": {
      "text/plain": [
       "8"
      ]
     },
     "execution_count": 55,
     "metadata": {},
     "output_type": "execute_result"
    }
   ],
   "source": [
    "NombredeWeight1 = 2*4\n",
    "NombredeWeight1"
   ]
  },
  {
   "cell_type": "markdown",
   "id": "satisfied-tracker",
   "metadata": {},
   "source": [
    "2 neuronne en entrée et 4 dans la couche cachée"
   ]
  },
  {
   "cell_type": "markdown",
   "id": "naked-begin",
   "metadata": {},
   "source": [
    "- Nombre de Poids entre la couche d'entrée et la couche cachée"
   ]
  },
  {
   "cell_type": "code",
   "execution_count": 56,
   "id": "varying-mentor",
   "metadata": {},
   "outputs": [
    {
     "data": {
      "text/plain": [
       "20"
      ]
     },
     "execution_count": 56,
     "metadata": {},
     "output_type": "execute_result"
    }
   ],
   "source": [
    "NombredeWeight2 = 4*5\n",
    "NombredeWeight2"
   ]
  },
  {
   "cell_type": "markdown",
   "id": "raised-highway",
   "metadata": {},
   "source": [
    "4 neuronnes dans la couche cachée et 5 dans la couche de sortie"
   ]
  },
  {
   "cell_type": "markdown",
   "id": "affecting-cancellation",
   "metadata": {},
   "source": [
    "##### Nota Bene : Comprenons donc que, ici les biais ne sont pas pris en compte!"
   ]
  },
  {
   "cell_type": "markdown",
   "id": "congressional-taxation",
   "metadata": {},
   "source": [
    "#### - Nombre de poids avec biais"
   ]
  },
  {
   "cell_type": "markdown",
   "id": "whole-story",
   "metadata": {},
   "source": [
    "- Fonction"
   ]
  },
  {
   "cell_type": "code",
   "execution_count": 57,
   "id": "waiting-movement",
   "metadata": {},
   "outputs": [],
   "source": [
    "def WeightGeneration(n,connexion):\n",
    "    #\n",
    "    W = np.linspace(-0.5,0.5,num=n) \n",
    "    #\n",
    "    if connexion==1 :\n",
    "        Weight_OF_EH = W.reshape((2, 4)) \n",
    "        BiaisW = np.linspace(-0.4,0.5,num=4)\n",
    "        B = BiaisW.reshape((1,4))\n",
    "    else :\n",
    "        Weight_OF_EH = W.reshape((4, 5)) \n",
    "        BiaisW = np.linspace(-0.4,0.5,num=5)\n",
    "        B = BiaisW.reshape((1,5))\n",
    "    #\n",
    "    TabOfWeight = np.concatenate((Weight_OF_EH,B),axis=0)\n",
    "    #    \n",
    "    W_df = pd.DataFrame(TabOfWeight)\n",
    "    print(W_df)\n",
    "    return W_df"
   ]
  },
  {
   "cell_type": "markdown",
   "id": "warming-electricity",
   "metadata": {},
   "source": [
    "Nota Bene : si la Connexion=1, cela représente les premières connexions, c'ets à dire, celle entre la couche d'entrée et la cocuhe cahcée. Sinon ce sont les autres, dont notamment la 2e partie des connexions, celle entre la couche cachée et la couche de sortie."
   ]
  },
  {
   "cell_type": "markdown",
   "id": "respective-coral",
   "metadata": {},
   "source": [
    "- Pour 6 neuronnes dont 2 en entrée et 4 dans la couche caché on doit avoir 12 poids avec ceux associés aux biais y compris. on notera ce pendant qu'il ne doit pas exister  de liaison entre le bais de la couche d'entrée et celui de sortie, cette laision est nulle, nous ferons alors en sorte que ce dernier ne soit pas considéré dans nos cacluls!\n",
    "\n",
    "Algo : Et donc pour les générer on prendre les 8 connexions (2 * 4) entre les neuronnes + les 4 autres connexion qui nous emmène à 12 (ces 4 autres sont complétés dans la fonction WeightGeneration)."
   ]
  },
  {
   "cell_type": "code",
   "execution_count": 58,
   "id": "muslim-diary",
   "metadata": {},
   "outputs": [
    {
     "name": "stdout",
     "output_type": "stream",
     "text": [
      "          0         1         2         3\n",
      "0 -0.500000 -0.357143 -0.214286 -0.071429\n",
      "1  0.071429  0.214286  0.357143  0.500000\n",
      "2 -0.400000 -0.100000  0.200000  0.500000\n"
     ]
    }
   ],
   "source": [
    "W_E_H = WeightGeneration(8,1)"
   ]
  },
  {
   "cell_type": "markdown",
   "id": "extra-proxy",
   "metadata": {},
   "source": [
    "Entre la couche d'entrée et la couche cachée on retrouve alors Nos 12 poids."
   ]
  },
  {
   "cell_type": "markdown",
   "id": "automotive-click",
   "metadata": {},
   "source": [
    "- Pour 9 neuronnes dont 4 dans la couche cachée et 5 dans la couche de sortie et 1 biais dans la couche cachée, on doit avoir 25 poids ! en raisons de 20 poids entre les neuronnes et 5 poids supplémentaires entre le bais et la couche de sortie."
   ]
  },
  {
   "cell_type": "code",
   "execution_count": 59,
   "id": "destroyed-console",
   "metadata": {},
   "outputs": [
    {
     "name": "stdout",
     "output_type": "stream",
     "text": [
      "          0         1         2         3         4\n",
      "0 -0.500000 -0.447368 -0.394737 -0.342105 -0.289474\n",
      "1 -0.236842 -0.184211 -0.131579 -0.078947 -0.026316\n",
      "2  0.026316  0.078947  0.131579  0.184211  0.236842\n",
      "3  0.289474  0.342105  0.394737  0.447368  0.500000\n",
      "4 -0.400000 -0.175000  0.050000  0.275000  0.500000\n"
     ]
    }
   ],
   "source": [
    "W_H_S = WeightGeneration(20,2)"
   ]
  },
  {
   "cell_type": "markdown",
   "id": "empty-anthropology",
   "metadata": {},
   "source": [
    "Enfin entre la couche cachée et la couche d'entrée, on retrouve nos 25 poids."
   ]
  },
  {
   "cell_type": "markdown",
   "id": "light-grave",
   "metadata": {},
   "source": [
    "##### Nota Bene : Comprenons donc que, ici les biais sont pris en compte, et c'est ce que nous allons utiliser. Le biais rappelons le, permet d'une manière ou d'une autre d'ajuster la froitère de décision qu'est l'hyperplan, d'où pour des donnés ou des cas pas facilement séparables au premier coup on sera dans l'obligation d'uiliser des bais afin de trouver le meilleur hyper plan."
   ]
  },
  {
   "cell_type": "markdown",
   "id": "outstanding-satin",
   "metadata": {},
   "source": [
    "# 🔽 Partie Chaînage avant"
   ]
  },
  {
   "cell_type": "markdown",
   "id": "supported-straight",
   "metadata": {},
   "source": [
    "## 6)  La couche d'entrée-cachée"
   ]
  },
  {
   "cell_type": "code",
   "execution_count": 60,
   "id": "genuine-english",
   "metadata": {},
   "outputs": [],
   "source": [
    "def InputLayer(df):\n",
    "    return AddBiaisInDF(df)"
   ]
  },
  {
   "cell_type": "code",
   "execution_count": 61,
   "id": "clear-miami",
   "metadata": {},
   "outputs": [
    {
     "name": "stdout",
     "output_type": "stream",
     "text": [
      "dimension Entrée-Cachée : (3, 4)  et dimension données app : (500, 3)\n"
     ]
    }
   ],
   "source": [
    "print(\"dimension Entrée-Cachée : \"+str(W_E_H.shape),\" et dimension données app : \"+str(df_app1.shape))"
   ]
  },
  {
   "cell_type": "markdown",
   "id": "casual-cycling",
   "metadata": {},
   "source": [
    "la première colonne étant celle des classes, nous allons la conserver de coté"
   ]
  },
  {
   "cell_type": "code",
   "execution_count": 80,
   "id": "recreational-marketing",
   "metadata": {},
   "outputs": [],
   "source": [
    "df_classes_app = df_app1.iloc[:,0]"
   ]
  },
  {
   "cell_type": "code",
   "execution_count": 81,
   "id": "changing-conference",
   "metadata": {},
   "outputs": [
    {
     "data": {
      "text/plain": [
       "0      1\n",
       "1      1\n",
       "2      1\n",
       "3      1\n",
       "4      1\n",
       "      ..\n",
       "495    5\n",
       "496    5\n",
       "497    5\n",
       "498    5\n",
       "499    5\n",
       "Name: classes, Length: 500, dtype: int64"
      ]
     },
     "execution_count": 81,
     "metadata": {},
     "output_type": "execute_result"
    }
   ],
   "source": [
    "df_classes_app"
   ]
  },
  {
   "cell_type": "markdown",
   "id": "present-stylus",
   "metadata": {},
   "source": [
    "Nous pouvons alors la récupérer dans un nouveau dataframe les coordonnées x et y puis ensuite ajouter à chaque point le biais=1."
   ]
  },
  {
   "cell_type": "markdown",
   "id": "latest-sleeve",
   "metadata": {},
   "source": [
    "- Récupération des X et des Y"
   ]
  },
  {
   "cell_type": "code",
   "execution_count": 82,
   "id": "revolutionary-cache",
   "metadata": {},
   "outputs": [],
   "source": [
    "data_app = df_app1.iloc[:,1:3]"
   ]
  },
  {
   "cell_type": "code",
   "execution_count": 83,
   "id": "faced-floor",
   "metadata": {},
   "outputs": [
    {
     "data": {
      "text/html": [
       "<div>\n",
       "<style scoped>\n",
       "    .dataframe tbody tr th:only-of-type {\n",
       "        vertical-align: middle;\n",
       "    }\n",
       "\n",
       "    .dataframe tbody tr th {\n",
       "        vertical-align: top;\n",
       "    }\n",
       "\n",
       "    .dataframe thead th {\n",
       "        text-align: right;\n",
       "    }\n",
       "</style>\n",
       "<table border=\"1\" class=\"dataframe\">\n",
       "  <thead>\n",
       "    <tr style=\"text-align: right;\">\n",
       "      <th></th>\n",
       "      <th>X</th>\n",
       "      <th>Y</th>\n",
       "    </tr>\n",
       "  </thead>\n",
       "  <tbody>\n",
       "    <tr>\n",
       "      <th>0</th>\n",
       "      <td>-6.315382</td>\n",
       "      <td>6.344938</td>\n",
       "    </tr>\n",
       "    <tr>\n",
       "      <th>1</th>\n",
       "      <td>-4.943573</td>\n",
       "      <td>7.821684</td>\n",
       "    </tr>\n",
       "    <tr>\n",
       "      <th>2</th>\n",
       "      <td>-8.920876</td>\n",
       "      <td>2.705258</td>\n",
       "    </tr>\n",
       "    <tr>\n",
       "      <th>3</th>\n",
       "      <td>-5.661533</td>\n",
       "      <td>7.425065</td>\n",
       "    </tr>\n",
       "    <tr>\n",
       "      <th>4</th>\n",
       "      <td>-5.918269</td>\n",
       "      <td>5.697313</td>\n",
       "    </tr>\n",
       "    <tr>\n",
       "      <th>...</th>\n",
       "      <td>...</td>\n",
       "      <td>...</td>\n",
       "    </tr>\n",
       "    <tr>\n",
       "      <th>495</th>\n",
       "      <td>-1.446325</td>\n",
       "      <td>-0.422072</td>\n",
       "    </tr>\n",
       "    <tr>\n",
       "      <th>496</th>\n",
       "      <td>0.261599</td>\n",
       "      <td>0.479059</td>\n",
       "    </tr>\n",
       "    <tr>\n",
       "      <th>497</th>\n",
       "      <td>-2.243814</td>\n",
       "      <td>-0.673345</td>\n",
       "    </tr>\n",
       "    <tr>\n",
       "      <th>498</th>\n",
       "      <td>-0.489892</td>\n",
       "      <td>0.282347</td>\n",
       "    </tr>\n",
       "    <tr>\n",
       "      <th>499</th>\n",
       "      <td>0.310185</td>\n",
       "      <td>0.024044</td>\n",
       "    </tr>\n",
       "  </tbody>\n",
       "</table>\n",
       "<p>500 rows × 2 columns</p>\n",
       "</div>"
      ],
      "text/plain": [
       "            X         Y\n",
       "0   -6.315382  6.344938\n",
       "1   -4.943573  7.821684\n",
       "2   -8.920876  2.705258\n",
       "3   -5.661533  7.425065\n",
       "4   -5.918269  5.697313\n",
       "..        ...       ...\n",
       "495 -1.446325 -0.422072\n",
       "496  0.261599  0.479059\n",
       "497 -2.243814 -0.673345\n",
       "498 -0.489892  0.282347\n",
       "499  0.310185  0.024044\n",
       "\n",
       "[500 rows x 2 columns]"
      ]
     },
     "execution_count": 83,
     "metadata": {},
     "output_type": "execute_result"
    }
   ],
   "source": [
    "data_app"
   ]
  },
  {
   "cell_type": "markdown",
   "id": "certain-injury",
   "metadata": {},
   "source": [
    "- Ajout des biais"
   ]
  },
  {
   "cell_type": "code",
   "execution_count": 84,
   "id": "administrative-friend",
   "metadata": {},
   "outputs": [
    {
     "data": {
      "text/plain": [
       "(500, 2)"
      ]
     },
     "execution_count": 84,
     "metadata": {},
     "output_type": "execute_result"
    }
   ],
   "source": [
    "data_app.shape"
   ]
  },
  {
   "cell_type": "code",
   "execution_count": 85,
   "id": "graduate-mitchell",
   "metadata": {},
   "outputs": [
    {
     "data": {
      "text/html": [
       "<div>\n",
       "<style scoped>\n",
       "    .dataframe tbody tr th:only-of-type {\n",
       "        vertical-align: middle;\n",
       "    }\n",
       "\n",
       "    .dataframe tbody tr th {\n",
       "        vertical-align: top;\n",
       "    }\n",
       "\n",
       "    .dataframe thead th {\n",
       "        text-align: right;\n",
       "    }\n",
       "</style>\n",
       "<table border=\"1\" class=\"dataframe\">\n",
       "  <thead>\n",
       "    <tr style=\"text-align: right;\">\n",
       "      <th></th>\n",
       "      <th>X</th>\n",
       "      <th>Y</th>\n",
       "      <th>Biais</th>\n",
       "    </tr>\n",
       "  </thead>\n",
       "  <tbody>\n",
       "    <tr>\n",
       "      <th>0</th>\n",
       "      <td>-6.315382</td>\n",
       "      <td>6.344938</td>\n",
       "      <td>1</td>\n",
       "    </tr>\n",
       "    <tr>\n",
       "      <th>1</th>\n",
       "      <td>-4.943573</td>\n",
       "      <td>7.821684</td>\n",
       "      <td>1</td>\n",
       "    </tr>\n",
       "    <tr>\n",
       "      <th>2</th>\n",
       "      <td>-8.920876</td>\n",
       "      <td>2.705258</td>\n",
       "      <td>1</td>\n",
       "    </tr>\n",
       "    <tr>\n",
       "      <th>3</th>\n",
       "      <td>-5.661533</td>\n",
       "      <td>7.425065</td>\n",
       "      <td>1</td>\n",
       "    </tr>\n",
       "    <tr>\n",
       "      <th>4</th>\n",
       "      <td>-5.918269</td>\n",
       "      <td>5.697313</td>\n",
       "      <td>1</td>\n",
       "    </tr>\n",
       "    <tr>\n",
       "      <th>...</th>\n",
       "      <td>...</td>\n",
       "      <td>...</td>\n",
       "      <td>...</td>\n",
       "    </tr>\n",
       "    <tr>\n",
       "      <th>495</th>\n",
       "      <td>-1.446325</td>\n",
       "      <td>-0.422072</td>\n",
       "      <td>1</td>\n",
       "    </tr>\n",
       "    <tr>\n",
       "      <th>496</th>\n",
       "      <td>0.261599</td>\n",
       "      <td>0.479059</td>\n",
       "      <td>1</td>\n",
       "    </tr>\n",
       "    <tr>\n",
       "      <th>497</th>\n",
       "      <td>-2.243814</td>\n",
       "      <td>-0.673345</td>\n",
       "      <td>1</td>\n",
       "    </tr>\n",
       "    <tr>\n",
       "      <th>498</th>\n",
       "      <td>-0.489892</td>\n",
       "      <td>0.282347</td>\n",
       "      <td>1</td>\n",
       "    </tr>\n",
       "    <tr>\n",
       "      <th>499</th>\n",
       "      <td>0.310185</td>\n",
       "      <td>0.024044</td>\n",
       "      <td>1</td>\n",
       "    </tr>\n",
       "  </tbody>\n",
       "</table>\n",
       "<p>500 rows × 3 columns</p>\n",
       "</div>"
      ],
      "text/plain": [
       "            X         Y  Biais\n",
       "0   -6.315382  6.344938      1\n",
       "1   -4.943573  7.821684      1\n",
       "2   -8.920876  2.705258      1\n",
       "3   -5.661533  7.425065      1\n",
       "4   -5.918269  5.697313      1\n",
       "..        ...       ...    ...\n",
       "495 -1.446325 -0.422072      1\n",
       "496  0.261599  0.479059      1\n",
       "497 -2.243814 -0.673345      1\n",
       "498 -0.489892  0.282347      1\n",
       "499  0.310185  0.024044      1\n",
       "\n",
       "[500 rows x 3 columns]"
      ]
     },
     "execution_count": 85,
     "metadata": {},
     "output_type": "execute_result"
    }
   ],
   "source": [
    "data_app = getDfWithBiais(data_app)\n",
    "data_app"
   ]
  },
  {
   "cell_type": "markdown",
   "id": "supreme-silence",
   "metadata": {},
   "source": [
    "- On vérifie si les conditions de dimension pour la multiplication matricielle sont respécté par les 2 dataframe Data et Poids :"
   ]
  },
  {
   "cell_type": "code",
   "execution_count": 86,
   "id": "authentic-complex",
   "metadata": {},
   "outputs": [
    {
     "data": {
      "text/plain": [
       "True"
      ]
     },
     "execution_count": 86,
     "metadata": {},
     "output_type": "execute_result"
    }
   ],
   "source": [
    "data_app.shape[1] == W_E_H.shape[0]"
   ]
  },
  {
   "cell_type": "markdown",
   "id": "three-extraction",
   "metadata": {},
   "source": [
    "- On obtient alors, la somme pondérée des valeurs en entrée par les poids."
   ]
  },
  {
   "cell_type": "code",
   "execution_count": 87,
   "id": "indian-tiffany",
   "metadata": {},
   "outputs": [
    {
     "data": {
      "text/plain": [
       "array([[ 3.21090086,  3.51512314,  3.81934543,  4.12356771],\n",
       "       [ 2.63047821,  3.34163693,  4.05279564,  4.76395436],\n",
       "       [ 4.25367071,  3.66572529,  3.07777986,  2.48983443],\n",
       "       ...,\n",
       "       [ 0.67381093,  0.55707393,  0.44033693,  0.32359993],\n",
       "       [-0.13488636,  0.13546436,  0.40581507,  0.67616579],\n",
       "       [-0.55337507, -0.20562807,  0.14211893,  0.48986593]])"
      ]
     },
     "execution_count": 87,
     "metadata": {},
     "output_type": "execute_result"
    }
   ],
   "source": [
    "data = transfert_InputHidenOutput(data_app, W_E_H)\n",
    "data"
   ]
  },
  {
   "cell_type": "markdown",
   "id": "alone-burning",
   "metadata": {},
   "source": [
    "chaque ligne ici est le résultat obtenu à partir d'un point (une entrée) et, chaque valeur dans une ligne est la somme pondérée obtenue sur un neuronne, il ne s'agit donc pas de la valeur obtenue après activation du neuronne, c'est ce que nosu faisons dans la suite. "
   ]
  },
  {
   "cell_type": "markdown",
   "id": "worthy-point",
   "metadata": {},
   "source": [
    "- On utilise alors la fonction d'activation pour chaque neuronne afin de determiner les valeurs de la couche cachée"
   ]
  },
  {
   "cell_type": "code",
   "execution_count": 88,
   "id": "important-campus",
   "metadata": {},
   "outputs": [],
   "source": [
    "def get_HiddenLayer(data):\n",
    "    dim = data.shape\n",
    "    # On active les neuronnes\n",
    "    for i in range(dim[0]):\n",
    "        for j in range(dim[1]):\n",
    "            data[i,j]=noyau_activation(data[i,j])\n",
    "    # On ajoute une colonne bias\n",
    "    Biais = np.linspace(1,1,num=dim[0])\n",
    "    Biais = Biais.reshape((dim[0],1))\n",
    "    #\n",
    "    data = np.concatenate((data,Biais),axis=1)\n",
    "    # nous retournons les valeurs de chaque neuronnes, après activation, pour chaque point\n",
    "    return data "
   ]
  },
  {
   "cell_type": "code",
   "execution_count": 89,
   "id": "permanent-order",
   "metadata": {},
   "outputs": [
    {
     "data": {
      "text/plain": [
       "array([[0.96124244, 0.97111502, 0.97852896, 0.98407117, 1.        ],\n",
       "       [0.93279753, 0.96582991, 0.98292296, 0.99154037, 1.        ],\n",
       "       [0.98598718, 0.97505268, 0.95596682, 0.9234261 , 1.        ],\n",
       "       ...,\n",
       "       [0.66235596, 0.63577523, 0.60833931, 0.58020133, 1.        ],\n",
       "       [0.46632945, 0.5338144 , 0.60008399, 0.6628824 , 1.        ],\n",
       "       [0.36508172, 0.44877336, 0.53547005, 0.62007485, 1.        ]])"
      ]
     },
     "execution_count": 89,
     "metadata": {},
     "output_type": "execute_result"
    }
   ],
   "source": [
    "HiddenLayer = get_HiddenLayer(data)\n",
    "HiddenLayer"
   ]
  },
  {
   "cell_type": "markdown",
   "id": "impressed-constraint",
   "metadata": {},
   "source": [
    "Voici que nous avons pu obtenir notre couche cachée, passant à présent au calcul de l'erreur local, tout juste avant de passer à la deuxième partie de ce travail sur la couche cachée-sortie."
   ]
  },
  {
   "cell_type": "markdown",
   "id": "modern-cambridge",
   "metadata": {},
   "source": [
    "## 8) La couche cachée-sortie"
   ]
  },
  {
   "cell_type": "code",
   "execution_count": 90,
   "id": "color-concrete",
   "metadata": {},
   "outputs": [
    {
     "data": {
      "text/plain": [
       "(5, 5)"
      ]
     },
     "execution_count": 90,
     "metadata": {},
     "output_type": "execute_result"
    }
   ],
   "source": [
    "W_H_S.shape"
   ]
  },
  {
   "cell_type": "code",
   "execution_count": 91,
   "id": "interesting-implement",
   "metadata": {},
   "outputs": [
    {
     "data": {
      "text/plain": [
       "(500, 5)"
      ]
     },
     "execution_count": 91,
     "metadata": {},
     "output_type": "execute_result"
    }
   ],
   "source": [
    "HiddenLayer.shape"
   ]
  },
  {
   "cell_type": "code",
   "execution_count": 92,
   "id": "suburban-vegetarian",
   "metadata": {},
   "outputs": [
    {
     "data": {
      "text/plain": [
       "True"
      ]
     },
     "execution_count": 92,
     "metadata": {},
     "output_type": "execute_result"
    }
   ],
   "source": [
    "HiddenLayer.shape[1] == W_H_S.shape[0]"
   ]
  },
  {
   "cell_type": "markdown",
   "id": "suspected-converter",
   "metadata": {},
   "source": [
    "là encore nous sommes rassuré que le produit matriciel passera."
   ]
  },
  {
   "cell_type": "markdown",
   "id": "organized-attribute",
   "metadata": {},
   "source": [
    "Donc on fait pareil, masi cette fois-ci avec nos deux dernières matrices de la cocuhe cachée et du poids respectivement : HiddenLayer, W_H_S"
   ]
  },
  {
   "cell_type": "code",
   "execution_count": 93,
   "id": "dress-exemption",
   "metadata": {},
   "outputs": [],
   "source": [
    "def get_Predict_OutPutLayer(data):\n",
    "    dim = data.shape\n",
    "    # On active les neuronnes\n",
    "    for i in range(dim[0]):\n",
    "        for j in range(dim[1]):\n",
    "            data[i,j]=noyau_activation(data[i,j])\n",
    "    # nous retournons les classifications de chaque points, après activation pour chaque point\n",
    "    return data "
   ]
  },
  {
   "cell_type": "code",
   "execution_count": 94,
   "id": "automatic-waterproof",
   "metadata": {},
   "outputs": [
    {
     "data": {
      "text/plain": [
       "array([[0.31002366, 0.40853839, 0.51499222, 0.62010281, 0.71503852],\n",
       "       [0.31383372, 0.41255579, 0.51885032, 0.62346554, 0.71771003],\n",
       "       [0.30333591, 0.40027138, 0.50569814, 0.61062059, 0.70621046],\n",
       "       ...,\n",
       "       [0.33230142, 0.41534391, 0.50349008, 0.59141984, 0.67386436],\n",
       "       [0.36542005, 0.44823497, 0.53402393, 0.61784644, 0.69519677],\n",
       "       [0.37865932, 0.45844855, 0.54042722, 0.62027492, 0.69410215]])"
      ]
     },
     "execution_count": 94,
     "metadata": {},
     "output_type": "execute_result"
    }
   ],
   "source": [
    "data = transfert_InputHidenOutput(HiddenLayer, W_H_S)\n",
    "predictions = get_Predict_OutPutLayer(data)\n",
    "predictions"
   ]
  },
  {
   "cell_type": "markdown",
   "id": "available-camera",
   "metadata": {},
   "source": [
    "On constate que l'on a pas les valeurs de sorties tel qu'on les attend par exemple, le premier point (la première ligne) est sensée nous donner 1 à la première valeur et 0 ailleurs. Et pourtant ici, on peut bien remarquer que nous avons d'autre valeurs. appliquons dans la suite le chaînage arrière en évaluant les erreurs."
   ]
  },
  {
   "cell_type": "markdown",
   "id": "controversial-video",
   "metadata": {},
   "source": [
    "# 🔽 Partie Chaînage arrière"
   ]
  },
  {
   "cell_type": "markdown",
   "id": "faced-delaware",
   "metadata": {},
   "source": [
    "## 7) Evaluations"
   ]
  },
  {
   "cell_type": "markdown",
   "id": "controlled-shirt",
   "metadata": {},
   "source": [
    "##  * CLassification"
   ]
  },
  {
   "cell_type": "code",
   "execution_count": 95,
   "id": "interim-exhibition",
   "metadata": {},
   "outputs": [],
   "source": [
    "def ConfigurationDesCLasses(sorties_attendues):\n",
    "    n = len(sorties_attendues)\n",
    "    outputValue = np.zeros((n,5))\n",
    "    start = 0\n",
    "    stop = 100\n",
    "    for i in range(5):\n",
    "        for j in range(start,stop):\n",
    "            for k in range(5):\n",
    "                if(sorties_attendues[j]-1==k):\n",
    "                    outputValue[j,k] = 1 \n",
    "        start += 100\n",
    "        stop += 100\n",
    "    return outputValue"
   ]
  },
  {
   "cell_type": "code",
   "execution_count": 96,
   "id": "finite-disability",
   "metadata": {},
   "outputs": [
    {
     "data": {
      "text/plain": [
       "array([[1., 0., 0., 0., 0.],\n",
       "       [1., 0., 0., 0., 0.],\n",
       "       [1., 0., 0., 0., 0.],\n",
       "       ...,\n",
       "       [0., 0., 0., 0., 1.],\n",
       "       [0., 0., 0., 0., 1.],\n",
       "       [0., 0., 0., 0., 1.]])"
      ]
     },
     "execution_count": 96,
     "metadata": {},
     "output_type": "execute_result"
    }
   ],
   "source": [
    "realite = ConfigurationDesCLasses(df_classes_app)\n",
    "realite"
   ]
  },
  {
   "cell_type": "markdown",
   "id": "deadly-wheat",
   "metadata": {},
   "source": [
    "## * taux de bonne performance"
   ]
  },
  {
   "cell_type": "code",
   "execution_count": 185,
   "id": "scenic-filename",
   "metadata": {},
   "outputs": [],
   "source": [
    "def accuracy_evaluation(realite, predits):\n",
    "    assert realite.shape == predits.shape\n",
    "    dim = realite.shape\n",
    "    bon = 0\n",
    "    for i in range(dim[0]):\n",
    "        for j in range(dim[1]):\n",
    "            if (realite[i,j]==1 and realite[i,j] == predits[i,j]):\n",
    "                bon += 1\n",
    "    score = (bon * 100.0) / dim[0]\n",
    "    print(\"le taux de performance est de : \",score,\" %\")\n",
    "    return score"
   ]
  },
  {
   "cell_type": "markdown",
   "id": "theoretical-mexican",
   "metadata": {},
   "source": [
    "### * Récupération des point mal classés"
   ]
  },
  {
   "cell_type": "code",
   "execution_count": 167,
   "id": "demographic-parent",
   "metadata": {},
   "outputs": [],
   "source": [
    "def recup_point_mal_et_bien(realite, predits,dataset):\n",
    "    assert realite.shape == predits.shape\n",
    "    dim = realite.shape\n",
    "    bad = pd.DataFrame()\n",
    "    good = pd.DataFrame()\n",
    "    for i in range(dim[0]):\n",
    "        for j in range(dim[1]):\n",
    "            if (realite[i,j]==1 and realite[i,j] != predits[i,j]) :\n",
    "                bad.iloc[i,j]=dataset.iloc[i,j]\n",
    "    for i in range(dim[0]):\n",
    "        for j in range(dim[1]):\n",
    "            if (realite[i,j]==1 and realite[i,j] == predits[i,j]) :\n",
    "                good.iloc[i,j]=dataset.iloc[i,j]\n",
    "    return bad, good"
   ]
  },
  {
   "cell_type": "markdown",
   "id": "completed-execution",
   "metadata": {},
   "source": [
    "## * Les erreurs"
   ]
  },
  {
   "cell_type": "markdown",
   "id": "about-dictionary",
   "metadata": {},
   "source": [
    "### - Erreur en sortie"
   ]
  },
  {
   "cell_type": "markdown",
   "id": "revised-mauritius",
   "metadata": {},
   "source": [
    "Formule :\n",
    "\n",
    "( get_Predict_OutPutLayer - Output_desire) * ( get_Predict_OutPutLayer * ( 1 - get_Predict_OutPutLayer ) )\n",
    "\n",
    "on lire : ( sortie obtenue - sortie désirée ) * ( sortie obtenue * (1 - sortie obtenue) )"
   ]
  },
  {
   "cell_type": "code",
   "execution_count": 98,
   "id": "computational-tours",
   "metadata": {},
   "outputs": [
    {
     "data": {
      "text/plain": [
       "array([[-0.14759214,  0.09871708,  0.1286323 ,  0.14608091,  0.14569513],\n",
       "       [-0.1477605 ,  0.09998434,  0.12952822,  0.14636244,  0.14540973],\n",
       "       [-0.14722131,  0.09608683,  0.12640812,  0.14518304,  0.1465226 ],\n",
       "       ...,\n",
       "       [ 0.07373011,  0.10085935,  0.12586639,  0.14291212, -0.07167522],\n",
       "       [ 0.08473661,  0.11085765,  0.13288778,  0.14588109, -0.06458726],\n",
       "       [ 0.08908962,  0.11382062,  0.13422355,  0.1460958 , -0.06494956]])"
      ]
     },
     "execution_count": 98,
     "metadata": {},
     "output_type": "execute_result"
    }
   ],
   "source": [
    "Output_Error = ( predictions - realite ) * ( predictions * ( 1 - predictions ) )\n",
    "Output_Error"
   ]
  },
  {
   "cell_type": "markdown",
   "id": "otherwise-demographic",
   "metadata": {},
   "source": [
    "### Et si on trichait ? Utilisons Une règle de décision : \"fonction marche de Heaviside\""
   ]
  },
  {
   "cell_type": "markdown",
   "id": "subjective-concrete",
   "metadata": {},
   "source": [
    "    S(Nsortie) = 1 si Erreur_Nsortie < 0\n",
    "\n",
    "    S(Nsortie) = 0 sinon (Erreur_Nsortie >= 0)"
   ]
  },
  {
   "cell_type": "code",
   "execution_count": 99,
   "id": "civic-means",
   "metadata": {},
   "outputs": [],
   "source": [
    "def heavside(OutputError):\n",
    "    dim = OutputError.shape\n",
    "    for i in range(dim[0]):\n",
    "        for j in range(dim[1]):\n",
    "            if(OutputError[i,j]<0):\n",
    "                OutputError[i,j] = 1\n",
    "            else :\n",
    "                OutputError[i,j] = 0\n",
    "        output = OutputError\n",
    "    return output"
   ]
  },
  {
   "cell_type": "code",
   "execution_count": 100,
   "id": "other-uncertainty",
   "metadata": {},
   "outputs": [
    {
     "data": {
      "text/plain": [
       "array([[1., 0., 0., 0., 0.],\n",
       "       [1., 0., 0., 0., 0.],\n",
       "       [1., 0., 0., 0., 0.],\n",
       "       ...,\n",
       "       [0., 0., 0., 0., 1.],\n",
       "       [0., 0., 0., 0., 1.],\n",
       "       [0., 0., 0., 0., 1.]])"
      ]
     },
     "execution_count": 100,
     "metadata": {},
     "output_type": "execute_result"
    }
   ],
   "source": [
    "predits = heavside(Output_Error)\n",
    "predits"
   ]
  },
  {
   "cell_type": "code",
   "execution_count": 101,
   "id": "departmental-techno",
   "metadata": {
    "scrolled": true
   },
   "outputs": [
    {
     "name": "stdout",
     "output_type": "stream",
     "text": [
      "[1. 0. 0. 0. 0.]\n",
      "[1. 0. 0. 0. 0.]\n",
      "[1. 0. 0. 0. 0.]\n",
      "[1. 0. 0. 0. 0.]\n",
      "[1. 0. 0. 0. 0.]\n",
      "[1. 0. 0. 0. 0.]\n",
      "[1. 0. 0. 0. 0.]\n",
      "[1. 0. 0. 0. 0.]\n",
      "[1. 0. 0. 0. 0.]\n",
      "[1. 0. 0. 0. 0.]\n",
      "[1. 0. 0. 0. 0.]\n",
      "[1. 0. 0. 0. 0.]\n",
      "[1. 0. 0. 0. 0.]\n",
      "[1. 0. 0. 0. 0.]\n",
      "[1. 0. 0. 0. 0.]\n",
      "[1. 0. 0. 0. 0.]\n",
      "[1. 0. 0. 0. 0.]\n",
      "[1. 0. 0. 0. 0.]\n",
      "[1. 0. 0. 0. 0.]\n",
      "[1. 0. 0. 0. 0.]\n",
      "[1. 0. 0. 0. 0.]\n",
      "[1. 0. 0. 0. 0.]\n",
      "[1. 0. 0. 0. 0.]\n",
      "[1. 0. 0. 0. 0.]\n",
      "[1. 0. 0. 0. 0.]\n",
      "[1. 0. 0. 0. 0.]\n",
      "[1. 0. 0. 0. 0.]\n",
      "[1. 0. 0. 0. 0.]\n",
      "[1. 0. 0. 0. 0.]\n",
      "[1. 0. 0. 0. 0.]\n",
      "[1. 0. 0. 0. 0.]\n",
      "[1. 0. 0. 0. 0.]\n",
      "[1. 0. 0. 0. 0.]\n",
      "[1. 0. 0. 0. 0.]\n",
      "[1. 0. 0. 0. 0.]\n",
      "[1. 0. 0. 0. 0.]\n",
      "[1. 0. 0. 0. 0.]\n",
      "[1. 0. 0. 0. 0.]\n",
      "[1. 0. 0. 0. 0.]\n",
      "[1. 0. 0. 0. 0.]\n",
      "[1. 0. 0. 0. 0.]\n",
      "[1. 0. 0. 0. 0.]\n",
      "[1. 0. 0. 0. 0.]\n",
      "[1. 0. 0. 0. 0.]\n",
      "[1. 0. 0. 0. 0.]\n",
      "[1. 0. 0. 0. 0.]\n",
      "[1. 0. 0. 0. 0.]\n",
      "[1. 0. 0. 0. 0.]\n",
      "[1. 0. 0. 0. 0.]\n",
      "[1. 0. 0. 0. 0.]\n",
      "[1. 0. 0. 0. 0.]\n",
      "[1. 0. 0. 0. 0.]\n",
      "[1. 0. 0. 0. 0.]\n",
      "[1. 0. 0. 0. 0.]\n",
      "[1. 0. 0. 0. 0.]\n",
      "[1. 0. 0. 0. 0.]\n",
      "[1. 0. 0. 0. 0.]\n",
      "[1. 0. 0. 0. 0.]\n",
      "[1. 0. 0. 0. 0.]\n",
      "[1. 0. 0. 0. 0.]\n",
      "[1. 0. 0. 0. 0.]\n",
      "[1. 0. 0. 0. 0.]\n",
      "[1. 0. 0. 0. 0.]\n",
      "[1. 0. 0. 0. 0.]\n",
      "[1. 0. 0. 0. 0.]\n",
      "[1. 0. 0. 0. 0.]\n",
      "[1. 0. 0. 0. 0.]\n",
      "[1. 0. 0. 0. 0.]\n",
      "[1. 0. 0. 0. 0.]\n",
      "[1. 0. 0. 0. 0.]\n",
      "[1. 0. 0. 0. 0.]\n",
      "[1. 0. 0. 0. 0.]\n",
      "[1. 0. 0. 0. 0.]\n",
      "[1. 0. 0. 0. 0.]\n",
      "[1. 0. 0. 0. 0.]\n",
      "[1. 0. 0. 0. 0.]\n",
      "[1. 0. 0. 0. 0.]\n",
      "[1. 0. 0. 0. 0.]\n",
      "[1. 0. 0. 0. 0.]\n",
      "[1. 0. 0. 0. 0.]\n",
      "[1. 0. 0. 0. 0.]\n",
      "[1. 0. 0. 0. 0.]\n",
      "[1. 0. 0. 0. 0.]\n",
      "[1. 0. 0. 0. 0.]\n",
      "[1. 0. 0. 0. 0.]\n",
      "[1. 0. 0. 0. 0.]\n",
      "[1. 0. 0. 0. 0.]\n",
      "[1. 0. 0. 0. 0.]\n",
      "[1. 0. 0. 0. 0.]\n",
      "[1. 0. 0. 0. 0.]\n",
      "[1. 0. 0. 0. 0.]\n",
      "[1. 0. 0. 0. 0.]\n",
      "[1. 0. 0. 0. 0.]\n",
      "[1. 0. 0. 0. 0.]\n",
      "[1. 0. 0. 0. 0.]\n",
      "[1. 0. 0. 0. 0.]\n",
      "[1. 0. 0. 0. 0.]\n",
      "[1. 0. 0. 0. 0.]\n",
      "[1. 0. 0. 0. 0.]\n",
      "[1. 0. 0. 0. 0.]\n",
      "[0. 1. 0. 0. 0.]\n",
      "[0. 1. 0. 0. 0.]\n",
      "[0. 1. 0. 0. 0.]\n",
      "[0. 1. 0. 0. 0.]\n",
      "[0. 1. 0. 0. 0.]\n",
      "[0. 1. 0. 0. 0.]\n",
      "[0. 1. 0. 0. 0.]\n",
      "[0. 1. 0. 0. 0.]\n",
      "[0. 1. 0. 0. 0.]\n",
      "[0. 1. 0. 0. 0.]\n",
      "[0. 1. 0. 0. 0.]\n",
      "[0. 1. 0. 0. 0.]\n",
      "[0. 1. 0. 0. 0.]\n",
      "[0. 1. 0. 0. 0.]\n",
      "[0. 1. 0. 0. 0.]\n",
      "[0. 1. 0. 0. 0.]\n",
      "[0. 1. 0. 0. 0.]\n",
      "[0. 1. 0. 0. 0.]\n",
      "[0. 1. 0. 0. 0.]\n",
      "[0. 1. 0. 0. 0.]\n",
      "[0. 1. 0. 0. 0.]\n",
      "[0. 1. 0. 0. 0.]\n",
      "[0. 1. 0. 0. 0.]\n",
      "[0. 1. 0. 0. 0.]\n",
      "[0. 1. 0. 0. 0.]\n",
      "[0. 1. 0. 0. 0.]\n",
      "[0. 1. 0. 0. 0.]\n",
      "[0. 1. 0. 0. 0.]\n",
      "[0. 1. 0. 0. 0.]\n",
      "[0. 1. 0. 0. 0.]\n",
      "[0. 1. 0. 0. 0.]\n",
      "[0. 1. 0. 0. 0.]\n",
      "[0. 1. 0. 0. 0.]\n",
      "[0. 1. 0. 0. 0.]\n",
      "[0. 1. 0. 0. 0.]\n",
      "[0. 1. 0. 0. 0.]\n",
      "[0. 1. 0. 0. 0.]\n",
      "[0. 1. 0. 0. 0.]\n",
      "[0. 1. 0. 0. 0.]\n",
      "[0. 1. 0. 0. 0.]\n",
      "[0. 1. 0. 0. 0.]\n",
      "[0. 1. 0. 0. 0.]\n",
      "[0. 1. 0. 0. 0.]\n",
      "[0. 1. 0. 0. 0.]\n",
      "[0. 1. 0. 0. 0.]\n",
      "[0. 1. 0. 0. 0.]\n",
      "[0. 1. 0. 0. 0.]\n",
      "[0. 1. 0. 0. 0.]\n",
      "[0. 1. 0. 0. 0.]\n",
      "[0. 1. 0. 0. 0.]\n",
      "[0. 1. 0. 0. 0.]\n",
      "[0. 1. 0. 0. 0.]\n",
      "[0. 1. 0. 0. 0.]\n",
      "[0. 1. 0. 0. 0.]\n",
      "[0. 1. 0. 0. 0.]\n",
      "[0. 1. 0. 0. 0.]\n",
      "[0. 1. 0. 0. 0.]\n",
      "[0. 1. 0. 0. 0.]\n",
      "[0. 1. 0. 0. 0.]\n",
      "[0. 1. 0. 0. 0.]\n",
      "[0. 1. 0. 0. 0.]\n",
      "[0. 1. 0. 0. 0.]\n",
      "[0. 1. 0. 0. 0.]\n",
      "[0. 1. 0. 0. 0.]\n",
      "[0. 1. 0. 0. 0.]\n",
      "[0. 1. 0. 0. 0.]\n",
      "[0. 1. 0. 0. 0.]\n",
      "[0. 1. 0. 0. 0.]\n",
      "[0. 1. 0. 0. 0.]\n",
      "[0. 1. 0. 0. 0.]\n",
      "[0. 1. 0. 0. 0.]\n",
      "[0. 1. 0. 0. 0.]\n",
      "[0. 1. 0. 0. 0.]\n",
      "[0. 1. 0. 0. 0.]\n",
      "[0. 1. 0. 0. 0.]\n",
      "[0. 1. 0. 0. 0.]\n",
      "[0. 1. 0. 0. 0.]\n",
      "[0. 1. 0. 0. 0.]\n",
      "[0. 1. 0. 0. 0.]\n",
      "[0. 1. 0. 0. 0.]\n",
      "[0. 1. 0. 0. 0.]\n",
      "[0. 1. 0. 0. 0.]\n",
      "[0. 1. 0. 0. 0.]\n",
      "[0. 1. 0. 0. 0.]\n",
      "[0. 1. 0. 0. 0.]\n",
      "[0. 1. 0. 0. 0.]\n",
      "[0. 1. 0. 0. 0.]\n",
      "[0. 1. 0. 0. 0.]\n",
      "[0. 1. 0. 0. 0.]\n",
      "[0. 1. 0. 0. 0.]\n",
      "[0. 1. 0. 0. 0.]\n",
      "[0. 1. 0. 0. 0.]\n",
      "[0. 1. 0. 0. 0.]\n",
      "[0. 1. 0. 0. 0.]\n",
      "[0. 1. 0. 0. 0.]\n",
      "[0. 1. 0. 0. 0.]\n",
      "[0. 1. 0. 0. 0.]\n",
      "[0. 1. 0. 0. 0.]\n",
      "[0. 1. 0. 0. 0.]\n",
      "[0. 1. 0. 0. 0.]\n",
      "[0. 0. 1. 0. 0.]\n",
      "[0. 0. 1. 0. 0.]\n",
      "[0. 0. 1. 0. 0.]\n",
      "[0. 0. 1. 0. 0.]\n",
      "[0. 0. 1. 0. 0.]\n",
      "[0. 0. 1. 0. 0.]\n",
      "[0. 0. 1. 0. 0.]\n",
      "[0. 0. 1. 0. 0.]\n",
      "[0. 0. 1. 0. 0.]\n",
      "[0. 0. 1. 0. 0.]\n",
      "[0. 0. 1. 0. 0.]\n",
      "[0. 0. 1. 0. 0.]\n",
      "[0. 0. 1. 0. 0.]\n",
      "[0. 0. 1. 0. 0.]\n",
      "[0. 0. 1. 0. 0.]\n",
      "[0. 0. 1. 0. 0.]\n",
      "[0. 0. 1. 0. 0.]\n",
      "[0. 0. 1. 0. 0.]\n",
      "[0. 0. 1. 0. 0.]\n",
      "[0. 0. 1. 0. 0.]\n",
      "[0. 0. 1. 0. 0.]\n",
      "[0. 0. 1. 0. 0.]\n",
      "[0. 0. 1. 0. 0.]\n",
      "[0. 0. 1. 0. 0.]\n",
      "[0. 0. 1. 0. 0.]\n",
      "[0. 0. 1. 0. 0.]\n",
      "[0. 0. 1. 0. 0.]\n",
      "[0. 0. 1. 0. 0.]\n",
      "[0. 0. 1. 0. 0.]\n",
      "[0. 0. 1. 0. 0.]\n",
      "[0. 0. 1. 0. 0.]\n",
      "[0. 0. 1. 0. 0.]\n",
      "[0. 0. 1. 0. 0.]\n",
      "[0. 0. 1. 0. 0.]\n",
      "[0. 0. 1. 0. 0.]\n",
      "[0. 0. 1. 0. 0.]\n",
      "[0. 0. 1. 0. 0.]\n",
      "[0. 0. 1. 0. 0.]\n",
      "[0. 0. 1. 0. 0.]\n",
      "[0. 0. 1. 0. 0.]\n",
      "[0. 0. 1. 0. 0.]\n",
      "[0. 0. 1. 0. 0.]\n",
      "[0. 0. 1. 0. 0.]\n",
      "[0. 0. 1. 0. 0.]\n",
      "[0. 0. 1. 0. 0.]\n",
      "[0. 0. 1. 0. 0.]\n",
      "[0. 0. 1. 0. 0.]\n",
      "[0. 0. 1. 0. 0.]\n",
      "[0. 0. 1. 0. 0.]\n",
      "[0. 0. 1. 0. 0.]\n",
      "[0. 0. 1. 0. 0.]\n",
      "[0. 0. 1. 0. 0.]\n",
      "[0. 0. 1. 0. 0.]\n",
      "[0. 0. 1. 0. 0.]\n",
      "[0. 0. 1. 0. 0.]\n",
      "[0. 0. 1. 0. 0.]\n",
      "[0. 0. 1. 0. 0.]\n",
      "[0. 0. 1. 0. 0.]\n",
      "[0. 0. 1. 0. 0.]\n",
      "[0. 0. 1. 0. 0.]\n",
      "[0. 0. 1. 0. 0.]\n",
      "[0. 0. 1. 0. 0.]\n",
      "[0. 0. 1. 0. 0.]\n",
      "[0. 0. 1. 0. 0.]\n",
      "[0. 0. 1. 0. 0.]\n",
      "[0. 0. 1. 0. 0.]\n",
      "[0. 0. 1. 0. 0.]\n",
      "[0. 0. 1. 0. 0.]\n",
      "[0. 0. 1. 0. 0.]\n",
      "[0. 0. 1. 0. 0.]\n",
      "[0. 0. 1. 0. 0.]\n",
      "[0. 0. 1. 0. 0.]\n",
      "[0. 0. 1. 0. 0.]\n",
      "[0. 0. 1. 0. 0.]\n",
      "[0. 0. 1. 0. 0.]\n",
      "[0. 0. 1. 0. 0.]\n",
      "[0. 0. 1. 0. 0.]\n",
      "[0. 0. 1. 0. 0.]\n",
      "[0. 0. 1. 0. 0.]\n",
      "[0. 0. 1. 0. 0.]\n",
      "[0. 0. 1. 0. 0.]\n",
      "[0. 0. 1. 0. 0.]\n",
      "[0. 0. 1. 0. 0.]\n",
      "[0. 0. 1. 0. 0.]\n",
      "[0. 0. 1. 0. 0.]\n",
      "[0. 0. 1. 0. 0.]\n",
      "[0. 0. 1. 0. 0.]\n",
      "[0. 0. 1. 0. 0.]\n",
      "[0. 0. 1. 0. 0.]\n",
      "[0. 0. 1. 0. 0.]\n",
      "[0. 0. 1. 0. 0.]\n",
      "[0. 0. 1. 0. 0.]\n",
      "[0. 0. 1. 0. 0.]\n",
      "[0. 0. 1. 0. 0.]\n",
      "[0. 0. 1. 0. 0.]\n",
      "[0. 0. 1. 0. 0.]\n",
      "[0. 0. 1. 0. 0.]\n",
      "[0. 0. 1. 0. 0.]\n",
      "[0. 0. 1. 0. 0.]\n",
      "[0. 0. 1. 0. 0.]\n",
      "[0. 0. 0. 1. 0.]\n",
      "[0. 0. 0. 1. 0.]\n",
      "[0. 0. 0. 1. 0.]\n",
      "[0. 0. 0. 1. 0.]\n",
      "[0. 0. 0. 1. 0.]\n",
      "[0. 0. 0. 1. 0.]\n",
      "[0. 0. 0. 1. 0.]\n",
      "[0. 0. 0. 1. 0.]\n",
      "[0. 0. 0. 1. 0.]\n",
      "[0. 0. 0. 1. 0.]\n",
      "[0. 0. 0. 1. 0.]\n",
      "[0. 0. 0. 1. 0.]\n",
      "[0. 0. 0. 1. 0.]\n",
      "[0. 0. 0. 1. 0.]\n",
      "[0. 0. 0. 1. 0.]\n",
      "[0. 0. 0. 1. 0.]\n",
      "[0. 0. 0. 1. 0.]\n",
      "[0. 0. 0. 1. 0.]\n",
      "[0. 0. 0. 1. 0.]\n",
      "[0. 0. 0. 1. 0.]\n",
      "[0. 0. 0. 1. 0.]\n",
      "[0. 0. 0. 1. 0.]\n",
      "[0. 0. 0. 1. 0.]\n",
      "[0. 0. 0. 1. 0.]\n",
      "[0. 0. 0. 1. 0.]\n",
      "[0. 0. 0. 1. 0.]\n",
      "[0. 0. 0. 1. 0.]\n",
      "[0. 0. 0. 1. 0.]\n",
      "[0. 0. 0. 1. 0.]\n",
      "[0. 0. 0. 1. 0.]\n",
      "[0. 0. 0. 1. 0.]\n",
      "[0. 0. 0. 1. 0.]\n",
      "[0. 0. 0. 1. 0.]\n",
      "[0. 0. 0. 1. 0.]\n",
      "[0. 0. 0. 1. 0.]\n",
      "[0. 0. 0. 1. 0.]\n",
      "[0. 0. 0. 1. 0.]\n",
      "[0. 0. 0. 1. 0.]\n",
      "[0. 0. 0. 1. 0.]\n",
      "[0. 0. 0. 1. 0.]\n",
      "[0. 0. 0. 1. 0.]\n",
      "[0. 0. 0. 1. 0.]\n",
      "[0. 0. 0. 1. 0.]\n",
      "[0. 0. 0. 1. 0.]\n",
      "[0. 0. 0. 1. 0.]\n",
      "[0. 0. 0. 1. 0.]\n",
      "[0. 0. 0. 1. 0.]\n",
      "[0. 0. 0. 1. 0.]\n",
      "[0. 0. 0. 1. 0.]\n",
      "[0. 0. 0. 1. 0.]\n",
      "[0. 0. 0. 1. 0.]\n",
      "[0. 0. 0. 1. 0.]\n",
      "[0. 0. 0. 1. 0.]\n",
      "[0. 0. 0. 1. 0.]\n",
      "[0. 0. 0. 1. 0.]\n",
      "[0. 0. 0. 1. 0.]\n",
      "[0. 0. 0. 1. 0.]\n",
      "[0. 0. 0. 1. 0.]\n",
      "[0. 0. 0. 1. 0.]\n",
      "[0. 0. 0. 1. 0.]\n",
      "[0. 0. 0. 1. 0.]\n",
      "[0. 0. 0. 1. 0.]\n",
      "[0. 0. 0. 1. 0.]\n",
      "[0. 0. 0. 1. 0.]\n",
      "[0. 0. 0. 1. 0.]\n",
      "[0. 0. 0. 1. 0.]\n",
      "[0. 0. 0. 1. 0.]\n",
      "[0. 0. 0. 1. 0.]\n",
      "[0. 0. 0. 1. 0.]\n",
      "[0. 0. 0. 1. 0.]\n",
      "[0. 0. 0. 1. 0.]\n",
      "[0. 0. 0. 1. 0.]\n",
      "[0. 0. 0. 1. 0.]\n",
      "[0. 0. 0. 1. 0.]\n",
      "[0. 0. 0. 1. 0.]\n",
      "[0. 0. 0. 1. 0.]\n",
      "[0. 0. 0. 1. 0.]\n",
      "[0. 0. 0. 1. 0.]\n",
      "[0. 0. 0. 1. 0.]\n",
      "[0. 0. 0. 1. 0.]\n",
      "[0. 0. 0. 1. 0.]\n",
      "[0. 0. 0. 1. 0.]\n",
      "[0. 0. 0. 1. 0.]\n",
      "[0. 0. 0. 1. 0.]\n",
      "[0. 0. 0. 1. 0.]\n",
      "[0. 0. 0. 1. 0.]\n",
      "[0. 0. 0. 1. 0.]\n",
      "[0. 0. 0. 1. 0.]\n",
      "[0. 0. 0. 1. 0.]\n",
      "[0. 0. 0. 1. 0.]\n",
      "[0. 0. 0. 1. 0.]\n",
      "[0. 0. 0. 1. 0.]\n",
      "[0. 0. 0. 1. 0.]\n",
      "[0. 0. 0. 1. 0.]\n",
      "[0. 0. 0. 1. 0.]\n",
      "[0. 0. 0. 1. 0.]\n",
      "[0. 0. 0. 1. 0.]\n",
      "[0. 0. 0. 1. 0.]\n",
      "[0. 0. 0. 1. 0.]\n",
      "[0. 0. 0. 1. 0.]\n",
      "[0. 0. 0. 0. 1.]\n",
      "[0. 0. 0. 0. 1.]\n",
      "[0. 0. 0. 0. 1.]\n",
      "[0. 0. 0. 0. 1.]\n",
      "[0. 0. 0. 0. 1.]\n",
      "[0. 0. 0. 0. 1.]\n",
      "[0. 0. 0. 0. 1.]\n",
      "[0. 0. 0. 0. 1.]\n",
      "[0. 0. 0. 0. 1.]\n",
      "[0. 0. 0. 0. 1.]\n",
      "[0. 0. 0. 0. 1.]\n",
      "[0. 0. 0. 0. 1.]\n",
      "[0. 0. 0. 0. 1.]\n",
      "[0. 0. 0. 0. 1.]\n",
      "[0. 0. 0. 0. 1.]\n",
      "[0. 0. 0. 0. 1.]\n",
      "[0. 0. 0. 0. 1.]\n",
      "[0. 0. 0. 0. 1.]\n",
      "[0. 0. 0. 0. 1.]\n",
      "[0. 0. 0. 0. 1.]\n",
      "[0. 0. 0. 0. 1.]\n",
      "[0. 0. 0. 0. 1.]\n",
      "[0. 0. 0. 0. 1.]\n",
      "[0. 0. 0. 0. 1.]\n",
      "[0. 0. 0. 0. 1.]\n",
      "[0. 0. 0. 0. 1.]\n",
      "[0. 0. 0. 0. 1.]\n",
      "[0. 0. 0. 0. 1.]\n",
      "[0. 0. 0. 0. 1.]\n",
      "[0. 0. 0. 0. 1.]\n",
      "[0. 0. 0. 0. 1.]\n",
      "[0. 0. 0. 0. 1.]\n",
      "[0. 0. 0. 0. 1.]\n",
      "[0. 0. 0. 0. 1.]\n",
      "[0. 0. 0. 0. 1.]\n",
      "[0. 0. 0. 0. 1.]\n",
      "[0. 0. 0. 0. 1.]\n",
      "[0. 0. 0. 0. 1.]\n",
      "[0. 0. 0. 0. 1.]\n",
      "[0. 0. 0. 0. 1.]\n",
      "[0. 0. 0. 0. 1.]\n",
      "[0. 0. 0. 0. 1.]\n",
      "[0. 0. 0. 0. 1.]\n",
      "[0. 0. 0. 0. 1.]\n",
      "[0. 0. 0. 0. 1.]\n",
      "[0. 0. 0. 0. 1.]\n",
      "[0. 0. 0. 0. 1.]\n",
      "[0. 0. 0. 0. 1.]\n",
      "[0. 0. 0. 0. 1.]\n",
      "[0. 0. 0. 0. 1.]\n",
      "[0. 0. 0. 0. 1.]\n",
      "[0. 0. 0. 0. 1.]\n",
      "[0. 0. 0. 0. 1.]\n",
      "[0. 0. 0. 0. 1.]\n",
      "[0. 0. 0. 0. 1.]\n",
      "[0. 0. 0. 0. 1.]\n",
      "[0. 0. 0. 0. 1.]\n",
      "[0. 0. 0. 0. 1.]\n",
      "[0. 0. 0. 0. 1.]\n",
      "[0. 0. 0. 0. 1.]\n",
      "[0. 0. 0. 0. 1.]\n",
      "[0. 0. 0. 0. 1.]\n",
      "[0. 0. 0. 0. 1.]\n",
      "[0. 0. 0. 0. 1.]\n",
      "[0. 0. 0. 0. 1.]\n",
      "[0. 0. 0. 0. 1.]\n",
      "[0. 0. 0. 0. 1.]\n",
      "[0. 0. 0. 0. 1.]\n",
      "[0. 0. 0. 0. 1.]\n",
      "[0. 0. 0. 0. 1.]\n",
      "[0. 0. 0. 0. 1.]\n",
      "[0. 0. 0. 0. 1.]\n",
      "[0. 0. 0. 0. 1.]\n",
      "[0. 0. 0. 0. 1.]\n",
      "[0. 0. 0. 0. 1.]\n",
      "[0. 0. 0. 0. 1.]\n",
      "[0. 0. 0. 0. 1.]\n",
      "[0. 0. 0. 0. 1.]\n",
      "[0. 0. 0. 0. 1.]\n",
      "[0. 0. 0. 0. 1.]\n",
      "[0. 0. 0. 0. 1.]\n",
      "[0. 0. 0. 0. 1.]\n",
      "[0. 0. 0. 0. 1.]\n",
      "[0. 0. 0. 0. 1.]\n",
      "[0. 0. 0. 0. 1.]\n",
      "[0. 0. 0. 0. 1.]\n",
      "[0. 0. 0. 0. 1.]\n",
      "[0. 0. 0. 0. 1.]\n",
      "[0. 0. 0. 0. 1.]\n",
      "[0. 0. 0. 0. 1.]\n",
      "[0. 0. 0. 0. 1.]\n",
      "[0. 0. 0. 0. 1.]\n",
      "[0. 0. 0. 0. 1.]\n",
      "[0. 0. 0. 0. 1.]\n",
      "[0. 0. 0. 0. 1.]\n",
      "[0. 0. 0. 0. 1.]\n",
      "[0. 0. 0. 0. 1.]\n",
      "[0. 0. 0. 0. 1.]\n",
      "[0. 0. 0. 0. 1.]\n",
      "[0. 0. 0. 0. 1.]\n"
     ]
    }
   ],
   "source": [
    "for i in range(500):\n",
    "        print(predits[i,:])"
   ]
  },
  {
   "cell_type": "code",
   "execution_count": 102,
   "id": "centered-picture",
   "metadata": {},
   "outputs": [
    {
     "data": {
      "text/plain": [
       "('le taux de performance est de : ', 100.0, ' %')"
      ]
     },
     "execution_count": 102,
     "metadata": {},
     "output_type": "execute_result"
    }
   ],
   "source": [
    "accuracy_evaluation(realite, predits)"
   ]
  },
  {
   "cell_type": "markdown",
   "id": "peripheral-beatles",
   "metadata": {},
   "source": [
    "Ceci me pousse à affirmer que les réseaux de neuronnes sur apprennent, en effet, autant nos données du dataset 1 sont très bien linéairement séparable, autant la recherche d'un hyperplan idéal est loins d'être fastidieux et donc, si pour chaque valeur obtenue en prédiction, on rejoins le score de 100% cela revient à dire qu'il n'ya pas eu d'erreurs, ce pendant, dans le cas contraire, on aurait fait une modification des poids, pour chaque points mal classés."
   ]
  },
  {
   "cell_type": "markdown",
   "id": "individual-coordinator",
   "metadata": {},
   "source": [
    "## * Modification des poids"
   ]
  },
  {
   "cell_type": "code",
   "execution_count": 104,
   "id": "infrared-fruit",
   "metadata": {},
   "outputs": [],
   "source": [
    "def Weight_update(MatricePoids, µ, Erreur, NeuronneValue):\n",
    "    dim = MatricePoids.shape\n",
    "    New_poids = np.zeros((dim[0],dim[1]))\n",
    "    Err_V = Erreur*NeuronneValue # liste des points mal classé\n",
    "    New_poids = []\n",
    "    for i in range(Err_V.shape[0]): # pour chaque point mal classé\n",
    "        for j in range(dim[0]):\n",
    "            for k in range(dim[1]):\n",
    "                MatricePoids[k,j] = MatricePoids[k,j]-(µ*Err_V[i,k])\n",
    "        New_poids.append(MatricePoids)\n",
    "    return MatricePoids"
   ]
  },
  {
   "cell_type": "markdown",
   "id": "necessary-equipment",
   "metadata": {},
   "source": [
    "### - Erreur dans cachée"
   ]
  },
  {
   "cell_type": "markdown",
   "id": "alternative-estonia",
   "metadata": {},
   "source": [
    "Formule :\n",
    "\n",
    "( Somme( Output_Error  * Poids_OutputLayer(i,k) ) * HiddenLayer(i) * ( 1 - HiddenLayer(i) )\n",
    "\n",
    "on lire : ( Erreurs_des_sorties_obtenues * Poids_Entre_CoucheCachee_Sortie ) * ( NeuronneCache(i) * (1 - NeuronneCache(i) ) )"
   ]
  },
  {
   "cell_type": "code",
   "execution_count": 107,
   "id": "middle-employer",
   "metadata": {},
   "outputs": [],
   "source": [
    "Hidden_Error = ( Output_Error@W_H_S ) * ( HiddenLayer * ( 1 - HiddenLayer ) )"
   ]
  },
  {
   "cell_type": "markdown",
   "id": "instrumental-governor",
   "metadata": {},
   "source": [
    "### - Erreur en entrée"
   ]
  },
  {
   "cell_type": "markdown",
   "id": "gothic-mobile",
   "metadata": {},
   "source": [
    "Formule :\n",
    "\n",
    "( Somme( Hidden_Error  * Poids_HiddenLayer(i,k-1) ) * InputLayer(i) * ( 1 - InputLayer(i) )\n",
    "\n",
    "on lire : ( Erreurs_a_l_entree * Poids_Entre_CoucheCachee_Input ) * ( NeuronneInput(i) * (1 - NeuronneInput(i) ) )"
   ]
  },
  {
   "cell_type": "code",
   "execution_count": 126,
   "id": "serial-boards",
   "metadata": {},
   "outputs": [],
   "source": [
    " Hidden_Error_Without_Biais = Hidden_Error.iloc[:,:4]"
   ]
  },
  {
   "cell_type": "code",
   "execution_count": 158,
   "id": "therapeutic-boulder",
   "metadata": {},
   "outputs": [],
   "source": [
    "Input_Error = Hidden_Error_Without_Biais@W_E_H.T"
   ]
  },
  {
   "cell_type": "markdown",
   "id": "sporting-juvenile",
   "metadata": {},
   "source": [
    "### - Erreur Global"
   ]
  },
  {
   "cell_type": "code",
   "execution_count": 161,
   "id": "existing-victor",
   "metadata": {},
   "outputs": [],
   "source": [
    "# (1/2), sur 2 en raison de 2 entrées\n",
    "Global_err = (1/2)*sum(sum(Output_Error - realite ))**(2)"
   ]
  },
  {
   "cell_type": "markdown",
   "id": "united-right",
   "metadata": {},
   "source": [
    "## Dessinner un réseeau de neuronne : \n",
    "\n",
    "### Pour cette fonction, Je me suis basée sur ce que propose _Brandon Amos, AI Engineer chez Facebook_"
   ]
  },
  {
   "cell_type": "code",
   "execution_count": 213,
   "id": "favorite-basket",
   "metadata": {},
   "outputs": [],
   "source": [
    "import matplotlib.pyplot as plt\n",
    "\n",
    "def dessiner_un_reseau(ax, left, right, bottom, top, layer_sizes):\n",
    "    n_layers = len(layer_sizes)\n",
    "    v_spacing = (top - bottom)/float(max(layer_sizes))\n",
    "    h_spacing = (right - left)/float(len(layer_sizes) - 1)\n",
    "    # Nodes\n",
    "    for n, layer_size in enumerate(layer_sizes):\n",
    "        layer_top = v_spacing*(layer_size - 1)/2. + (top + bottom)/2.\n",
    "        for m in range(layer_size):\n",
    "            circle = plt.Circle((n*h_spacing + left, layer_top - m*v_spacing), v_spacing/4.,\n",
    "                                color='w', ec='k', zorder=4)\n",
    "            ax.add_artist(circle)\n",
    "    # Edges\n",
    "    for n, (layer_size_a, layer_size_b) in enumerate(zip(layer_sizes[:-1], layer_sizes[1:])):\n",
    "        layer_top_a = v_spacing*(layer_size_a - 1)/2. + (top + bottom)/2.\n",
    "        layer_top_b = v_spacing*(layer_size_b - 1)/2. + (top + bottom)/2.\n",
    "        for m in range(layer_size_a):\n",
    "            for o in range(layer_size_b):\n",
    "                line = plt.Line2D([n*h_spacing + left, (n + 1)*h_spacing + left],\n",
    "                                  [layer_top_a - m*v_spacing, layer_top_b - o*v_spacing], c='k')\n",
    "                ax.add_artist(line)"
   ]
  },
  {
   "cell_type": "markdown",
   "id": "applied-testament",
   "metadata": {},
   "source": [
    "## # 🔽 Partie Algorihme MLP : Testons notre Réseau de neuronnes, en faisant appel aux fonctions prédéfiniement utilisé ainsi que les derniers poids et, obtenues à l'aide de nos données d'apprentissage et, qui nous ont permis d'obtenir une meilleure démarche"
   ]
  },
  {
   "cell_type": "code",
   "execution_count": 226,
   "id": "french-wagon",
   "metadata": {},
   "outputs": [],
   "source": [
    "def MLP(Data, PoidsIH, PoidsHS, µ):\n",
    "\n",
    "    # ----- présentation de l'architecture ----- #\n",
    "    entree = Data.shape[1]-1\n",
    "    cachee = np.ceil((Data.shape[1]-1 + len(Data[\"classes\"].unique()) / 2))\n",
    "    sortie = len(Data[\"classes\"].unique())\n",
    "    print(\"1) Nous avons dans la couche d'entrée \",entree,\" neuronne.s, \\n2) dans la couche cachée \",cachee,\" neuronne.s et, \\n3)\",sortie,\" neuronne.s dans la couche de sortie\")\n",
    "    \n",
    "    \n",
    "    # ----- pretraitement ----- #\n",
    "    df_classes_app = df_app1.iloc[:,0]\n",
    "    data_app = df_app1.iloc[:,1:df_app1.shape[1]]\n",
    "    data_app = getDfWithBiais(data_app)\n",
    "          \n",
    "    # ----- chaînage_avant ----- #\n",
    "    data = transfert_InputHidenOutput(data_app, PoidsIH)\n",
    "    HiddenLayer = get_HiddenLayer(data)\n",
    "    data = transfert_InputHidenOutput(HiddenLayer, PoidsHS)\n",
    "    predictions = get_Predict_OutPutLayer(data)\n",
    "    realite = ConfigurationDesCLasses(df_classes_app)\n",
    "    err = (predictions - realite)*(predictions*(1-predictions))\n",
    "    predits = heavside(err)\n",
    "    print(\"\\n\")\n",
    "    score = accuracy_evaluation(realite, predits)\n",
    "          \n",
    "    while(score!=100):\n",
    "\n",
    "        # ----- chaînage_arriere : descente de gradient ----- #\n",
    "        Hidden_Error = ( err@W_H_S ) * ( HiddenLayer * ( 1 - HiddenLayer ) )\n",
    "        points_mal_classee, points_bien_classe = recup_point_mal_et_bien(realite, predits, data)\n",
    "        New_Poids_HS = Weight_update(PoidsHS, µ, Hidden_Error, HiddenLayer)\n",
    "          \n",
    "        Hidden_Error_Without_Biais = Hidden_Error.iloc[:,:4]\n",
    "        Input_Error = Hidden_Error_Without_Biais@PoidsIH.T\n",
    "        New_Poids_IH = Weight_update(PoidsIH, µ, Input_Error, data)\n",
    "          \n",
    "        # on reprend l'algo avec avec les nouveaux poids et les points mal classés\n",
    "          \n",
    "        # ----- chaînage_avant ----- #\n",
    "        data = transfert_InputHidenOutput(points_mal_classe, New_Poids_IH)\n",
    "        HiddenLayer = get_HiddenLayer(data)\n",
    "        data = transfert_InputHidenOutput(HiddenLayer, New_Poids_HS)\n",
    "        predictions = get_Predict_OutPutLayer(data)\n",
    "          \n",
    "        # Concatenation des points bien et mal classé pour revérification du score\n",
    "        data = np.concatenate((points_mal_classee, points_bien_classe),axis=0)          \n",
    "        err = (predictions - realite)*(predictions*(1-predictions))\n",
    "        predits = heavside(err)\n",
    "        score = accuracy_evaluation(realite, predits)\n",
    "        \n",
    "    print(\"\\n Voici à quoi ressemble notre réseau (sans les biais visible !!! )\")\n",
    "    fig = plt.figure(figsize=(12, 12))\n",
    "    ax = fig.gca()\n",
    "    ax.axis('off')\n",
    "    dessiner_un_reseau(ax, .1, .9, .1, .9, [int(entree), int(cachee), int(sortie)])\n",
    "    fig.show()"
   ]
  },
  {
   "cell_type": "markdown",
   "id": "advised-movement",
   "metadata": {},
   "source": [
    "# 🔽 Partie Test"
   ]
  },
  {
   "cell_type": "code",
   "execution_count": 174,
   "id": "occupational-neutral",
   "metadata": {},
   "outputs": [
    {
     "name": "stdout",
     "output_type": "stream",
     "text": [
      "<class 'pandas.core.frame.DataFrame'>\n",
      "RangeIndex: 500 entries, 0 to 499\n",
      "Data columns (total 3 columns):\n",
      " #   Column   Non-Null Count  Dtype \n",
      "---  ------   --------------  ----- \n",
      " 0   classes  500 non-null    object\n",
      " 1   X        500 non-null    object\n",
      " 2   Y        500 non-null    object\n",
      "dtypes: object(3)\n",
      "memory usage: 11.8+ KB\n"
     ]
    }
   ],
   "source": [
    "df_dec1 = pretraitement(\"data_tp1_dec.txt\")\n",
    "df_dec1 = getClasses(df_dec1)"
   ]
  },
  {
   "cell_type": "code",
   "execution_count": 227,
   "id": "usual-honor",
   "metadata": {
    "scrolled": false
   },
   "outputs": [
    {
     "name": "stdout",
     "output_type": "stream",
     "text": [
      "1) Nous avons dans la couche d'entrée  2  neuronne.s, \n",
      "2) dans la couche cachée  5.0  neuronne.s et, \n",
      "3) 5  neuronne.s dans la couche de sortie\n",
      "\n",
      "\n",
      "le taux de performance est de :  100.0  %\n",
      "\n",
      " Voici à quoi ressemble notre réseau (sans les biais visible !!! )\n"
     ]
    },
    {
     "data": {
      "image/png": "[encoded data removed]",
      "text/plain": [
       "<Figure size 864x864 with 1 Axes>"
      ]
     },
     "metadata": {
      "needs_background": "light"
     },
     "output_type": "display_data"
    }
   ],
   "source": [
    "MLP(df_dec1, W_E_H, W_H_S, µ)"
   ]
  }
 ],
 "metadata": {
  "kernelspec": {
   "display_name": "Python 3",
   "language": "python",
   "name": "python3"
  },
  "language_info": {
   "codemirror_mode": {
    "name": "ipython",
    "version": 3
   },
   "file_extension": ".py",
   "mimetype": "text/x-python",
   "name": "python",
   "nbconvert_exporter": "python",
   "pygments_lexer": "ipython3",
   "version": "3.6.13"
  }
 },
 "nbformat": 4,
 "nbformat_minor": 5
}
