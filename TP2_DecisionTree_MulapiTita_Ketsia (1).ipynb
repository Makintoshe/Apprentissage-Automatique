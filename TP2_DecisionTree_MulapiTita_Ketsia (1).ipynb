{
 "cells": [
  {
   "cell_type": "markdown",
   "id": "present-michael",
   "metadata": {},
   "source": [
    "# Travail pratique d'apprentissage automatique sur les arbres de décisions"
   ]
  },
  {
   "cell_type": "markdown",
   "id": "stable-concord",
   "metadata": {},
   "source": [
    "## réalisé par ***Mulapi Tita Ketsia***"
   ]
  },
  {
   "cell_type": "markdown",
   "id": "competitive-variety",
   "metadata": {},
   "source": [
    "# 1. Préparation de l’environnement"
   ]
  },
  {
   "cell_type": "code",
   "execution_count": 1,
   "id": "adjusted-answer",
   "metadata": {},
   "outputs": [
    {
     "name": "stdout",
     "output_type": "stream",
     "text": [
      "Requirement already satisfied: graphviz in /home/ec2-user/anaconda3/envs/JupyterSystemEnv/lib/python3.6/site-packages (0.18.2)\r\n"
     ]
    }
   ],
   "source": [
    "!pip install graphviz"
   ]
  },
  {
   "cell_type": "code",
   "execution_count": 2,
   "id": "mediterranean-photograph",
   "metadata": {},
   "outputs": [
    {
     "name": "stdout",
     "output_type": "stream",
     "text": [
      "Requirement already satisfied: pydotplus in /home/ec2-user/anaconda3/envs/JupyterSystemEnv/lib/python3.6/site-packages (2.0.2)\r\n",
      "Requirement already satisfied: pyparsing>=2.0.1 in /home/ec2-user/anaconda3/envs/JupyterSystemEnv/lib/python3.6/site-packages (from pydotplus) (2.4.7)\r\n"
     ]
    }
   ],
   "source": [
    "!pip install pydotplus"
   ]
  },
  {
   "cell_type": "code",
   "execution_count": 3,
   "id": "short-connection",
   "metadata": {},
   "outputs": [],
   "source": [
    "from sklearn.datasets import load_iris\n",
    "import graphviz\n",
    "from sklearn.model_selection import train_test_split\n",
    "from sklearn import tree\n",
    "from sklearn.model_selection import cross_val_score\n",
    "import numpy as np\n",
    "from sklearn.neighbors import KNeighborsClassifier\n",
    "import pandas as pd\n",
    "from sklearn.naive_bayes import GaussianNB\n",
    "import seaborn as sn\n",
    "import matplotlib.pyplot as plt\n",
    "from sklearn.datasets import make_moons"
   ]
  },
  {
   "cell_type": "markdown",
   "id": "reverse-retreat",
   "metadata": {},
   "source": [
    "# 2. Construire et visualiser un arbre de décision"
   ]
  },
  {
   "cell_type": "markdown",
   "id": "diagnostic-weight",
   "metadata": {},
   "source": [
    "On récupère le jeu de données des iris pour comprendre les arbres de décisions, il s'agit d'un jeu de données célèbre qui comporte la longueur et la largeur des sépales et des pétales en cm, de 150 fleurs d'iris de trois espèces différentes qui sont : Setosa, Versicolor et Virginica."
   ]
  },
  {
   "cell_type": "markdown",
   "id": "experimental-robin",
   "metadata": {},
   "source": [
    "L'objevctif de ce TP est simple : développer un programme capable de\n",
    "reconnaitre une espèce parmi plusieurs de la famille des Iris. L’algorithme utilisera alors les 4 features pour effectuer son calcul :\n",
    "\n",
    "    • 𝒙𝟏 : La longueur du pétale\n",
    "    • 𝒙𝟐 : La largeur du pétale\n",
    "    • 𝒙𝟑 : La longueur du sépale\n",
    "    • 𝒙𝟒 : La largeur du sépale"
   ]
  },
  {
   "cell_type": "code",
   "execution_count": 4,
   "id": "gothic-professor",
   "metadata": {},
   "outputs": [
    {
     "data": {
      "image/png": "[encoded data removed]",
      "text/plain": [
       "<Figure size 432x288 with 1 Axes>"
      ]
     },
     "metadata": {
      "needs_background": "light"
     },
     "output_type": "display_data"
    }
   ],
   "source": [
    "iris = load_iris()\n",
    "X = iris.data # Les features\n",
    "y = iris.target # Les targets\n",
    "colormap=np.array(['Red','black','blue'])\n",
    "plt.scatter(X[:,3], X[:,1], c = colormap[y])\n",
    "plt.xlabel(\"Largeur de pétale\")\n",
    "plt.ylabel(\"Longueur de pétale\")\n",
    "plt.show()"
   ]
  },
  {
   "cell_type": "markdown",
   "id": "reserved-colorado",
   "metadata": {},
   "source": [
    "## 2.1. L'algorithme Decision Tree"
   ]
  },
  {
   "cell_type": "markdown",
   "id": "descending-issue",
   "metadata": {},
   "source": [
    "> On commence d'abord par appliquer une politique 70-30 pour générer les données d'apprentissages (ou d'entrainement) et, les donnes de tests (ou de décision) avec la fonction **train_test_split**"
   ]
  },
  {
   "cell_type": "code",
   "execution_count": 5,
   "id": "available-latitude",
   "metadata": {},
   "outputs": [],
   "source": [
    "X_train, X_test, y_train, y_test = train_test_split(X, y, test_size=0.30, random_state=42)"
   ]
  },
  {
   "cell_type": "markdown",
   "id": "found-algebra",
   "metadata": {},
   "source": [
    "> Utilisez la fonction **DecisionTreeClassifier** pour construire un arbre de décision sur cette base. Vous utiliserez les paramètres par défaut de l’algorithme."
   ]
  },
  {
   "cell_type": "code",
   "execution_count": 6,
   "id": "pressed-explanation",
   "metadata": {},
   "outputs": [
    {
     "data": {
      "text/plain": [
       "DecisionTreeClassifier()"
      ]
     },
     "execution_count": 6,
     "metadata": {},
     "output_type": "execute_result"
    }
   ],
   "source": [
    "# création du modèle\n",
    "modelTree = tree.DecisionTreeClassifier()\n",
    "\n",
    "# entraînement du modèle\n",
    "modelTree.fit(X_train,y_train)"
   ]
  },
  {
   "cell_type": "markdown",
   "id": "leading-insert",
   "metadata": {},
   "source": [
    "###  récupération des entêtes"
   ]
  },
  {
   "cell_type": "code",
   "execution_count": 7,
   "id": "political-lightweight",
   "metadata": {},
   "outputs": [],
   "source": [
    "classes = iris.target_names\n",
    "features = iris.feature_names"
   ]
  },
  {
   "cell_type": "code",
   "execution_count": 8,
   "id": "usual-extra",
   "metadata": {},
   "outputs": [
    {
     "data": {
      "text/plain": [
       "array(['setosa', 'versicolor', 'virginica'], dtype='<U10')"
      ]
     },
     "execution_count": 8,
     "metadata": {},
     "output_type": "execute_result"
    }
   ],
   "source": [
    "classes"
   ]
  },
  {
   "cell_type": "code",
   "execution_count": 9,
   "id": "thirty-collar",
   "metadata": {},
   "outputs": [
    {
     "data": {
      "text/plain": [
       "['sepal length (cm)',\n",
       " 'sepal width (cm)',\n",
       " 'petal length (cm)',\n",
       " 'petal width (cm)']"
      ]
     },
     "execution_count": 9,
     "metadata": {},
     "output_type": "execute_result"
    }
   ],
   "source": [
    "features"
   ]
  },
  {
   "cell_type": "markdown",
   "id": "flexible-security",
   "metadata": {},
   "source": [
    "### visualisation"
   ]
  },
  {
   "cell_type": "markdown",
   "id": "working-malaysia",
   "metadata": {},
   "source": [
    "> Pour visualiser le résultat de cet apprentissage, vous pouvez exporter la structure de\n",
    "l’arbre obtenu au format DOT de Graphviz:"
   ]
  },
  {
   "cell_type": "markdown",
   "id": "rapid-wallet",
   "metadata": {},
   "source": [
    "- Utilisez la fonction export_graphviz pour exporter la structure de l’arbre dans\n",
    "un fichier .dot.\n",
    "- Chargez le contenu du fichier obtenu dans un visualiseur en ligne.\n",
    "- Si vous avez installé les packages python pour Graphviz, vous pouvez visualiser\n",
    "et/ou exporter directement le graphe dans le script python"
   ]
  },
  {
   "cell_type": "markdown",
   "id": "coordinated-geometry",
   "metadata": {},
   "source": [
    "## Executez cette cellule pour visualiser le graphe."
   ]
  },
  {
   "cell_type": "code",
   "execution_count": 10,
   "id": "incorrect-thought",
   "metadata": {},
   "outputs": [
    {
     "data": {
      "image/svg+xml": [
       "<?xml version=\"1.0\" encoding=\"UTF-8\" standalone=\"no\"?>\n",
       "<!DOCTYPE svg PUBLIC \"-//W3C//DTD SVG 1.1//EN\"\n",
       " \"http://www.w3.org/Graphics/SVG/1.1/DTD/svg11.dtd\">\n",
       "<!-- Generated by graphviz version 2.47.0 (20210316.1410)\n",
       " -->\n",
       "<!-- Title: Tree Pages: 1 -->\n",
       "<svg width=\"880pt\" height=\"790pt\"\n",
       " viewBox=\"0.00 0.00 880.00 790.00\" xmlns=\"http://www.w3.org/2000/svg\" xmlns:xlink=\"http://www.w3.org/1999/xlink\">\n",
       "<g id=\"graph0\" class=\"graph\" transform=\"scale(1 1) rotate(0) translate(4 786)\">\n",
       "<title>Tree</title>\n",
       "<polygon fill=\"white\" stroke=\"transparent\" points=\"-4,4 -4,-786 876,-786 876,4 -4,4\"/>\n",
       "<!-- 0 -->\n",
       "<g id=\"node1\" class=\"node\">\n",
       "<title>0</title>\n",
       "<path fill=\"#ffffff\" stroke=\"black\" d=\"M313,-782C313,-782 146,-782 146,-782 140,-782 134,-776 134,-770 134,-770 134,-711 134,-711 134,-705 140,-699 146,-699 146,-699 313,-699 313,-699 319,-699 325,-705 325,-711 325,-711 325,-770 325,-770 325,-776 319,-782 313,-782\"/>\n",
       "<text text-anchor=\"start\" x=\"142\" y=\"-766.8\" font-family=\"helvetica\" font-size=\"14.00\">petal length (cm) ≤ 2.45</text>\n",
       "<text text-anchor=\"start\" x=\"185.5\" y=\"-751.8\" font-family=\"helvetica\" font-size=\"14.00\">gini = 0.664</text>\n",
       "<text text-anchor=\"start\" x=\"175\" y=\"-736.8\" font-family=\"helvetica\" font-size=\"14.00\">samples = 105</text>\n",
       "<text text-anchor=\"start\" x=\"158\" y=\"-721.8\" font-family=\"helvetica\" font-size=\"14.00\">value = [31, 37, 37]</text>\n",
       "<text text-anchor=\"start\" x=\"166\" y=\"-706.8\" font-family=\"helvetica\" font-size=\"14.00\">class = versicolor</text>\n",
       "</g>\n",
       "<!-- 1 -->\n",
       "<g id=\"node2\" class=\"node\">\n",
       "<title>1</title>\n",
       "<path fill=\"#e58139\" stroke=\"black\" d=\"M196,-655.5C196,-655.5 79,-655.5 79,-655.5 73,-655.5 67,-649.5 67,-643.5 67,-643.5 67,-599.5 67,-599.5 67,-593.5 73,-587.5 79,-587.5 79,-587.5 196,-587.5 196,-587.5 202,-587.5 208,-593.5 208,-599.5 208,-599.5 208,-643.5 208,-643.5 208,-649.5 202,-655.5 196,-655.5\"/>\n",
       "<text text-anchor=\"start\" x=\"102.5\" y=\"-640.3\" font-family=\"helvetica\" font-size=\"14.00\">gini = 0.0</text>\n",
       "<text text-anchor=\"start\" x=\"87.5\" y=\"-625.3\" font-family=\"helvetica\" font-size=\"14.00\">samples = 31</text>\n",
       "<text text-anchor=\"start\" x=\"75\" y=\"-610.3\" font-family=\"helvetica\" font-size=\"14.00\">value = [31, 0, 0]</text>\n",
       "<text text-anchor=\"start\" x=\"85.5\" y=\"-595.3\" font-family=\"helvetica\" font-size=\"14.00\">class = setosa</text>\n",
       "</g>\n",
       "<!-- 0&#45;&gt;1 -->\n",
       "<g id=\"edge1\" class=\"edge\">\n",
       "<title>0&#45;&gt;1</title>\n",
       "<path fill=\"none\" stroke=\"black\" d=\"M197.58,-698.91C188.64,-687.54 178.92,-675.18 169.95,-663.77\"/>\n",
       "<polygon fill=\"black\" stroke=\"black\" points=\"172.51,-661.36 163.58,-655.67 167.01,-665.69 172.51,-661.36\"/>\n",
       "<text text-anchor=\"middle\" x=\"160.61\" y=\"-676.79\" font-family=\"helvetica\" font-size=\"14.00\">True</text>\n",
       "</g>\n",
       "<!-- 2 -->\n",
       "<g id=\"node3\" class=\"node\">\n",
       "<title>2</title>\n",
       "<path fill=\"#ffffff\" stroke=\"black\" d=\"M405,-663C405,-663 238,-663 238,-663 232,-663 226,-657 226,-651 226,-651 226,-592 226,-592 226,-586 232,-580 238,-580 238,-580 405,-580 405,-580 411,-580 417,-586 417,-592 417,-592 417,-651 417,-651 417,-657 411,-663 405,-663\"/>\n",
       "<text text-anchor=\"start\" x=\"234\" y=\"-647.8\" font-family=\"helvetica\" font-size=\"14.00\">petal length (cm) ≤ 4.75</text>\n",
       "<text text-anchor=\"start\" x=\"286.5\" y=\"-632.8\" font-family=\"helvetica\" font-size=\"14.00\">gini = 0.5</text>\n",
       "<text text-anchor=\"start\" x=\"271.5\" y=\"-617.8\" font-family=\"helvetica\" font-size=\"14.00\">samples = 74</text>\n",
       "<text text-anchor=\"start\" x=\"254.5\" y=\"-602.8\" font-family=\"helvetica\" font-size=\"14.00\">value = [0, 37, 37]</text>\n",
       "<text text-anchor=\"start\" x=\"258\" y=\"-587.8\" font-family=\"helvetica\" font-size=\"14.00\">class = versicolor</text>\n",
       "</g>\n",
       "<!-- 0&#45;&gt;2 -->\n",
       "<g id=\"edge2\" class=\"edge\">\n",
       "<title>0&#45;&gt;2</title>\n",
       "<path fill=\"none\" stroke=\"black\" d=\"M261.42,-698.91C268.48,-689.92 276.04,-680.32 283.32,-671.05\"/>\n",
       "<polygon fill=\"black\" stroke=\"black\" points=\"286.21,-673.05 289.64,-663.02 280.7,-668.72 286.21,-673.05\"/>\n",
       "<text text-anchor=\"middle\" x=\"292.61\" y=\"-684.14\" font-family=\"helvetica\" font-size=\"14.00\">False</text>\n",
       "</g>\n",
       "<!-- 3 -->\n",
       "<g id=\"node4\" class=\"node\">\n",
       "<title>3</title>\n",
       "<path fill=\"#3fe685\" stroke=\"black\" d=\"M298.5,-544C298.5,-544 146.5,-544 146.5,-544 140.5,-544 134.5,-538 134.5,-532 134.5,-532 134.5,-473 134.5,-473 134.5,-467 140.5,-461 146.5,-461 146.5,-461 298.5,-461 298.5,-461 304.5,-461 310.5,-467 310.5,-473 310.5,-473 310.5,-532 310.5,-532 310.5,-538 304.5,-544 298.5,-544\"/>\n",
       "<text text-anchor=\"start\" x=\"142.5\" y=\"-528.8\" font-family=\"helvetica\" font-size=\"14.00\">petal width (cm) ≤ 1.6</text>\n",
       "<text text-anchor=\"start\" x=\"178.5\" y=\"-513.8\" font-family=\"helvetica\" font-size=\"14.00\">gini = 0.059</text>\n",
       "<text text-anchor=\"start\" x=\"172.5\" y=\"-498.8\" font-family=\"helvetica\" font-size=\"14.00\">samples = 33</text>\n",
       "<text text-anchor=\"start\" x=\"160\" y=\"-483.8\" font-family=\"helvetica\" font-size=\"14.00\">value = [0, 32, 1]</text>\n",
       "<text text-anchor=\"start\" x=\"159\" y=\"-468.8\" font-family=\"helvetica\" font-size=\"14.00\">class = versicolor</text>\n",
       "</g>\n",
       "<!-- 2&#45;&gt;3 -->\n",
       "<g id=\"edge3\" class=\"edge\">\n",
       "<title>2&#45;&gt;3</title>\n",
       "<path fill=\"none\" stroke=\"black\" d=\"M287.15,-579.91C279.47,-570.83 271.26,-561.12 263.34,-551.77\"/>\n",
       "<polygon fill=\"black\" stroke=\"black\" points=\"265.92,-549.39 256.79,-544.02 260.57,-553.92 265.92,-549.39\"/>\n",
       "</g>\n",
       "<!-- 6 -->\n",
       "<g id=\"node7\" class=\"node\">\n",
       "<title>6</title>\n",
       "<path fill=\"#9254e9\" stroke=\"black\" d=\"M501,-544C501,-544 340,-544 340,-544 334,-544 328,-538 328,-532 328,-532 328,-473 328,-473 328,-467 334,-461 340,-461 340,-461 501,-461 501,-461 507,-461 513,-467 513,-473 513,-473 513,-532 513,-532 513,-538 507,-544 501,-544\"/>\n",
       "<text text-anchor=\"start\" x=\"336\" y=\"-528.8\" font-family=\"helvetica\" font-size=\"14.00\">petal width (cm) ≤ 1.75</text>\n",
       "<text text-anchor=\"start\" x=\"376.5\" y=\"-513.8\" font-family=\"helvetica\" font-size=\"14.00\">gini = 0.214</text>\n",
       "<text text-anchor=\"start\" x=\"370.5\" y=\"-498.8\" font-family=\"helvetica\" font-size=\"14.00\">samples = 41</text>\n",
       "<text text-anchor=\"start\" x=\"358\" y=\"-483.8\" font-family=\"helvetica\" font-size=\"14.00\">value = [0, 5, 36]</text>\n",
       "<text text-anchor=\"start\" x=\"362\" y=\"-468.8\" font-family=\"helvetica\" font-size=\"14.00\">class = virginica</text>\n",
       "</g>\n",
       "<!-- 2&#45;&gt;6 -->\n",
       "<g id=\"edge6\" class=\"edge\">\n",
       "<title>2&#45;&gt;6</title>\n",
       "<path fill=\"none\" stroke=\"black\" d=\"M355.85,-579.91C363.53,-570.83 371.74,-561.12 379.66,-551.77\"/>\n",
       "<polygon fill=\"black\" stroke=\"black\" points=\"382.43,-553.92 386.21,-544.02 377.08,-549.39 382.43,-553.92\"/>\n",
       "</g>\n",
       "<!-- 4 -->\n",
       "<g id=\"node5\" class=\"node\">\n",
       "<title>4</title>\n",
       "<path fill=\"#39e581\" stroke=\"black\" d=\"M131,-417.5C131,-417.5 12,-417.5 12,-417.5 6,-417.5 0,-411.5 0,-405.5 0,-405.5 0,-361.5 0,-361.5 0,-355.5 6,-349.5 12,-349.5 12,-349.5 131,-349.5 131,-349.5 137,-349.5 143,-355.5 143,-361.5 143,-361.5 143,-405.5 143,-405.5 143,-411.5 137,-417.5 131,-417.5\"/>\n",
       "<text text-anchor=\"start\" x=\"36.5\" y=\"-402.3\" font-family=\"helvetica\" font-size=\"14.00\">gini = 0.0</text>\n",
       "<text text-anchor=\"start\" x=\"21.5\" y=\"-387.3\" font-family=\"helvetica\" font-size=\"14.00\">samples = 32</text>\n",
       "<text text-anchor=\"start\" x=\"9\" y=\"-372.3\" font-family=\"helvetica\" font-size=\"14.00\">value = [0, 32, 0]</text>\n",
       "<text text-anchor=\"start\" x=\"8\" y=\"-357.3\" font-family=\"helvetica\" font-size=\"14.00\">class = versicolor</text>\n",
       "</g>\n",
       "<!-- 3&#45;&gt;4 -->\n",
       "<g id=\"edge4\" class=\"edge\">\n",
       "<title>3&#45;&gt;4</title>\n",
       "<path fill=\"none\" stroke=\"black\" d=\"M170.11,-460.91C154.73,-448.99 137.93,-435.98 122.63,-424.12\"/>\n",
       "<polygon fill=\"black\" stroke=\"black\" points=\"124.35,-421.03 114.31,-417.67 120.07,-426.56 124.35,-421.03\"/>\n",
       "</g>\n",
       "<!-- 5 -->\n",
       "<g id=\"node6\" class=\"node\">\n",
       "<title>5</title>\n",
       "<path fill=\"#8139e5\" stroke=\"black\" d=\"M282,-417.5C282,-417.5 173,-417.5 173,-417.5 167,-417.5 161,-411.5 161,-405.5 161,-405.5 161,-361.5 161,-361.5 161,-355.5 167,-349.5 173,-349.5 173,-349.5 282,-349.5 282,-349.5 288,-349.5 294,-355.5 294,-361.5 294,-361.5 294,-405.5 294,-405.5 294,-411.5 288,-417.5 282,-417.5\"/>\n",
       "<text text-anchor=\"start\" x=\"192.5\" y=\"-402.3\" font-family=\"helvetica\" font-size=\"14.00\">gini = 0.0</text>\n",
       "<text text-anchor=\"start\" x=\"182\" y=\"-387.3\" font-family=\"helvetica\" font-size=\"14.00\">samples = 1</text>\n",
       "<text text-anchor=\"start\" x=\"169.5\" y=\"-372.3\" font-family=\"helvetica\" font-size=\"14.00\">value = [0, 0, 1]</text>\n",
       "<text text-anchor=\"start\" x=\"169\" y=\"-357.3\" font-family=\"helvetica\" font-size=\"14.00\">class = virginica</text>\n",
       "</g>\n",
       "<!-- 3&#45;&gt;5 -->\n",
       "<g id=\"edge5\" class=\"edge\">\n",
       "<title>3&#45;&gt;5</title>\n",
       "<path fill=\"none\" stroke=\"black\" d=\"M224.23,-460.91C224.69,-450.2 225.19,-438.62 225.65,-427.78\"/>\n",
       "<polygon fill=\"black\" stroke=\"black\" points=\"229.15,-427.81 226.08,-417.67 222.16,-427.51 229.15,-427.81\"/>\n",
       "</g>\n",
       "<!-- 7 -->\n",
       "<g id=\"node8\" class=\"node\">\n",
       "<title>7</title>\n",
       "<path fill=\"#ffffff\" stroke=\"black\" d=\"M500,-425C500,-425 333,-425 333,-425 327,-425 321,-419 321,-413 321,-413 321,-354 321,-354 321,-348 327,-342 333,-342 333,-342 500,-342 500,-342 506,-342 512,-348 512,-354 512,-354 512,-413 512,-413 512,-419 506,-425 500,-425\"/>\n",
       "<text text-anchor=\"start\" x=\"329\" y=\"-409.8\" font-family=\"helvetica\" font-size=\"14.00\">petal length (cm) ≤ 4.95</text>\n",
       "<text text-anchor=\"start\" x=\"381.5\" y=\"-394.8\" font-family=\"helvetica\" font-size=\"14.00\">gini = 0.5</text>\n",
       "<text text-anchor=\"start\" x=\"371\" y=\"-379.8\" font-family=\"helvetica\" font-size=\"14.00\">samples = 8</text>\n",
       "<text text-anchor=\"start\" x=\"358.5\" y=\"-364.8\" font-family=\"helvetica\" font-size=\"14.00\">value = [0, 4, 4]</text>\n",
       "<text text-anchor=\"start\" x=\"353\" y=\"-349.8\" font-family=\"helvetica\" font-size=\"14.00\">class = versicolor</text>\n",
       "</g>\n",
       "<!-- 6&#45;&gt;7 -->\n",
       "<g id=\"edge7\" class=\"edge\">\n",
       "<title>6&#45;&gt;7</title>\n",
       "<path fill=\"none\" stroke=\"black\" d=\"M419.11,-460.91C418.83,-452.56 418.52,-443.67 418.23,-435.02\"/>\n",
       "<polygon fill=\"black\" stroke=\"black\" points=\"421.73,-434.9 417.89,-425.02 414.73,-435.13 421.73,-434.9\"/>\n",
       "</g>\n",
       "<!-- 14 -->\n",
       "<g id=\"node15\" class=\"node\">\n",
       "<title>14</title>\n",
       "<path fill=\"#853fe6\" stroke=\"black\" d=\"M709,-425C709,-425 542,-425 542,-425 536,-425 530,-419 530,-413 530,-413 530,-354 530,-354 530,-348 536,-342 542,-342 542,-342 709,-342 709,-342 715,-342 721,-348 721,-354 721,-354 721,-413 721,-413 721,-419 715,-425 709,-425\"/>\n",
       "<text text-anchor=\"start\" x=\"538\" y=\"-409.8\" font-family=\"helvetica\" font-size=\"14.00\">petal length (cm) ≤ 4.85</text>\n",
       "<text text-anchor=\"start\" x=\"581.5\" y=\"-394.8\" font-family=\"helvetica\" font-size=\"14.00\">gini = 0.059</text>\n",
       "<text text-anchor=\"start\" x=\"575.5\" y=\"-379.8\" font-family=\"helvetica\" font-size=\"14.00\">samples = 33</text>\n",
       "<text text-anchor=\"start\" x=\"563\" y=\"-364.8\" font-family=\"helvetica\" font-size=\"14.00\">value = [0, 1, 32]</text>\n",
       "<text text-anchor=\"start\" x=\"567\" y=\"-349.8\" font-family=\"helvetica\" font-size=\"14.00\">class = virginica</text>\n",
       "</g>\n",
       "<!-- 6&#45;&gt;14 -->\n",
       "<g id=\"edge14\" class=\"edge\">\n",
       "<title>6&#45;&gt;14</title>\n",
       "<path fill=\"none\" stroke=\"black\" d=\"M491.62,-460.91C508.96,-451.02 527.61,-440.37 545.33,-430.25\"/>\n",
       "<polygon fill=\"black\" stroke=\"black\" points=\"547.55,-433.02 554.5,-425.02 544.08,-426.94 547.55,-433.02\"/>\n",
       "</g>\n",
       "<!-- 8 -->\n",
       "<g id=\"node9\" class=\"node\">\n",
       "<title>8</title>\n",
       "<path fill=\"#39e581\" stroke=\"black\" d=\"M298,-298.5C298,-298.5 179,-298.5 179,-298.5 173,-298.5 167,-292.5 167,-286.5 167,-286.5 167,-242.5 167,-242.5 167,-236.5 173,-230.5 179,-230.5 179,-230.5 298,-230.5 298,-230.5 304,-230.5 310,-236.5 310,-242.5 310,-242.5 310,-286.5 310,-286.5 310,-292.5 304,-298.5 298,-298.5\"/>\n",
       "<text text-anchor=\"start\" x=\"203.5\" y=\"-283.3\" font-family=\"helvetica\" font-size=\"14.00\">gini = 0.0</text>\n",
       "<text text-anchor=\"start\" x=\"193\" y=\"-268.3\" font-family=\"helvetica\" font-size=\"14.00\">samples = 2</text>\n",
       "<text text-anchor=\"start\" x=\"180.5\" y=\"-253.3\" font-family=\"helvetica\" font-size=\"14.00\">value = [0, 2, 0]</text>\n",
       "<text text-anchor=\"start\" x=\"175\" y=\"-238.3\" font-family=\"helvetica\" font-size=\"14.00\">class = versicolor</text>\n",
       "</g>\n",
       "<!-- 7&#45;&gt;8 -->\n",
       "<g id=\"edge8\" class=\"edge\">\n",
       "<title>7&#45;&gt;8</title>\n",
       "<path fill=\"none\" stroke=\"black\" d=\"M354.74,-341.91C336.28,-329.77 316.08,-316.49 297.78,-304.46\"/>\n",
       "<polygon fill=\"black\" stroke=\"black\" points=\"299.24,-301.23 288.96,-298.67 295.39,-307.08 299.24,-301.23\"/>\n",
       "</g>\n",
       "<!-- 9 -->\n",
       "<g id=\"node10\" class=\"node\">\n",
       "<title>9</title>\n",
       "<path fill=\"#c09cf2\" stroke=\"black\" d=\"M501,-306C501,-306 340,-306 340,-306 334,-306 328,-300 328,-294 328,-294 328,-235 328,-235 328,-229 334,-223 340,-223 340,-223 501,-223 501,-223 507,-223 513,-229 513,-235 513,-235 513,-294 513,-294 513,-300 507,-306 501,-306\"/>\n",
       "<text text-anchor=\"start\" x=\"336\" y=\"-290.8\" font-family=\"helvetica\" font-size=\"14.00\">petal width (cm) ≤ 1.55</text>\n",
       "<text text-anchor=\"start\" x=\"376.5\" y=\"-275.8\" font-family=\"helvetica\" font-size=\"14.00\">gini = 0.444</text>\n",
       "<text text-anchor=\"start\" x=\"375\" y=\"-260.8\" font-family=\"helvetica\" font-size=\"14.00\">samples = 6</text>\n",
       "<text text-anchor=\"start\" x=\"362.5\" y=\"-245.8\" font-family=\"helvetica\" font-size=\"14.00\">value = [0, 2, 4]</text>\n",
       "<text text-anchor=\"start\" x=\"362\" y=\"-230.8\" font-family=\"helvetica\" font-size=\"14.00\">class = virginica</text>\n",
       "</g>\n",
       "<!-- 7&#45;&gt;9 -->\n",
       "<g id=\"edge9\" class=\"edge\">\n",
       "<title>7&#45;&gt;9</title>\n",
       "<path fill=\"none\" stroke=\"black\" d=\"M417.89,-341.91C418.17,-333.56 418.48,-324.67 418.77,-316.02\"/>\n",
       "<polygon fill=\"black\" stroke=\"black\" points=\"422.27,-316.13 419.11,-306.02 415.27,-315.9 422.27,-316.13\"/>\n",
       "</g>\n",
       "<!-- 10 -->\n",
       "<g id=\"node11\" class=\"node\">\n",
       "<title>10</title>\n",
       "<path fill=\"#8139e5\" stroke=\"black\" d=\"M298,-179.5C298,-179.5 189,-179.5 189,-179.5 183,-179.5 177,-173.5 177,-167.5 177,-167.5 177,-123.5 177,-123.5 177,-117.5 183,-111.5 189,-111.5 189,-111.5 298,-111.5 298,-111.5 304,-111.5 310,-117.5 310,-123.5 310,-123.5 310,-167.5 310,-167.5 310,-173.5 304,-179.5 298,-179.5\"/>\n",
       "<text text-anchor=\"start\" x=\"208.5\" y=\"-164.3\" font-family=\"helvetica\" font-size=\"14.00\">gini = 0.0</text>\n",
       "<text text-anchor=\"start\" x=\"198\" y=\"-149.3\" font-family=\"helvetica\" font-size=\"14.00\">samples = 3</text>\n",
       "<text text-anchor=\"start\" x=\"185.5\" y=\"-134.3\" font-family=\"helvetica\" font-size=\"14.00\">value = [0, 0, 3]</text>\n",
       "<text text-anchor=\"start\" x=\"185\" y=\"-119.3\" font-family=\"helvetica\" font-size=\"14.00\">class = virginica</text>\n",
       "</g>\n",
       "<!-- 9&#45;&gt;10 -->\n",
       "<g id=\"edge10\" class=\"edge\">\n",
       "<title>9&#45;&gt;10</title>\n",
       "<path fill=\"none\" stroke=\"black\" d=\"M359.09,-222.91C340.73,-210.77 320.64,-197.49 302.44,-185.46\"/>\n",
       "<polygon fill=\"black\" stroke=\"black\" points=\"303.95,-182.26 293.68,-179.67 300.09,-188.1 303.95,-182.26\"/>\n",
       "</g>\n",
       "<!-- 11 -->\n",
       "<g id=\"node12\" class=\"node\">\n",
       "<title>11</title>\n",
       "<path fill=\"#9cf2c0\" stroke=\"black\" d=\"M510.5,-187C510.5,-187 340.5,-187 340.5,-187 334.5,-187 328.5,-181 328.5,-175 328.5,-175 328.5,-116 328.5,-116 328.5,-110 334.5,-104 340.5,-104 340.5,-104 510.5,-104 510.5,-104 516.5,-104 522.5,-110 522.5,-116 522.5,-116 522.5,-175 522.5,-175 522.5,-181 516.5,-187 510.5,-187\"/>\n",
       "<text text-anchor=\"start\" x=\"336.5\" y=\"-171.8\" font-family=\"helvetica\" font-size=\"14.00\">sepal length (cm) ≤ 6.95</text>\n",
       "<text text-anchor=\"start\" x=\"381.5\" y=\"-156.8\" font-family=\"helvetica\" font-size=\"14.00\">gini = 0.444</text>\n",
       "<text text-anchor=\"start\" x=\"380\" y=\"-141.8\" font-family=\"helvetica\" font-size=\"14.00\">samples = 3</text>\n",
       "<text text-anchor=\"start\" x=\"367.5\" y=\"-126.8\" font-family=\"helvetica\" font-size=\"14.00\">value = [0, 2, 1]</text>\n",
       "<text text-anchor=\"start\" x=\"362\" y=\"-111.8\" font-family=\"helvetica\" font-size=\"14.00\">class = versicolor</text>\n",
       "</g>\n",
       "<!-- 9&#45;&gt;11 -->\n",
       "<g id=\"edge11\" class=\"edge\">\n",
       "<title>9&#45;&gt;11</title>\n",
       "<path fill=\"none\" stroke=\"black\" d=\"M422.23,-222.91C422.59,-214.56 422.97,-205.67 423.34,-197.02\"/>\n",
       "<polygon fill=\"black\" stroke=\"black\" points=\"426.84,-197.16 423.77,-187.02 419.84,-196.86 426.84,-197.16\"/>\n",
       "</g>\n",
       "<!-- 12 -->\n",
       "<g id=\"node13\" class=\"node\">\n",
       "<title>12</title>\n",
       "<path fill=\"#39e581\" stroke=\"black\" d=\"M407,-68C407,-68 288,-68 288,-68 282,-68 276,-62 276,-56 276,-56 276,-12 276,-12 276,-6 282,0 288,0 288,0 407,0 407,0 413,0 419,-6 419,-12 419,-12 419,-56 419,-56 419,-62 413,-68 407,-68\"/>\n",
       "<text text-anchor=\"start\" x=\"312.5\" y=\"-52.8\" font-family=\"helvetica\" font-size=\"14.00\">gini = 0.0</text>\n",
       "<text text-anchor=\"start\" x=\"302\" y=\"-37.8\" font-family=\"helvetica\" font-size=\"14.00\">samples = 2</text>\n",
       "<text text-anchor=\"start\" x=\"289.5\" y=\"-22.8\" font-family=\"helvetica\" font-size=\"14.00\">value = [0, 2, 0]</text>\n",
       "<text text-anchor=\"start\" x=\"284\" y=\"-7.8\" font-family=\"helvetica\" font-size=\"14.00\">class = versicolor</text>\n",
       "</g>\n",
       "<!-- 11&#45;&gt;12 -->\n",
       "<g id=\"edge12\" class=\"edge\">\n",
       "<title>11&#45;&gt;12</title>\n",
       "<path fill=\"none\" stroke=\"black\" d=\"M396.46,-103.73C390.15,-94.88 383.48,-85.51 377.15,-76.63\"/>\n",
       "<polygon fill=\"black\" stroke=\"black\" points=\"379.87,-74.41 371.22,-68.3 374.17,-78.48 379.87,-74.41\"/>\n",
       "</g>\n",
       "<!-- 13 -->\n",
       "<g id=\"node14\" class=\"node\">\n",
       "<title>13</title>\n",
       "<path fill=\"#8139e5\" stroke=\"black\" d=\"M558,-68C558,-68 449,-68 449,-68 443,-68 437,-62 437,-56 437,-56 437,-12 437,-12 437,-6 443,0 449,0 449,0 558,0 558,0 564,0 570,-6 570,-12 570,-12 570,-56 570,-56 570,-62 564,-68 558,-68\"/>\n",
       "<text text-anchor=\"start\" x=\"468.5\" y=\"-52.8\" font-family=\"helvetica\" font-size=\"14.00\">gini = 0.0</text>\n",
       "<text text-anchor=\"start\" x=\"458\" y=\"-37.8\" font-family=\"helvetica\" font-size=\"14.00\">samples = 1</text>\n",
       "<text text-anchor=\"start\" x=\"445.5\" y=\"-22.8\" font-family=\"helvetica\" font-size=\"14.00\">value = [0, 0, 1]</text>\n",
       "<text text-anchor=\"start\" x=\"445\" y=\"-7.8\" font-family=\"helvetica\" font-size=\"14.00\">class = virginica</text>\n",
       "</g>\n",
       "<!-- 11&#45;&gt;13 -->\n",
       "<g id=\"edge13\" class=\"edge\">\n",
       "<title>11&#45;&gt;13</title>\n",
       "<path fill=\"none\" stroke=\"black\" d=\"M454.54,-103.73C460.85,-94.88 467.52,-85.51 473.85,-76.63\"/>\n",
       "<polygon fill=\"black\" stroke=\"black\" points=\"476.83,-78.48 479.78,-68.3 471.13,-74.41 476.83,-78.48\"/>\n",
       "</g>\n",
       "<!-- 15 -->\n",
       "<g id=\"node16\" class=\"node\">\n",
       "<title>15</title>\n",
       "<path fill=\"#c09cf2\" stroke=\"black\" d=\"M701,-306C701,-306 546,-306 546,-306 540,-306 534,-300 534,-294 534,-294 534,-235 534,-235 534,-229 540,-223 546,-223 546,-223 701,-223 701,-223 707,-223 713,-229 713,-235 713,-235 713,-294 713,-294 713,-300 707,-306 701,-306\"/>\n",
       "<text text-anchor=\"start\" x=\"542\" y=\"-290.8\" font-family=\"helvetica\" font-size=\"14.00\">sepal width (cm) ≤ 3.1</text>\n",
       "<text text-anchor=\"start\" x=\"579.5\" y=\"-275.8\" font-family=\"helvetica\" font-size=\"14.00\">gini = 0.444</text>\n",
       "<text text-anchor=\"start\" x=\"578\" y=\"-260.8\" font-family=\"helvetica\" font-size=\"14.00\">samples = 3</text>\n",
       "<text text-anchor=\"start\" x=\"565.5\" y=\"-245.8\" font-family=\"helvetica\" font-size=\"14.00\">value = [0, 1, 2]</text>\n",
       "<text text-anchor=\"start\" x=\"565\" y=\"-230.8\" font-family=\"helvetica\" font-size=\"14.00\">class = virginica</text>\n",
       "</g>\n",
       "<!-- 14&#45;&gt;15 -->\n",
       "<g id=\"edge15\" class=\"edge\">\n",
       "<title>14&#45;&gt;15</title>\n",
       "<path fill=\"none\" stroke=\"black\" d=\"M624.81,-341.91C624.66,-333.56 624.51,-324.67 624.36,-316.02\"/>\n",
       "<polygon fill=\"black\" stroke=\"black\" points=\"627.86,-315.96 624.19,-306.02 620.86,-316.08 627.86,-315.96\"/>\n",
       "</g>\n",
       "<!-- 18 -->\n",
       "<g id=\"node19\" class=\"node\">\n",
       "<title>18</title>\n",
       "<path fill=\"#8139e5\" stroke=\"black\" d=\"M860,-298.5C860,-298.5 743,-298.5 743,-298.5 737,-298.5 731,-292.5 731,-286.5 731,-286.5 731,-242.5 731,-242.5 731,-236.5 737,-230.5 743,-230.5 743,-230.5 860,-230.5 860,-230.5 866,-230.5 872,-236.5 872,-242.5 872,-242.5 872,-286.5 872,-286.5 872,-292.5 866,-298.5 860,-298.5\"/>\n",
       "<text text-anchor=\"start\" x=\"766.5\" y=\"-283.3\" font-family=\"helvetica\" font-size=\"14.00\">gini = 0.0</text>\n",
       "<text text-anchor=\"start\" x=\"751.5\" y=\"-268.3\" font-family=\"helvetica\" font-size=\"14.00\">samples = 30</text>\n",
       "<text text-anchor=\"start\" x=\"739\" y=\"-253.3\" font-family=\"helvetica\" font-size=\"14.00\">value = [0, 0, 30]</text>\n",
       "<text text-anchor=\"start\" x=\"743\" y=\"-238.3\" font-family=\"helvetica\" font-size=\"14.00\">class = virginica</text>\n",
       "</g>\n",
       "<!-- 14&#45;&gt;18 -->\n",
       "<g id=\"edge18\" class=\"edge\">\n",
       "<title>14&#45;&gt;18</title>\n",
       "<path fill=\"none\" stroke=\"black\" d=\"M686.56,-341.91C704.82,-329.77 724.79,-316.49 742.89,-304.46\"/>\n",
       "<polygon fill=\"black\" stroke=\"black\" points=\"745.22,-307.12 751.61,-298.67 741.34,-301.29 745.22,-307.12\"/>\n",
       "</g>\n",
       "<!-- 16 -->\n",
       "<g id=\"node17\" class=\"node\">\n",
       "<title>16</title>\n",
       "<path fill=\"#8139e5\" stroke=\"black\" d=\"M675,-179.5C675,-179.5 566,-179.5 566,-179.5 560,-179.5 554,-173.5 554,-167.5 554,-167.5 554,-123.5 554,-123.5 554,-117.5 560,-111.5 566,-111.5 566,-111.5 675,-111.5 675,-111.5 681,-111.5 687,-117.5 687,-123.5 687,-123.5 687,-167.5 687,-167.5 687,-173.5 681,-179.5 675,-179.5\"/>\n",
       "<text text-anchor=\"start\" x=\"585.5\" y=\"-164.3\" font-family=\"helvetica\" font-size=\"14.00\">gini = 0.0</text>\n",
       "<text text-anchor=\"start\" x=\"575\" y=\"-149.3\" font-family=\"helvetica\" font-size=\"14.00\">samples = 2</text>\n",
       "<text text-anchor=\"start\" x=\"562.5\" y=\"-134.3\" font-family=\"helvetica\" font-size=\"14.00\">value = [0, 0, 2]</text>\n",
       "<text text-anchor=\"start\" x=\"562\" y=\"-119.3\" font-family=\"helvetica\" font-size=\"14.00\">class = virginica</text>\n",
       "</g>\n",
       "<!-- 15&#45;&gt;16 -->\n",
       "<g id=\"edge16\" class=\"edge\">\n",
       "<title>15&#45;&gt;16</title>\n",
       "<path fill=\"none\" stroke=\"black\" d=\"M622.46,-222.91C622.18,-212.2 621.89,-200.62 621.61,-189.78\"/>\n",
       "<polygon fill=\"black\" stroke=\"black\" points=\"625.11,-189.57 621.35,-179.67 618.11,-189.75 625.11,-189.57\"/>\n",
       "</g>\n",
       "<!-- 17 -->\n",
       "<g id=\"node18\" class=\"node\">\n",
       "<title>17</title>\n",
       "<path fill=\"#39e581\" stroke=\"black\" d=\"M836,-179.5C836,-179.5 717,-179.5 717,-179.5 711,-179.5 705,-173.5 705,-167.5 705,-167.5 705,-123.5 705,-123.5 705,-117.5 711,-111.5 717,-111.5 717,-111.5 836,-111.5 836,-111.5 842,-111.5 848,-117.5 848,-123.5 848,-123.5 848,-167.5 848,-167.5 848,-173.5 842,-179.5 836,-179.5\"/>\n",
       "<text text-anchor=\"start\" x=\"741.5\" y=\"-164.3\" font-family=\"helvetica\" font-size=\"14.00\">gini = 0.0</text>\n",
       "<text text-anchor=\"start\" x=\"731\" y=\"-149.3\" font-family=\"helvetica\" font-size=\"14.00\">samples = 1</text>\n",
       "<text text-anchor=\"start\" x=\"718.5\" y=\"-134.3\" font-family=\"helvetica\" font-size=\"14.00\">value = [0, 1, 0]</text>\n",
       "<text text-anchor=\"start\" x=\"713\" y=\"-119.3\" font-family=\"helvetica\" font-size=\"14.00\">class = versicolor</text>\n",
       "</g>\n",
       "<!-- 15&#45;&gt;17 -->\n",
       "<g id=\"edge17\" class=\"edge\">\n",
       "<title>15&#45;&gt;17</title>\n",
       "<path fill=\"none\" stroke=\"black\" d=\"M676.58,-222.91C692.31,-210.88 709.5,-197.73 725.12,-185.79\"/>\n",
       "<polygon fill=\"black\" stroke=\"black\" points=\"727.31,-188.52 733.13,-179.67 723.06,-182.96 727.31,-188.52\"/>\n",
       "</g>\n",
       "</g>\n",
       "</svg>\n"
      ],
      "text/plain": [
       "<graphviz.sources.Source at 0x7fc7ca32f9e8>"
      ]
     },
     "execution_count": 10,
     "metadata": {},
     "output_type": "execute_result"
    }
   ],
   "source": [
    "# exportation de la structure de l'arbre dans un fichier .dot\n",
    "dotFile = open(\"file1.dot\", \"w\")\n",
    "\n",
    "# Viusaliseur en ligne\n",
    "tree.export_graphviz(modelTree, out_file=dotFile,\n",
    "                    feature_names=features,\n",
    "                    class_names=classes,\n",
    "                    filled=True, rounded=True,\n",
    "                    special_characters=True)\n",
    "dotFile.close()\n",
    "\n",
    "# Visualisation\n",
    "dot_data = tree.export_graphviz(modelTree, out_file=None, \n",
    "                        feature_names=features,  \n",
    "                        class_names=classes,     \n",
    "                        filled=True, rounded=True,  \n",
    "                        special_characters=True) \n",
    "graph = graphviz.Source(dot_data)\n",
    "graph"
   ]
  },
  {
   "cell_type": "markdown",
   "id": "compatible-branch",
   "metadata": {},
   "source": [
    "##### Commentaire :"
   ]
  },
  {
   "cell_type": "markdown",
   "id": "comprehensive-startup",
   "metadata": {},
   "source": [
    "Les noeuds terminaux d'un arbre de décision représentent des classes. Par exemple, si nous voulons obtenir la classe setosa, il faut que petal length soit inférieur ou égale à 2.45"
   ]
  },
  {
   "cell_type": "markdown",
   "id": "confirmed-festival",
   "metadata": {},
   "source": [
    "\n",
    "\n",
    "****"
   ]
  },
  {
   "cell_type": "markdown",
   "id": "increasing-subcommittee",
   "metadata": {},
   "source": [
    "# 3. Comparaison de classifiers"
   ]
  },
  {
   "cell_type": "markdown",
   "id": "future-agenda",
   "metadata": {},
   "source": [
    "## 3.1) Comparaison sans validation croisée"
   ]
  },
  {
   "cell_type": "markdown",
   "id": "unsigned-causing",
   "metadata": {},
   "source": [
    "Cet exercice vise à comparer les performances d’un arbre de décision à celles des classifieurs Gaussian Naive Bayes et K-Plus Proches Voisins:\n",
    "\n",
    "- Découper la base Iris en deux sous-ensembles: un pour l’apprentissage et l’autre pour évaluer les performances en test. Scikit-learn propose des fonctions pour faire cela\n",
    "\n",
    "- Lancez l’apprentissage d’un arbre de décision sur le sous-ensemble d’apprentissage.\n",
    "- Lancez l’apprentissage d’un GaussianNB7 et d’un KNeighborsClassifier8 sur le même sous-ensemble d’apprentissage.\n",
    "- Pour chacun de ces classifieurs, calculez le taux de bonne classification et affichez le résultat, à l’aide de la fonction score."
   ]
  },
  {
   "cell_type": "code",
   "execution_count": 11,
   "id": "guided-ordering",
   "metadata": {},
   "outputs": [],
   "source": [
    "# dataset iris\n",
    "\n",
    "# Notons que le modèle de l'arbre de décision a déjà été entrainé\n",
    "\n",
    "modelNB = GaussianNB()\n",
    "modelKNN = KNeighborsClassifier(n_neighbors=3)"
   ]
  },
  {
   "cell_type": "code",
   "execution_count": 12,
   "id": "large-sacrifice",
   "metadata": {},
   "outputs": [],
   "source": [
    "# Entraînement (apprentissage) des 2 modèles\n",
    "\n",
    "modelNB = modelNB.fit(X_train, y_train)\n",
    "modelKNN = modelKNN.fit(X_train, y_train)"
   ]
  },
  {
   "cell_type": "code",
   "execution_count": 13,
   "id": "corporate-wilderness",
   "metadata": {},
   "outputs": [],
   "source": [
    "# Score\n",
    "\n",
    "score_summary = []\n",
    "\n",
    "scoreTree=modelTree.score(X_test, y_test)\n",
    "scoreNB=modelNB.score(X_test, y_test)\n",
    "scoreKNN=modelKNN.score(X_test, y_test)\n",
    "\n",
    "score_summary.append(dict(model=\"Decision tree\",accuracy=scoreTree))\n",
    "score_summary.append(dict(model=\"Naives Bayes\",accuracy=scoreNB))\n",
    "score_summary.append(dict(model=\"K-Neighbors\",accuracy=scoreKNN))"
   ]
  },
  {
   "cell_type": "code",
   "execution_count": 14,
   "id": "electoral-surgeon",
   "metadata": {},
   "outputs": [],
   "source": [
    "df_sum = pd.DataFrame(score_summary)"
   ]
  },
  {
   "cell_type": "code",
   "execution_count": 15,
   "id": "republican-entrepreneur",
   "metadata": {},
   "outputs": [
    {
     "data": {
      "text/html": [
       "<div>\n",
       "<style scoped>\n",
       "    .dataframe tbody tr th:only-of-type {\n",
       "        vertical-align: middle;\n",
       "    }\n",
       "\n",
       "    .dataframe tbody tr th {\n",
       "        vertical-align: top;\n",
       "    }\n",
       "\n",
       "    .dataframe thead th {\n",
       "        text-align: right;\n",
       "    }\n",
       "</style>\n",
       "<table border=\"1\" class=\"dataframe\">\n",
       "  <thead>\n",
       "    <tr style=\"text-align: right;\">\n",
       "      <th></th>\n",
       "      <th>model</th>\n",
       "      <th>accuracy</th>\n",
       "    </tr>\n",
       "  </thead>\n",
       "  <tbody>\n",
       "    <tr>\n",
       "      <th>0</th>\n",
       "      <td>Decision tree</td>\n",
       "      <td>1.000000</td>\n",
       "    </tr>\n",
       "    <tr>\n",
       "      <th>1</th>\n",
       "      <td>Naives Bayes</td>\n",
       "      <td>0.977778</td>\n",
       "    </tr>\n",
       "    <tr>\n",
       "      <th>2</th>\n",
       "      <td>K-Neighbors</td>\n",
       "      <td>1.000000</td>\n",
       "    </tr>\n",
       "  </tbody>\n",
       "</table>\n",
       "</div>"
      ],
      "text/plain": [
       "           model  accuracy\n",
       "0  Decision tree  1.000000\n",
       "1   Naives Bayes  0.977778\n",
       "2    K-Neighbors  1.000000"
      ]
     },
     "execution_count": 15,
     "metadata": {},
     "output_type": "execute_result"
    }
   ],
   "source": [
    "df_sum"
   ]
  },
  {
   "cell_type": "code",
   "execution_count": 16,
   "id": "novel-dallas",
   "metadata": {},
   "outputs": [
    {
     "data": {
      "image/png": "[encoded data removed]",
      "text/plain": [
       "<Figure size 720x288 with 1 Axes>"
      ]
     },
     "metadata": {
      "needs_background": "light"
     },
     "output_type": "display_data"
    }
   ],
   "source": [
    "figure = plt.figure(figsize=(10,4))\n",
    "ax = sn.barplot(y='accuracy', x='model', data=df_sum)\n",
    "# j'ajoute les valeurs\n",
    "for index, row in df_sum.iterrows():\n",
    "    ax.text(row.name,row.accuracy, round(row.accuracy,4), color='black', ha=\"center\")\n",
    "\n",
    "plt.show()"
   ]
  },
  {
   "cell_type": "markdown",
   "id": "statistical-hazard",
   "metadata": {},
   "source": [
    "##### commentaire :"
   ]
  },
  {
   "cell_type": "markdown",
   "id": "bright-selection",
   "metadata": {},
   "source": [
    "Après comparaison, on conclut que le meilleur score (1.0) peut s'obtenire grâce à Decision tree, KNC suivit de GaussianNB. Enfin nous noterons aussi que le score faible d'un arbre peut s'expliquer par le fait que ce dernier a sur-appris, ce qui nous emmenerai dans la suite à chercher un hyper paramètre à l'aide de la validation croisée dans le soucis de manipuler un indicateur optimalde performance."
   ]
  },
  {
   "cell_type": "markdown",
   "id": "special-jimmy",
   "metadata": {},
   "source": [
    "\n",
    "\n",
    "****"
   ]
  },
  {
   "cell_type": "markdown",
   "id": "funky-brake",
   "metadata": {},
   "source": [
    "## 3.2) Comparaison avec validation croisée"
   ]
  },
  {
   "cell_type": "markdown",
   "id": "motivated-sally",
   "metadata": {},
   "source": [
    "Pour obtenir un indicateur de performance plus fiable, vous allez recommencer en utilisant une validation croisée:\n",
    "\n",
    "- Lancez une procédure de validation croisée à 5 folds pour calculer un taux de bonne classification moyen et un écart-type correspondant. Scikit-learn propose des fonctions pour faire cela\n",
    "\n",
    "- Pour chaque classifieur, affichez le résultat sous la forme:\n",
    "    Accuracy: mean (+/- std)\n",
    "    où mean et std sont à remplacer par les valeurs obtenues"
   ]
  },
  {
   "cell_type": "code",
   "execution_count": 17,
   "id": "herbal-apple",
   "metadata": {},
   "outputs": [],
   "source": [
    "def cvComparaison(Model, X, y, kfolds):\n",
    "    scoreCV = cross_val_score(Model,X,y,cv=kfolds)\n",
    "    mean = np.mean(scoreCV)\n",
    "    std = np.std(scoreCV)\n",
    "    return mean, std"
   ]
  },
  {
   "cell_type": "code",
   "execution_count": 18,
   "id": "average-solution",
   "metadata": {},
   "outputs": [],
   "source": [
    "def printResult(model, m,s):\n",
    "    print(model+\" Accuracy: \"+str(m)+\" (+/- \"+str(s)+\")\")"
   ]
  },
  {
   "cell_type": "code",
   "execution_count": 19,
   "id": "dimensional-quebec",
   "metadata": {},
   "outputs": [],
   "source": [
    "# Decision tree with CV\n",
    "\n",
    "TreeMean, TreeStd = cvComparaison(tree.DecisionTreeClassifier(), X, y, 5)"
   ]
  },
  {
   "cell_type": "code",
   "execution_count": 20,
   "id": "thorough-prophet",
   "metadata": {},
   "outputs": [],
   "source": [
    "# Gaussian NB with CV\n",
    "\n",
    "NbMean, NbStd = cvComparaison(GaussianNB(), X, y, 5)"
   ]
  },
  {
   "cell_type": "code",
   "execution_count": 21,
   "id": "proprietary-radio",
   "metadata": {},
   "outputs": [],
   "source": [
    "# KNN with CV\n",
    "\n",
    "KnnMean, KnnStd = cvComparaison(KNeighborsClassifier(), X, y, 5)"
   ]
  },
  {
   "cell_type": "code",
   "execution_count": 22,
   "id": "little-orange",
   "metadata": {},
   "outputs": [
    {
     "name": "stdout",
     "output_type": "stream",
     "text": [
      "Tree ->  Accuracy: 0.9666666666666668 (+/- 0.036514837167011066)\n",
      "NB ->  Accuracy: 0.9533333333333334 (+/- 0.02666666666666666)\n",
      "KNN ->  Accuracy: 0.9733333333333334 (+/- 0.02494438257849294)\n"
     ]
    }
   ],
   "source": [
    "printResult(\"Tree -> \",TreeMean,TreeStd)\n",
    "printResult(\"NB -> \",NbMean,NbStd)\n",
    "printResult(\"KNN -> \",KnnMean,KnnStd)"
   ]
  },
  {
   "cell_type": "markdown",
   "id": "spiritual-profit",
   "metadata": {},
   "source": [
    "#### Commentaire :\n",
    "\n",
    "Avec la validation croisée, on peut bien afficrmer que, on obtient des score raisonnable sur nos 3 classifieurs.\n",
    "Par exemple, il s'agit bient du KNC qui se distingue des autres."
   ]
  },
  {
   "cell_type": "markdown",
   "id": "graduate-speaking",
   "metadata": {},
   "source": [
    "\n",
    "\n",
    "****"
   ]
  },
  {
   "cell_type": "markdown",
   "id": "controlled-lancaster",
   "metadata": {},
   "source": [
    "## 3.3) Reproduisez cette comparaison sur plusieurs bases de données jouets proposées par Scikit-Learn, analysez les résultats et donnez vos conclusions : ici, nous allons le faire sur 2 bases de données : "
   ]
  },
  {
   "cell_type": "markdown",
   "id": "czech-electron",
   "metadata": {},
   "source": [
    "**3.3.1) Dabord, on s'intéresse à 178 (50 dans chacune des classes) observations qui représentent les résultats d'une analyse chimique de vins cultivés dans la même région en Italie par trois cultivateurs différents. Il y a treize mesures différentes prises pour différents constituants trouvés dans les trois types de vin.**"
   ]
  },
  {
   "cell_type": "code",
   "execution_count": 23,
   "id": "serious-silly",
   "metadata": {},
   "outputs": [],
   "source": [
    "from sklearn.datasets import load_wine"
   ]
  },
  {
   "cell_type": "code",
   "execution_count": 24,
   "id": "opposite-alcohol",
   "metadata": {
    "scrolled": false
   },
   "outputs": [
    {
     "name": "stdout",
     "output_type": "stream",
     "text": [
      "dimension de X : (178, 13)\n",
      "\n",
      "les différentes valeurs de nos features : \n",
      " [[1.423e+01 1.710e+00 2.430e+00 ... 1.040e+00 3.920e+00 1.065e+03]\n",
      " [1.320e+01 1.780e+00 2.140e+00 ... 1.050e+00 3.400e+00 1.050e+03]\n",
      " [1.316e+01 2.360e+00 2.670e+00 ... 1.030e+00 3.170e+00 1.185e+03]\n",
      " ...\n",
      " [1.327e+01 4.280e+00 2.260e+00 ... 5.900e-01 1.560e+00 8.350e+02]\n",
      " [1.317e+01 2.590e+00 2.370e+00 ... 6.000e-01 1.620e+00 8.400e+02]\n",
      " [1.413e+01 4.100e+00 2.740e+00 ... 6.100e-01 1.600e+00 5.600e+02]]\n",
      "\n",
      "on veut prédire un cultivateur (0, 1 ou 2) par vin :  [0 0 0 0 0 0 0 0 0 0 0 0 0 0 0 0 0 0 0 0 0 0 0 0 0 0 0 0 0 0 0 0 0 0 0 0 0\n",
      " 0 0 0 0 0 0 0 0 0 0 0 0 0 0 0 0 0 0 0 0 0 0 1 1 1 1 1 1 1 1 1 1 1 1 1 1 1\n",
      " 1 1 1 1 1 1 1 1 1 1 1 1 1 1 1 1 1 1 1 1 1 1 1 1 1 1 1 1 1 1 1 1 1 1 1 1 1\n",
      " 1 1 1 1 1 1 1 1 1 1 1 1 1 1 1 1 1 1 1 2 2 2 2 2 2 2 2 2 2 2 2 2 2 2 2 2 2\n",
      " 2 2 2 2 2 2 2 2 2 2 2 2 2 2 2 2 2 2 2 2 2 2 2 2 2 2 2 2 2 2]\n"
     ]
    }
   ],
   "source": [
    "wines = load_wine()\n",
    "\n",
    "X_wines = wines.data\n",
    "y_wines = wines.target\n",
    "\n",
    "print('dimension de X :', X_wines.shape)\n",
    "print(\"\")\n",
    "print(\"les différentes valeurs de nos features : \\n\",X_wines)\n",
    "print(\"\")\n",
    "print('on veut prédire un cultivateur (0, 1 ou 2) par vin : ',y_wines)"
   ]
  },
  {
   "cell_type": "code",
   "execution_count": 25,
   "id": "incorporated-controversy",
   "metadata": {},
   "outputs": [],
   "source": [
    "# Split data\n",
    "X_wines_train, X_wines_test, y_wines_train, y_wines_test = train_test_split(X_wines, y_wines, test_size=0.30, random_state=42)\n",
    "\n",
    "# création du modèle\n",
    "modelTreeWines = tree.DecisionTreeClassifier()\n",
    "\n",
    "# entraînement du modèle\n",
    "modelTreeWines.fit(X_wines_train,y_wines_train)\n",
    "\n",
    "# get entêtes\n",
    "classes_wines = wines.target_names\n",
    "features_wines = wines.feature_names"
   ]
  },
  {
   "cell_type": "code",
   "execution_count": 26,
   "id": "second-trunk",
   "metadata": {},
   "outputs": [
    {
     "name": "stdout",
     "output_type": "stream",
     "text": [
      "les cultivateurs (classes) : \n",
      "\n",
      " ['class_0' 'class_1' 'class_2']\n",
      "\n",
      "les features (caractéristiques  chimiques des vins) : \n",
      "\n",
      " ['alcohol', 'malic_acid', 'ash', 'alcalinity_of_ash', 'magnesium', 'total_phenols', 'flavanoids', 'nonflavanoid_phenols', 'proanthocyanins', 'color_intensity', 'hue', 'od280/od315_of_diluted_wines', 'proline']\n"
     ]
    }
   ],
   "source": [
    "print('les cultivateurs (classes) : \\n\\n',classes_wines)\n",
    "print(\"\")\n",
    "print('les features (caractéristiques  chimiques des vins) : \\n\\n',features_wines)"
   ]
  },
  {
   "cell_type": "markdown",
   "id": "molecular-significance",
   "metadata": {},
   "source": [
    "## Exécutez cette cellule afin de visualiser le graphe"
   ]
  },
  {
   "cell_type": "code",
   "execution_count": 27,
   "id": "positive-accountability",
   "metadata": {
    "scrolled": false
   },
   "outputs": [
    {
     "data": {
      "image/svg+xml": [
       "<?xml version=\"1.0\" encoding=\"UTF-8\" standalone=\"no\"?>\n",
       "<!DOCTYPE svg PUBLIC \"-//W3C//DTD SVG 1.1//EN\"\n",
       " \"http://www.w3.org/Graphics/SVG/1.1/DTD/svg11.dtd\">\n",
       "<!-- Generated by graphviz version 2.47.0 (20210316.1410)\n",
       " -->\n",
       "<!-- Title: Tree Pages: 1 -->\n",
       "<svg width=\"778pt\" height=\"552pt\"\n",
       " viewBox=\"0.00 0.00 778.00 552.00\" xmlns=\"http://www.w3.org/2000/svg\" xmlns:xlink=\"http://www.w3.org/1999/xlink\">\n",
       "<g id=\"graph0\" class=\"graph\" transform=\"scale(1 1) rotate(0) translate(4 548)\">\n",
       "<title>Tree</title>\n",
       "<polygon fill=\"white\" stroke=\"transparent\" points=\"-4,4 -4,-548 774,-548 774,4 -4,4\"/>\n",
       "<!-- 0 -->\n",
       "<g id=\"node1\" class=\"node\">\n",
       "<title>0</title>\n",
       "<path fill=\"#e7fcf0\" stroke=\"black\" d=\"M456,-544C456,-544 307,-544 307,-544 301,-544 295,-538 295,-532 295,-532 295,-473 295,-473 295,-467 301,-461 307,-461 307,-461 456,-461 456,-461 462,-461 468,-467 468,-473 468,-473 468,-532 468,-532 468,-538 462,-544 456,-544\"/>\n",
       "<text text-anchor=\"start\" x=\"303\" y=\"-528.8\" font-family=\"helvetica\" font-size=\"14.00\">color_intensity ≤ 3.82</text>\n",
       "<text text-anchor=\"start\" x=\"337.5\" y=\"-513.8\" font-family=\"helvetica\" font-size=\"14.00\">gini = 0.658</text>\n",
       "<text text-anchor=\"start\" x=\"327\" y=\"-498.8\" font-family=\"helvetica\" font-size=\"14.00\">samples = 124</text>\n",
       "<text text-anchor=\"start\" x=\"310\" y=\"-483.8\" font-family=\"helvetica\" font-size=\"14.00\">value = [40, 50, 34]</text>\n",
       "<text text-anchor=\"start\" x=\"327\" y=\"-468.8\" font-family=\"helvetica\" font-size=\"14.00\">class = class_1</text>\n",
       "</g>\n",
       "<!-- 1 -->\n",
       "<g id=\"node2\" class=\"node\">\n",
       "<title>1</title>\n",
       "<path fill=\"#42e687\" stroke=\"black\" d=\"M358,-425C358,-425 241,-425 241,-425 235,-425 229,-419 229,-413 229,-413 229,-354 229,-354 229,-348 235,-342 241,-342 241,-342 358,-342 358,-342 364,-342 370,-348 370,-354 370,-354 370,-413 370,-413 370,-419 364,-425 358,-425\"/>\n",
       "<text text-anchor=\"start\" x=\"260\" y=\"-409.8\" font-family=\"helvetica\" font-size=\"14.00\">ash ≤ 3.07</text>\n",
       "<text text-anchor=\"start\" x=\"255.5\" y=\"-394.8\" font-family=\"helvetica\" font-size=\"14.00\">gini = 0.083</text>\n",
       "<text text-anchor=\"start\" x=\"249.5\" y=\"-379.8\" font-family=\"helvetica\" font-size=\"14.00\">samples = 46</text>\n",
       "<text text-anchor=\"start\" x=\"237\" y=\"-364.8\" font-family=\"helvetica\" font-size=\"14.00\">value = [2, 44, 0]</text>\n",
       "<text text-anchor=\"start\" x=\"245\" y=\"-349.8\" font-family=\"helvetica\" font-size=\"14.00\">class = class_1</text>\n",
       "</g>\n",
       "<!-- 0&#45;&gt;1 -->\n",
       "<g id=\"edge1\" class=\"edge\">\n",
       "<title>0&#45;&gt;1</title>\n",
       "<path fill=\"none\" stroke=\"black\" d=\"M353.05,-460.91C346.82,-452.01 340.16,-442.51 333.72,-433.33\"/>\n",
       "<polygon fill=\"black\" stroke=\"black\" points=\"336.5,-431.2 327.9,-425.02 330.77,-435.22 336.5,-431.2\"/>\n",
       "<text text-anchor=\"middle\" x=\"323.57\" y=\"-445.94\" font-family=\"helvetica\" font-size=\"14.00\">True</text>\n",
       "</g>\n",
       "<!-- 6 -->\n",
       "<g id=\"node7\" class=\"node\">\n",
       "<title>6</title>\n",
       "<path fill=\"#fdf4ed\" stroke=\"black\" d=\"M526.5,-425C526.5,-425 400.5,-425 400.5,-425 394.5,-425 388.5,-419 388.5,-413 388.5,-413 388.5,-354 388.5,-354 388.5,-348 394.5,-342 400.5,-342 400.5,-342 526.5,-342 526.5,-342 532.5,-342 538.5,-348 538.5,-354 538.5,-354 538.5,-413 538.5,-413 538.5,-419 532.5,-425 526.5,-425\"/>\n",
       "<text text-anchor=\"start\" x=\"404.5\" y=\"-409.8\" font-family=\"helvetica\" font-size=\"14.00\">flavanoids ≤ 1.4</text>\n",
       "<text text-anchor=\"start\" x=\"419.5\" y=\"-394.8\" font-family=\"helvetica\" font-size=\"14.00\">gini = 0.567</text>\n",
       "<text text-anchor=\"start\" x=\"413.5\" y=\"-379.8\" font-family=\"helvetica\" font-size=\"14.00\">samples = 78</text>\n",
       "<text text-anchor=\"start\" x=\"396.5\" y=\"-364.8\" font-family=\"helvetica\" font-size=\"14.00\">value = [38, 6, 34]</text>\n",
       "<text text-anchor=\"start\" x=\"409\" y=\"-349.8\" font-family=\"helvetica\" font-size=\"14.00\">class = class_0</text>\n",
       "</g>\n",
       "<!-- 0&#45;&gt;6 -->\n",
       "<g id=\"edge6\" class=\"edge\">\n",
       "<title>0&#45;&gt;6</title>\n",
       "<path fill=\"none\" stroke=\"black\" d=\"M409.95,-460.91C416.18,-452.01 422.84,-442.51 429.28,-433.33\"/>\n",
       "<polygon fill=\"black\" stroke=\"black\" points=\"432.23,-435.22 435.1,-425.02 426.5,-431.2 432.23,-435.22\"/>\n",
       "<text text-anchor=\"middle\" x=\"439.43\" y=\"-445.94\" font-family=\"helvetica\" font-size=\"14.00\">False</text>\n",
       "</g>\n",
       "<!-- 2 -->\n",
       "<g id=\"node3\" class=\"node\">\n",
       "<title>2</title>\n",
       "<path fill=\"#3de684\" stroke=\"black\" d=\"M206,-306C206,-306 89,-306 89,-306 83,-306 77,-300 77,-294 77,-294 77,-235 77,-235 77,-229 83,-223 89,-223 89,-223 206,-223 206,-223 212,-223 218,-229 218,-235 218,-235 218,-294 218,-294 218,-300 212,-306 206,-306\"/>\n",
       "<text text-anchor=\"start\" x=\"87\" y=\"-290.8\" font-family=\"helvetica\" font-size=\"14.00\">proline ≤ 1010.0</text>\n",
       "<text text-anchor=\"start\" x=\"103.5\" y=\"-275.8\" font-family=\"helvetica\" font-size=\"14.00\">gini = 0.043</text>\n",
       "<text text-anchor=\"start\" x=\"97.5\" y=\"-260.8\" font-family=\"helvetica\" font-size=\"14.00\">samples = 45</text>\n",
       "<text text-anchor=\"start\" x=\"85\" y=\"-245.8\" font-family=\"helvetica\" font-size=\"14.00\">value = [1, 44, 0]</text>\n",
       "<text text-anchor=\"start\" x=\"93\" y=\"-230.8\" font-family=\"helvetica\" font-size=\"14.00\">class = class_1</text>\n",
       "</g>\n",
       "<!-- 1&#45;&gt;2 -->\n",
       "<g id=\"edge2\" class=\"edge\">\n",
       "<title>1&#45;&gt;2</title>\n",
       "<path fill=\"none\" stroke=\"black\" d=\"M246.76,-341.91C234.38,-332.38 221.09,-322.15 208.39,-312.37\"/>\n",
       "<polygon fill=\"black\" stroke=\"black\" points=\"210.2,-309.35 200.14,-306.02 205.93,-314.89 210.2,-309.35\"/>\n",
       "</g>\n",
       "<!-- 5 -->\n",
       "<g id=\"node6\" class=\"node\">\n",
       "<title>5</title>\n",
       "<path fill=\"#e58139\" stroke=\"black\" d=\"M356.5,-298.5C356.5,-298.5 248.5,-298.5 248.5,-298.5 242.5,-298.5 236.5,-292.5 236.5,-286.5 236.5,-286.5 236.5,-242.5 236.5,-242.5 236.5,-236.5 242.5,-230.5 248.5,-230.5 248.5,-230.5 356.5,-230.5 356.5,-230.5 362.5,-230.5 368.5,-236.5 368.5,-242.5 368.5,-242.5 368.5,-286.5 368.5,-286.5 368.5,-292.5 362.5,-298.5 356.5,-298.5\"/>\n",
       "<text text-anchor=\"start\" x=\"267.5\" y=\"-283.3\" font-family=\"helvetica\" font-size=\"14.00\">gini = 0.0</text>\n",
       "<text text-anchor=\"start\" x=\"257\" y=\"-268.3\" font-family=\"helvetica\" font-size=\"14.00\">samples = 1</text>\n",
       "<text text-anchor=\"start\" x=\"244.5\" y=\"-253.3\" font-family=\"helvetica\" font-size=\"14.00\">value = [1, 0, 0]</text>\n",
       "<text text-anchor=\"start\" x=\"248\" y=\"-238.3\" font-family=\"helvetica\" font-size=\"14.00\">class = class_0</text>\n",
       "</g>\n",
       "<!-- 1&#45;&gt;5 -->\n",
       "<g id=\"edge5\" class=\"edge\">\n",
       "<title>1&#45;&gt;5</title>\n",
       "<path fill=\"none\" stroke=\"black\" d=\"M300.54,-341.91C300.82,-331.2 301.11,-319.62 301.39,-308.78\"/>\n",
       "<polygon fill=\"black\" stroke=\"black\" points=\"304.89,-308.75 301.65,-298.67 297.89,-308.57 304.89,-308.75\"/>\n",
       "</g>\n",
       "<!-- 3 -->\n",
       "<g id=\"node4\" class=\"node\">\n",
       "<title>3</title>\n",
       "<path fill=\"#39e581\" stroke=\"black\" d=\"M129,-179.5C129,-179.5 12,-179.5 12,-179.5 6,-179.5 0,-173.5 0,-167.5 0,-167.5 0,-123.5 0,-123.5 0,-117.5 6,-111.5 12,-111.5 12,-111.5 129,-111.5 129,-111.5 135,-111.5 141,-117.5 141,-123.5 141,-123.5 141,-167.5 141,-167.5 141,-173.5 135,-179.5 129,-179.5\"/>\n",
       "<text text-anchor=\"start\" x=\"35.5\" y=\"-164.3\" font-family=\"helvetica\" font-size=\"14.00\">gini = 0.0</text>\n",
       "<text text-anchor=\"start\" x=\"20.5\" y=\"-149.3\" font-family=\"helvetica\" font-size=\"14.00\">samples = 44</text>\n",
       "<text text-anchor=\"start\" x=\"8\" y=\"-134.3\" font-family=\"helvetica\" font-size=\"14.00\">value = [0, 44, 0]</text>\n",
       "<text text-anchor=\"start\" x=\"16\" y=\"-119.3\" font-family=\"helvetica\" font-size=\"14.00\">class = class_1</text>\n",
       "</g>\n",
       "<!-- 2&#45;&gt;3 -->\n",
       "<g id=\"edge3\" class=\"edge\">\n",
       "<title>2&#45;&gt;3</title>\n",
       "<path fill=\"none\" stroke=\"black\" d=\"M120.79,-222.91C113.38,-211.65 105.33,-199.42 97.88,-188.11\"/>\n",
       "<polygon fill=\"black\" stroke=\"black\" points=\"100.75,-186.1 92.33,-179.67 94.9,-189.94 100.75,-186.1\"/>\n",
       "</g>\n",
       "<!-- 4 -->\n",
       "<g id=\"node5\" class=\"node\">\n",
       "<title>4</title>\n",
       "<path fill=\"#e58139\" stroke=\"black\" d=\"M279.5,-179.5C279.5,-179.5 171.5,-179.5 171.5,-179.5 165.5,-179.5 159.5,-173.5 159.5,-167.5 159.5,-167.5 159.5,-123.5 159.5,-123.5 159.5,-117.5 165.5,-111.5 171.5,-111.5 171.5,-111.5 279.5,-111.5 279.5,-111.5 285.5,-111.5 291.5,-117.5 291.5,-123.5 291.5,-123.5 291.5,-167.5 291.5,-167.5 291.5,-173.5 285.5,-179.5 279.5,-179.5\"/>\n",
       "<text text-anchor=\"start\" x=\"190.5\" y=\"-164.3\" font-family=\"helvetica\" font-size=\"14.00\">gini = 0.0</text>\n",
       "<text text-anchor=\"start\" x=\"180\" y=\"-149.3\" font-family=\"helvetica\" font-size=\"14.00\">samples = 1</text>\n",
       "<text text-anchor=\"start\" x=\"167.5\" y=\"-134.3\" font-family=\"helvetica\" font-size=\"14.00\">value = [1, 0, 0]</text>\n",
       "<text text-anchor=\"start\" x=\"171\" y=\"-119.3\" font-family=\"helvetica\" font-size=\"14.00\">class = class_0</text>\n",
       "</g>\n",
       "<!-- 2&#45;&gt;4 -->\n",
       "<g id=\"edge4\" class=\"edge\">\n",
       "<title>2&#45;&gt;4</title>\n",
       "<path fill=\"none\" stroke=\"black\" d=\"M174.56,-222.91C182.07,-211.65 190.22,-199.42 197.76,-188.11\"/>\n",
       "<polygon fill=\"black\" stroke=\"black\" points=\"200.75,-189.93 203.39,-179.67 194.93,-186.05 200.75,-189.93\"/>\n",
       "</g>\n",
       "<!-- 7 -->\n",
       "<g id=\"node8\" class=\"node\">\n",
       "<title>7</title>\n",
       "<path fill=\"#8139e5\" stroke=\"black\" d=\"M520,-298.5C520,-298.5 403,-298.5 403,-298.5 397,-298.5 391,-292.5 391,-286.5 391,-286.5 391,-242.5 391,-242.5 391,-236.5 397,-230.5 403,-230.5 403,-230.5 520,-230.5 520,-230.5 526,-230.5 532,-236.5 532,-242.5 532,-242.5 532,-286.5 532,-286.5 532,-292.5 526,-298.5 520,-298.5\"/>\n",
       "<text text-anchor=\"start\" x=\"426.5\" y=\"-283.3\" font-family=\"helvetica\" font-size=\"14.00\">gini = 0.0</text>\n",
       "<text text-anchor=\"start\" x=\"411.5\" y=\"-268.3\" font-family=\"helvetica\" font-size=\"14.00\">samples = 34</text>\n",
       "<text text-anchor=\"start\" x=\"399\" y=\"-253.3\" font-family=\"helvetica\" font-size=\"14.00\">value = [0, 0, 34]</text>\n",
       "<text text-anchor=\"start\" x=\"407\" y=\"-238.3\" font-family=\"helvetica\" font-size=\"14.00\">class = class_2</text>\n",
       "</g>\n",
       "<!-- 6&#45;&gt;7 -->\n",
       "<g id=\"edge7\" class=\"edge\">\n",
       "<title>6&#45;&gt;7</title>\n",
       "<path fill=\"none\" stroke=\"black\" d=\"M462.81,-341.91C462.62,-331.2 462.43,-319.62 462.24,-308.78\"/>\n",
       "<polygon fill=\"black\" stroke=\"black\" points=\"465.74,-308.61 462.07,-298.67 458.74,-308.73 465.74,-308.61\"/>\n",
       "</g>\n",
       "<!-- 8 -->\n",
       "<g id=\"node9\" class=\"node\">\n",
       "<title>8</title>\n",
       "<path fill=\"#e99558\" stroke=\"black\" d=\"M679,-306C679,-306 562,-306 562,-306 556,-306 550,-300 550,-294 550,-294 550,-235 550,-235 550,-229 556,-223 562,-223 562,-223 679,-223 679,-223 685,-223 691,-229 691,-235 691,-235 691,-294 691,-294 691,-300 685,-306 679,-306\"/>\n",
       "<text text-anchor=\"start\" x=\"564.5\" y=\"-290.8\" font-family=\"helvetica\" font-size=\"14.00\">proline ≤ 724.5</text>\n",
       "<text text-anchor=\"start\" x=\"576.5\" y=\"-275.8\" font-family=\"helvetica\" font-size=\"14.00\">gini = 0.236</text>\n",
       "<text text-anchor=\"start\" x=\"570.5\" y=\"-260.8\" font-family=\"helvetica\" font-size=\"14.00\">samples = 44</text>\n",
       "<text text-anchor=\"start\" x=\"558\" y=\"-245.8\" font-family=\"helvetica\" font-size=\"14.00\">value = [38, 6, 0]</text>\n",
       "<text text-anchor=\"start\" x=\"566\" y=\"-230.8\" font-family=\"helvetica\" font-size=\"14.00\">class = class_0</text>\n",
       "</g>\n",
       "<!-- 6&#45;&gt;8 -->\n",
       "<g id=\"edge8\" class=\"edge\">\n",
       "<title>6&#45;&gt;8</title>\n",
       "<path fill=\"none\" stroke=\"black\" d=\"M517.97,-341.91C530.88,-332.29 544.75,-321.95 557.98,-312.09\"/>\n",
       "<polygon fill=\"black\" stroke=\"black\" points=\"560.2,-314.8 566.13,-306.02 556.02,-309.19 560.2,-314.8\"/>\n",
       "</g>\n",
       "<!-- 9 -->\n",
       "<g id=\"node10\" class=\"node\">\n",
       "<title>9</title>\n",
       "<path fill=\"#5ae996\" stroke=\"black\" d=\"M598.5,-187C598.5,-187 484.5,-187 484.5,-187 478.5,-187 472.5,-181 472.5,-175 472.5,-175 472.5,-116 472.5,-116 472.5,-110 478.5,-104 484.5,-104 484.5,-104 598.5,-104 598.5,-104 604.5,-104 610.5,-110 610.5,-116 610.5,-116 610.5,-175 610.5,-175 610.5,-181 604.5,-187 598.5,-187\"/>\n",
       "<text text-anchor=\"start\" x=\"480.5\" y=\"-171.8\" font-family=\"helvetica\" font-size=\"14.00\">alcohol ≤ 13.145</text>\n",
       "<text text-anchor=\"start\" x=\"497.5\" y=\"-156.8\" font-family=\"helvetica\" font-size=\"14.00\">gini = 0.245</text>\n",
       "<text text-anchor=\"start\" x=\"496\" y=\"-141.8\" font-family=\"helvetica\" font-size=\"14.00\">samples = 7</text>\n",
       "<text text-anchor=\"start\" x=\"483.5\" y=\"-126.8\" font-family=\"helvetica\" font-size=\"14.00\">value = [1, 6, 0]</text>\n",
       "<text text-anchor=\"start\" x=\"487\" y=\"-111.8\" font-family=\"helvetica\" font-size=\"14.00\">class = class_1</text>\n",
       "</g>\n",
       "<!-- 8&#45;&gt;9 -->\n",
       "<g id=\"edge9\" class=\"edge\">\n",
       "<title>8&#45;&gt;9</title>\n",
       "<path fill=\"none\" stroke=\"black\" d=\"M593.09,-222.91C587.09,-214.01 580.67,-204.51 574.47,-195.33\"/>\n",
       "<polygon fill=\"black\" stroke=\"black\" points=\"577.36,-193.35 568.86,-187.02 571.56,-197.27 577.36,-193.35\"/>\n",
       "</g>\n",
       "<!-- 12 -->\n",
       "<g id=\"node13\" class=\"node\">\n",
       "<title>12</title>\n",
       "<path fill=\"#e58139\" stroke=\"black\" d=\"M758,-179.5C758,-179.5 641,-179.5 641,-179.5 635,-179.5 629,-173.5 629,-167.5 629,-167.5 629,-123.5 629,-123.5 629,-117.5 635,-111.5 641,-111.5 641,-111.5 758,-111.5 758,-111.5 764,-111.5 770,-117.5 770,-123.5 770,-123.5 770,-167.5 770,-167.5 770,-173.5 764,-179.5 758,-179.5\"/>\n",
       "<text text-anchor=\"start\" x=\"664.5\" y=\"-164.3\" font-family=\"helvetica\" font-size=\"14.00\">gini = 0.0</text>\n",
       "<text text-anchor=\"start\" x=\"649.5\" y=\"-149.3\" font-family=\"helvetica\" font-size=\"14.00\">samples = 37</text>\n",
       "<text text-anchor=\"start\" x=\"637\" y=\"-134.3\" font-family=\"helvetica\" font-size=\"14.00\">value = [37, 0, 0]</text>\n",
       "<text text-anchor=\"start\" x=\"645\" y=\"-119.3\" font-family=\"helvetica\" font-size=\"14.00\">class = class_0</text>\n",
       "</g>\n",
       "<!-- 8&#45;&gt;12 -->\n",
       "<g id=\"edge12\" class=\"edge\">\n",
       "<title>8&#45;&gt;12</title>\n",
       "<path fill=\"none\" stroke=\"black\" d=\"M647.91,-222.91C655.51,-211.65 663.77,-199.42 671.41,-188.11\"/>\n",
       "<polygon fill=\"black\" stroke=\"black\" points=\"674.41,-189.91 677.11,-179.67 668.61,-186 674.41,-189.91\"/>\n",
       "</g>\n",
       "<!-- 10 -->\n",
       "<g id=\"node11\" class=\"node\">\n",
       "<title>10</title>\n",
       "<path fill=\"#39e581\" stroke=\"black\" d=\"M520.5,-68C520.5,-68 412.5,-68 412.5,-68 406.5,-68 400.5,-62 400.5,-56 400.5,-56 400.5,-12 400.5,-12 400.5,-6 406.5,0 412.5,0 412.5,0 520.5,0 520.5,0 526.5,0 532.5,-6 532.5,-12 532.5,-12 532.5,-56 532.5,-56 532.5,-62 526.5,-68 520.5,-68\"/>\n",
       "<text text-anchor=\"start\" x=\"431.5\" y=\"-52.8\" font-family=\"helvetica\" font-size=\"14.00\">gini = 0.0</text>\n",
       "<text text-anchor=\"start\" x=\"421\" y=\"-37.8\" font-family=\"helvetica\" font-size=\"14.00\">samples = 6</text>\n",
       "<text text-anchor=\"start\" x=\"408.5\" y=\"-22.8\" font-family=\"helvetica\" font-size=\"14.00\">value = [0, 6, 0]</text>\n",
       "<text text-anchor=\"start\" x=\"412\" y=\"-7.8\" font-family=\"helvetica\" font-size=\"14.00\">class = class_1</text>\n",
       "</g>\n",
       "<!-- 9&#45;&gt;10 -->\n",
       "<g id=\"edge10\" class=\"edge\">\n",
       "<title>9&#45;&gt;10</title>\n",
       "<path fill=\"none\" stroke=\"black\" d=\"M513.57,-103.73C507.51,-94.88 501.1,-85.51 495.01,-76.63\"/>\n",
       "<polygon fill=\"black\" stroke=\"black\" points=\"497.85,-74.57 489.31,-68.3 492.07,-78.53 497.85,-74.57\"/>\n",
       "</g>\n",
       "<!-- 11 -->\n",
       "<g id=\"node12\" class=\"node\">\n",
       "<title>11</title>\n",
       "<path fill=\"#e58139\" stroke=\"black\" d=\"M670.5,-68C670.5,-68 562.5,-68 562.5,-68 556.5,-68 550.5,-62 550.5,-56 550.5,-56 550.5,-12 550.5,-12 550.5,-6 556.5,0 562.5,0 562.5,0 670.5,0 670.5,0 676.5,0 682.5,-6 682.5,-12 682.5,-12 682.5,-56 682.5,-56 682.5,-62 676.5,-68 670.5,-68\"/>\n",
       "<text text-anchor=\"start\" x=\"581.5\" y=\"-52.8\" font-family=\"helvetica\" font-size=\"14.00\">gini = 0.0</text>\n",
       "<text text-anchor=\"start\" x=\"571\" y=\"-37.8\" font-family=\"helvetica\" font-size=\"14.00\">samples = 1</text>\n",
       "<text text-anchor=\"start\" x=\"558.5\" y=\"-22.8\" font-family=\"helvetica\" font-size=\"14.00\">value = [1, 0, 0]</text>\n",
       "<text text-anchor=\"start\" x=\"562\" y=\"-7.8\" font-family=\"helvetica\" font-size=\"14.00\">class = class_0</text>\n",
       "</g>\n",
       "<!-- 9&#45;&gt;11 -->\n",
       "<g id=\"edge11\" class=\"edge\">\n",
       "<title>9&#45;&gt;11</title>\n",
       "<path fill=\"none\" stroke=\"black\" d=\"M569.43,-103.73C575.49,-94.88 581.9,-85.51 587.99,-76.63\"/>\n",
       "<polygon fill=\"black\" stroke=\"black\" points=\"590.93,-78.53 593.69,-68.3 585.15,-74.57 590.93,-78.53\"/>\n",
       "</g>\n",
       "</g>\n",
       "</svg>\n"
      ],
      "text/plain": [
       "<graphviz.sources.Source at 0x7fc7ca22edd8>"
      ]
     },
     "execution_count": 27,
     "metadata": {},
     "output_type": "execute_result"
    }
   ],
   "source": [
    "# exportation de la structure de l'arbre dans un fichier .dot\n",
    "dotFile_wines = open(\"file2.dot\", \"w\")\n",
    "\n",
    "# Viusaliseur en ligne\n",
    "tree.export_graphviz(modelTreeWines, out_file=dotFile_wines,\n",
    "                    feature_names=features_wines,\n",
    "                    class_names=classes_wines,\n",
    "                    filled=True, rounded=True,\n",
    "                    special_characters=True)\n",
    "dotFile_wines.close()\n",
    "\n",
    "# Visualisation\n",
    "dot_wine = tree.export_graphviz(modelTreeWines, out_file=None, \n",
    "                        feature_names=features_wines,  \n",
    "                        class_names=classes_wines,     \n",
    "                        filled=True, rounded=True,  \n",
    "                        special_characters=True) \n",
    "graph = graphviz.Source(dot_wine)\n",
    "graph"
   ]
  },
  {
   "cell_type": "code",
   "execution_count": 28,
   "id": "magnetic-director",
   "metadata": {},
   "outputs": [
    {
     "name": "stdout",
     "output_type": "stream",
     "text": [
      "Tree -> Accuracy: 0.8763492063492062 (+/- 0.0627705030601298)\n",
      "NB -> Accuracy: 0.9663492063492063 (+/- 0.02113317858457236)\n",
      "KNN -> Accuracy: 0.6912698412698413 (+/- 0.04877951071049148)\n"
     ]
    }
   ],
   "source": [
    "# Decision tree with CV\n",
    "\n",
    "TreeMean_wines, TreeStd_wines = cvComparaison(tree.DecisionTreeClassifier(), X_wines, y_wines, 5)\n",
    "\n",
    "# Gaussian NB with CV\n",
    "\n",
    "NbMean_wines, NbStd_wines = cvComparaison(GaussianNB(), X_wines, y_wines, 5)\n",
    "\n",
    "# KNN with CV\n",
    "\n",
    "KnnMean_wines, KnnStd_wines = cvComparaison(KNeighborsClassifier(), X_wines, y_wines, 5)\n",
    "\n",
    "printResult(\"Tree ->\",TreeMean_wines,TreeStd_wines)\n",
    "printResult(\"NB ->\",NbMean_wines,NbStd_wines)\n",
    "printResult(\"KNN ->\",KnnMean_wines,KnnStd_wines)"
   ]
  },
  {
   "cell_type": "markdown",
   "id": "alternate-database",
   "metadata": {},
   "source": [
    "#### Commentaire :\n",
    "\n",
    "Avec le dataset sur les vins, on peut constater que GaussianNB est efficace, masi ce pendant, on ne perd pas de vue que tout est question de la manière dont les données sont aléatoirment obtenu au niveau du split. "
   ]
  },
  {
   "cell_type": "markdown",
   "id": "acute-theater",
   "metadata": {},
   "source": [
    "\n",
    "\n",
    "****"
   ]
  },
  {
   "cell_type": "markdown",
   "id": "becoming-diabetes",
   "metadata": {},
   "source": [
    "**3.3.2) Pour finir notre exploration de cet algorithme sur différentes bases de données qu'offre sklearn, on va s'intéresse à présent aux dignostics sur le cancer du sein dans le Wisconsin, l'objectif serait de dire si pour chaque sujet, il s'agit d'un cas malin ou bénigne. Ce jeu de donnés comporte 569 observations, dont 30 features**"
   ]
  },
  {
   "cell_type": "code",
   "execution_count": 29,
   "id": "working-completion",
   "metadata": {},
   "outputs": [],
   "source": [
    "from sklearn.datasets import load_breast_cancer"
   ]
  },
  {
   "cell_type": "code",
   "execution_count": 30,
   "id": "powerful-semester",
   "metadata": {},
   "outputs": [
    {
     "name": "stdout",
     "output_type": "stream",
     "text": [
      "dimension de X :\n",
      " (569, 30)\n",
      "\n",
      "les différentes valeurs de nos features : \n",
      " [[1.799e+01 1.038e+01 1.228e+02 ... 2.654e-01 4.601e-01 1.189e-01]\n",
      " [2.057e+01 1.777e+01 1.329e+02 ... 1.860e-01 2.750e-01 8.902e-02]\n",
      " [1.969e+01 2.125e+01 1.300e+02 ... 2.430e-01 3.613e-01 8.758e-02]\n",
      " ...\n",
      " [1.660e+01 2.808e+01 1.083e+02 ... 1.418e-01 2.218e-01 7.820e-02]\n",
      " [2.060e+01 2.933e+01 1.401e+02 ... 2.650e-01 4.087e-01 1.240e-01]\n",
      " [7.760e+00 2.454e+01 4.792e+01 ... 0.000e+00 2.871e-01 7.039e-02]]\n",
      "\n",
      "on veut prédire pour chaque sujet une situation (maligne ou Bénigne) : \n",
      " [0 0 0 0 0 0 0 0 0 0 0 0 0 0 0 0 0 0 0 1 1 1 0 0 0 0 0 0 0 0 0 0 0 0 0 0 0\n",
      " 1 0 0 0 0 0 0 0 0 1 0 1 1 1 1 1 0 0 1 0 0 1 1 1 1 0 1 0 0 1 1 1 1 0 1 0 0\n",
      " 1 0 1 0 0 1 1 1 0 0 1 0 0 0 1 1 1 0 1 1 0 0 1 1 1 0 0 1 1 1 1 0 1 1 0 1 1\n",
      " 1 1 1 1 1 1 0 0 0 1 0 0 1 1 1 0 0 1 0 1 0 0 1 0 0 1 1 0 1 1 0 1 1 1 1 0 1\n",
      " 1 1 1 1 1 1 1 1 0 1 1 1 1 0 0 1 0 1 1 0 0 1 1 0 0 1 1 1 1 0 1 1 0 0 0 1 0\n",
      " 1 0 1 1 1 0 1 1 0 0 1 0 0 0 0 1 0 0 0 1 0 1 0 1 1 0 1 0 0 0 0 1 1 0 0 1 1\n",
      " 1 0 1 1 1 1 1 0 0 1 1 0 1 1 0 0 1 0 1 1 1 1 0 1 1 1 1 1 0 1 0 0 0 0 0 0 0\n",
      " 0 0 0 0 0 0 0 1 1 1 1 1 1 0 1 0 1 1 0 1 1 0 1 0 0 1 1 1 1 1 1 1 1 1 1 1 1\n",
      " 1 0 1 1 0 1 0 1 1 1 1 1 1 1 1 1 1 1 1 1 1 0 1 1 1 0 1 0 1 1 1 1 0 0 0 1 1\n",
      " 1 1 0 1 0 1 0 1 1 1 0 1 1 1 1 1 1 1 0 0 0 1 1 1 1 1 1 1 1 1 1 1 0 0 1 0 0\n",
      " 0 1 0 0 1 1 1 1 1 0 1 1 1 1 1 0 1 1 1 0 1 1 0 0 1 1 1 1 1 1 0 1 1 1 1 1 1\n",
      " 1 0 1 1 1 1 1 0 1 1 0 1 1 1 1 1 1 1 1 1 1 1 1 0 1 0 0 1 0 1 1 1 1 1 0 1 1\n",
      " 0 1 0 1 1 0 1 0 1 1 1 1 1 1 1 1 0 0 1 1 1 1 1 1 0 1 1 1 1 1 1 1 1 1 1 0 1\n",
      " 1 1 1 1 1 1 0 1 0 1 1 0 1 1 1 1 1 0 0 1 0 1 0 1 1 1 1 1 0 1 1 0 1 0 1 0 0\n",
      " 1 1 1 0 1 1 1 1 1 1 1 1 1 1 1 0 1 0 0 1 1 1 1 1 1 1 1 1 1 1 1 1 1 1 1 1 1\n",
      " 1 1 1 1 1 1 1 0 0 0 0 0 0 1]\n"
     ]
    }
   ],
   "source": [
    "# on charge et on renvoie l'ensemble de données sur le cancer du sein au Wisconsin\n",
    "cancer = load_breast_cancer()\n",
    "\n",
    "X_cancer = cancer.data\n",
    "y_cancer = cancer.target\n",
    "\n",
    "print('dimension de X :\\n', X_cancer.shape)\n",
    "print(\"\")\n",
    "print(\"les différentes valeurs de nos features : \\n\",X_cancer)\n",
    "print(\"\")\n",
    "print('on veut prédire pour chaque sujet une situation (maligne ou Bénigne) : \\n',y_cancer)"
   ]
  },
  {
   "cell_type": "code",
   "execution_count": 31,
   "id": "single-employee",
   "metadata": {},
   "outputs": [],
   "source": [
    "# Split data\n",
    "X_cancer_train, X_cancer_test, y_cancer_train, y_cancer_test = train_test_split(X_cancer, y_cancer, test_size=0.30, random_state=42)\n",
    "\n",
    "# création du modèle\n",
    "modelTreeCancer = tree.DecisionTreeClassifier()\n",
    "\n",
    "# entraînement du modèle\n",
    "modelTreeCancer.fit(X_cancer_train,y_cancer_train)\n",
    "\n",
    "# get entêtes\n",
    "classes_cancer = cancer.target_names\n",
    "features_cancer = cancer.feature_names"
   ]
  },
  {
   "cell_type": "code",
   "execution_count": 32,
   "id": "equal-notion",
   "metadata": {},
   "outputs": [
    {
     "name": "stdout",
     "output_type": "stream",
     "text": [
      "les niveau de la maladie (classes) : \n",
      " ['malignant' 'benign']\n",
      "\n",
      "les features (caractéristiques de chaque sujet par rapport à leur situation respective) : \n",
      " ['mean radius' 'mean texture' 'mean perimeter' 'mean area'\n",
      " 'mean smoothness' 'mean compactness' 'mean concavity'\n",
      " 'mean concave points' 'mean symmetry' 'mean fractal dimension'\n",
      " 'radius error' 'texture error' 'perimeter error' 'area error'\n",
      " 'smoothness error' 'compactness error' 'concavity error'\n",
      " 'concave points error' 'symmetry error' 'fractal dimension error'\n",
      " 'worst radius' 'worst texture' 'worst perimeter' 'worst area'\n",
      " 'worst smoothness' 'worst compactness' 'worst concavity'\n",
      " 'worst concave points' 'worst symmetry' 'worst fractal dimension']\n"
     ]
    }
   ],
   "source": [
    "print('les niveau de la maladie (classes) : \\n',classes_cancer)\n",
    "print(\"\")\n",
    "print('les features (caractéristiques de chaque sujet par rapport à leur situation respective) : \\n',features_cancer)"
   ]
  },
  {
   "cell_type": "markdown",
   "id": "light-omaha",
   "metadata": {},
   "source": [
    "## Exécutez cette cellule afin de visualiser le graphe"
   ]
  },
  {
   "cell_type": "code",
   "execution_count": 33,
   "id": "blessed-minute",
   "metadata": {},
   "outputs": [
    {
     "data": {
      "image/svg+xml": [
       "<?xml version=\"1.0\" encoding=\"UTF-8\" standalone=\"no\"?>\n",
       "<!DOCTYPE svg PUBLIC \"-//W3C//DTD SVG 1.1//EN\"\n",
       " \"http://www.w3.org/Graphics/SVG/1.1/DTD/svg11.dtd\">\n",
       "<!-- Generated by graphviz version 2.47.0 (20210316.1410)\n",
       " -->\n",
       "<!-- Title: Tree Pages: 1 -->\n",
       "<svg width=\"1801pt\" height=\"909pt\"\n",
       " viewBox=\"0.00 0.00 1800.50 909.00\" xmlns=\"http://www.w3.org/2000/svg\" xmlns:xlink=\"http://www.w3.org/1999/xlink\">\n",
       "<g id=\"graph0\" class=\"graph\" transform=\"scale(1 1) rotate(0) translate(4 905)\">\n",
       "<title>Tree</title>\n",
       "<polygon fill=\"white\" stroke=\"transparent\" points=\"-4,4 -4,-905 1796.5,-905 1796.5,4 -4,4\"/>\n",
       "<!-- 0 -->\n",
       "<g id=\"node1\" class=\"node\">\n",
       "<title>0</title>\n",
       "<path fill=\"#afd8f5\" stroke=\"black\" d=\"M1199.5,-901C1199.5,-901 992.5,-901 992.5,-901 986.5,-901 980.5,-895 980.5,-889 980.5,-889 980.5,-830 980.5,-830 980.5,-824 986.5,-818 992.5,-818 992.5,-818 1199.5,-818 1199.5,-818 1205.5,-818 1211.5,-824 1211.5,-830 1211.5,-830 1211.5,-889 1211.5,-889 1211.5,-895 1205.5,-901 1199.5,-901\"/>\n",
       "<text text-anchor=\"start\" x=\"988.5\" y=\"-885.8\" font-family=\"helvetica\" font-size=\"14.00\">mean concave points ≤ 0.051</text>\n",
       "<text text-anchor=\"start\" x=\"1052\" y=\"-870.8\" font-family=\"helvetica\" font-size=\"14.00\">gini = 0.468</text>\n",
       "<text text-anchor=\"start\" x=\"1041.5\" y=\"-855.8\" font-family=\"helvetica\" font-size=\"14.00\">samples = 398</text>\n",
       "<text text-anchor=\"start\" x=\"1029\" y=\"-840.8\" font-family=\"helvetica\" font-size=\"14.00\">value = [149, 249]</text>\n",
       "<text text-anchor=\"start\" x=\"1043\" y=\"-825.8\" font-family=\"helvetica\" font-size=\"14.00\">class = benign</text>\n",
       "</g>\n",
       "<!-- 1 -->\n",
       "<g id=\"node2\" class=\"node\">\n",
       "<title>1</title>\n",
       "<path fill=\"#44a2e6\" stroke=\"black\" d=\"M1057.5,-782C1057.5,-782 914.5,-782 914.5,-782 908.5,-782 902.5,-776 902.5,-770 902.5,-770 902.5,-711 902.5,-711 902.5,-705 908.5,-699 914.5,-699 914.5,-699 1057.5,-699 1057.5,-699 1063.5,-699 1069.5,-705 1069.5,-711 1069.5,-711 1069.5,-770 1069.5,-770 1069.5,-776 1063.5,-782 1057.5,-782\"/>\n",
       "<text text-anchor=\"start\" x=\"910.5\" y=\"-766.8\" font-family=\"helvetica\" font-size=\"14.00\">worst radius ≤ 16.83</text>\n",
       "<text text-anchor=\"start\" x=\"951\" y=\"-751.8\" font-family=\"helvetica\" font-size=\"14.00\">gini = 0.1</text>\n",
       "<text text-anchor=\"start\" x=\"931.5\" y=\"-736.8\" font-family=\"helvetica\" font-size=\"14.00\">samples = 245</text>\n",
       "<text text-anchor=\"start\" x=\"923.5\" y=\"-721.8\" font-family=\"helvetica\" font-size=\"14.00\">value = [13, 232]</text>\n",
       "<text text-anchor=\"start\" x=\"933\" y=\"-706.8\" font-family=\"helvetica\" font-size=\"14.00\">class = benign</text>\n",
       "</g>\n",
       "<!-- 0&#45;&gt;1 -->\n",
       "<g id=\"edge1\" class=\"edge\">\n",
       "<title>0&#45;&gt;1</title>\n",
       "<path fill=\"none\" stroke=\"black\" d=\"M1057.84,-817.91C1049.22,-808.74 1039.99,-798.93 1031.12,-789.49\"/>\n",
       "<polygon fill=\"black\" stroke=\"black\" points=\"1033.5,-786.91 1024.1,-782.02 1028.4,-791.7 1033.5,-786.91\"/>\n",
       "<text text-anchor=\"middle\" x=\"1023.33\" y=\"-803.31\" font-family=\"helvetica\" font-size=\"14.00\">True</text>\n",
       "</g>\n",
       "<!-- 22 -->\n",
       "<g id=\"node23\" class=\"node\">\n",
       "<title>22</title>\n",
       "<path fill=\"#e89152\" stroke=\"black\" d=\"M1335.5,-782C1335.5,-782 1176.5,-782 1176.5,-782 1170.5,-782 1164.5,-776 1164.5,-770 1164.5,-770 1164.5,-711 1164.5,-711 1164.5,-705 1170.5,-699 1176.5,-699 1176.5,-699 1335.5,-699 1335.5,-699 1341.5,-699 1347.5,-705 1347.5,-711 1347.5,-711 1347.5,-770 1347.5,-770 1347.5,-776 1341.5,-782 1335.5,-782\"/>\n",
       "<text text-anchor=\"start\" x=\"1172.5\" y=\"-766.8\" font-family=\"helvetica\" font-size=\"14.00\">worst texture ≤ 20.405</text>\n",
       "<text text-anchor=\"start\" x=\"1212\" y=\"-751.8\" font-family=\"helvetica\" font-size=\"14.00\">gini = 0.198</text>\n",
       "<text text-anchor=\"start\" x=\"1201.5\" y=\"-736.8\" font-family=\"helvetica\" font-size=\"14.00\">samples = 153</text>\n",
       "<text text-anchor=\"start\" x=\"1193.5\" y=\"-721.8\" font-family=\"helvetica\" font-size=\"14.00\">value = [136, 17]</text>\n",
       "<text text-anchor=\"start\" x=\"1191.5\" y=\"-706.8\" font-family=\"helvetica\" font-size=\"14.00\">class = malignant</text>\n",
       "</g>\n",
       "<!-- 0&#45;&gt;22 -->\n",
       "<g id=\"edge22\" class=\"edge\">\n",
       "<title>0&#45;&gt;22</title>\n",
       "<path fill=\"none\" stroke=\"black\" d=\"M1151.51,-817.91C1164.67,-808.29 1178.8,-797.95 1192.29,-788.09\"/>\n",
       "<polygon fill=\"black\" stroke=\"black\" points=\"1194.58,-790.75 1200.59,-782.02 1190.45,-785.1 1194.58,-790.75\"/>\n",
       "<text text-anchor=\"middle\" x=\"1196.75\" y=\"-803.02\" font-family=\"helvetica\" font-size=\"14.00\">False</text>\n",
       "</g>\n",
       "<!-- 2 -->\n",
       "<g id=\"node3\" class=\"node\">\n",
       "<title>2</title>\n",
       "<path fill=\"#3d9fe6\" stroke=\"black\" d=\"M766.5,-663C766.5,-663 627.5,-663 627.5,-663 621.5,-663 615.5,-657 615.5,-651 615.5,-651 615.5,-592 615.5,-592 615.5,-586 621.5,-580 627.5,-580 627.5,-580 766.5,-580 766.5,-580 772.5,-580 778.5,-586 778.5,-592 778.5,-592 778.5,-651 778.5,-651 778.5,-657 772.5,-663 766.5,-663\"/>\n",
       "<text text-anchor=\"start\" x=\"623.5\" y=\"-647.8\" font-family=\"helvetica\" font-size=\"14.00\">radius error ≤ 0.626</text>\n",
       "<text text-anchor=\"start\" x=\"653\" y=\"-632.8\" font-family=\"helvetica\" font-size=\"14.00\">gini = 0.043</text>\n",
       "<text text-anchor=\"start\" x=\"642.5\" y=\"-617.8\" font-family=\"helvetica\" font-size=\"14.00\">samples = 230</text>\n",
       "<text text-anchor=\"start\" x=\"639\" y=\"-602.8\" font-family=\"helvetica\" font-size=\"14.00\">value = [5, 225]</text>\n",
       "<text text-anchor=\"start\" x=\"644\" y=\"-587.8\" font-family=\"helvetica\" font-size=\"14.00\">class = benign</text>\n",
       "</g>\n",
       "<!-- 1&#45;&gt;2 -->\n",
       "<g id=\"edge2\" class=\"edge\">\n",
       "<title>1&#45;&gt;2</title>\n",
       "<path fill=\"none\" stroke=\"black\" d=\"M902.41,-705.66C866.75,-691.22 825.04,-674.34 788.56,-659.57\"/>\n",
       "<polygon fill=\"black\" stroke=\"black\" points=\"789.49,-656.17 778.91,-655.66 786.86,-662.66 789.49,-656.17\"/>\n",
       "</g>\n",
       "<!-- 17 -->\n",
       "<g id=\"node18\" class=\"node\">\n",
       "<title>17</title>\n",
       "<path fill=\"#fcefe6\" stroke=\"black\" d=\"M1062,-663C1062,-663 910,-663 910,-663 904,-663 898,-657 898,-651 898,-651 898,-592 898,-592 898,-586 904,-580 910,-580 910,-580 1062,-580 1062,-580 1068,-580 1074,-586 1074,-592 1074,-592 1074,-651 1074,-651 1074,-657 1068,-663 1062,-663\"/>\n",
       "<text text-anchor=\"start\" x=\"906\" y=\"-647.8\" font-family=\"helvetica\" font-size=\"14.00\">mean texture ≤ 16.19</text>\n",
       "<text text-anchor=\"start\" x=\"942\" y=\"-632.8\" font-family=\"helvetica\" font-size=\"14.00\">gini = 0.498</text>\n",
       "<text text-anchor=\"start\" x=\"936\" y=\"-617.8\" font-family=\"helvetica\" font-size=\"14.00\">samples = 15</text>\n",
       "<text text-anchor=\"start\" x=\"937\" y=\"-602.8\" font-family=\"helvetica\" font-size=\"14.00\">value = [8, 7]</text>\n",
       "<text text-anchor=\"start\" x=\"921.5\" y=\"-587.8\" font-family=\"helvetica\" font-size=\"14.00\">class = malignant</text>\n",
       "</g>\n",
       "<!-- 1&#45;&gt;17 -->\n",
       "<g id=\"edge17\" class=\"edge\">\n",
       "<title>1&#45;&gt;17</title>\n",
       "<path fill=\"none\" stroke=\"black\" d=\"M986,-698.91C986,-690.65 986,-681.86 986,-673.3\"/>\n",
       "<polygon fill=\"black\" stroke=\"black\" points=\"989.5,-673.02 986,-663.02 982.5,-673.02 989.5,-673.02\"/>\n",
       "</g>\n",
       "<!-- 3 -->\n",
       "<g id=\"node4\" class=\"node\">\n",
       "<title>3</title>\n",
       "<path fill=\"#3c9ee5\" stroke=\"black\" d=\"M568.5,-544C568.5,-544 383.5,-544 383.5,-544 377.5,-544 371.5,-538 371.5,-532 371.5,-532 371.5,-473 371.5,-473 371.5,-467 377.5,-461 383.5,-461 383.5,-461 568.5,-461 568.5,-461 574.5,-461 580.5,-467 580.5,-473 580.5,-473 580.5,-532 580.5,-532 580.5,-538 574.5,-544 568.5,-544\"/>\n",
       "<text text-anchor=\"start\" x=\"379.5\" y=\"-528.8\" font-family=\"helvetica\" font-size=\"14.00\">worst smoothness ≤ 0.178</text>\n",
       "<text text-anchor=\"start\" x=\"432\" y=\"-513.8\" font-family=\"helvetica\" font-size=\"14.00\">gini = 0.026</text>\n",
       "<text text-anchor=\"start\" x=\"421.5\" y=\"-498.8\" font-family=\"helvetica\" font-size=\"14.00\">samples = 227</text>\n",
       "<text text-anchor=\"start\" x=\"418\" y=\"-483.8\" font-family=\"helvetica\" font-size=\"14.00\">value = [3, 224]</text>\n",
       "<text text-anchor=\"start\" x=\"423\" y=\"-468.8\" font-family=\"helvetica\" font-size=\"14.00\">class = benign</text>\n",
       "</g>\n",
       "<!-- 2&#45;&gt;3 -->\n",
       "<g id=\"edge3\" class=\"edge\">\n",
       "<title>2&#45;&gt;3</title>\n",
       "<path fill=\"none\" stroke=\"black\" d=\"M620.33,-579.91C601.38,-569.88 580.97,-559.07 561.64,-548.84\"/>\n",
       "<polygon fill=\"black\" stroke=\"black\" points=\"563.01,-545.61 552.54,-544.02 559.74,-551.79 563.01,-545.61\"/>\n",
       "</g>\n",
       "<!-- 14 -->\n",
       "<g id=\"node15\" class=\"node\">\n",
       "<title>14</title>\n",
       "<path fill=\"#f2c09c\" stroke=\"black\" d=\"M783.5,-544C783.5,-544 610.5,-544 610.5,-544 604.5,-544 598.5,-538 598.5,-532 598.5,-532 598.5,-473 598.5,-473 598.5,-467 604.5,-461 610.5,-461 610.5,-461 783.5,-461 783.5,-461 789.5,-461 795.5,-467 795.5,-473 795.5,-473 795.5,-532 795.5,-532 795.5,-538 789.5,-544 783.5,-544\"/>\n",
       "<text text-anchor=\"start\" x=\"606.5\" y=\"-528.8\" font-family=\"helvetica\" font-size=\"14.00\">mean symmetry ≤ 0.166</text>\n",
       "<text text-anchor=\"start\" x=\"653\" y=\"-513.8\" font-family=\"helvetica\" font-size=\"14.00\">gini = 0.444</text>\n",
       "<text text-anchor=\"start\" x=\"651.5\" y=\"-498.8\" font-family=\"helvetica\" font-size=\"14.00\">samples = 3</text>\n",
       "<text text-anchor=\"start\" x=\"648\" y=\"-483.8\" font-family=\"helvetica\" font-size=\"14.00\">value = [2, 1]</text>\n",
       "<text text-anchor=\"start\" x=\"632.5\" y=\"-468.8\" font-family=\"helvetica\" font-size=\"14.00\">class = malignant</text>\n",
       "</g>\n",
       "<!-- 2&#45;&gt;14 -->\n",
       "<g id=\"edge14\" class=\"edge\">\n",
       "<title>2&#45;&gt;14</title>\n",
       "<path fill=\"none\" stroke=\"black\" d=\"M697,-579.91C697,-571.65 697,-562.86 697,-554.3\"/>\n",
       "<polygon fill=\"black\" stroke=\"black\" points=\"700.5,-554.02 697,-544.02 693.5,-554.02 700.5,-554.02\"/>\n",
       "</g>\n",
       "<!-- 4 -->\n",
       "<g id=\"node5\" class=\"node\">\n",
       "<title>4</title>\n",
       "<path fill=\"#3b9ee5\" stroke=\"black\" d=\"M388,-425C388,-425 206,-425 206,-425 200,-425 194,-419 194,-413 194,-413 194,-354 194,-354 194,-348 200,-342 206,-342 206,-342 388,-342 388,-342 394,-342 400,-348 400,-354 400,-354 400,-413 400,-413 400,-419 394,-425 388,-425\"/>\n",
       "<text text-anchor=\"start\" x=\"202\" y=\"-409.8\" font-family=\"helvetica\" font-size=\"14.00\">smoothness error ≤ 0.003</text>\n",
       "<text text-anchor=\"start\" x=\"253\" y=\"-394.8\" font-family=\"helvetica\" font-size=\"14.00\">gini = 0.018</text>\n",
       "<text text-anchor=\"start\" x=\"242.5\" y=\"-379.8\" font-family=\"helvetica\" font-size=\"14.00\">samples = 226</text>\n",
       "<text text-anchor=\"start\" x=\"239\" y=\"-364.8\" font-family=\"helvetica\" font-size=\"14.00\">value = [2, 224]</text>\n",
       "<text text-anchor=\"start\" x=\"244\" y=\"-349.8\" font-family=\"helvetica\" font-size=\"14.00\">class = benign</text>\n",
       "</g>\n",
       "<!-- 3&#45;&gt;4 -->\n",
       "<g id=\"edge4\" class=\"edge\">\n",
       "<title>3&#45;&gt;4</title>\n",
       "<path fill=\"none\" stroke=\"black\" d=\"M413.9,-460.91C398.9,-451.11 382.77,-440.56 367.43,-430.53\"/>\n",
       "<polygon fill=\"black\" stroke=\"black\" points=\"369.28,-427.56 358.99,-425.02 365.45,-433.42 369.28,-427.56\"/>\n",
       "</g>\n",
       "<!-- 13 -->\n",
       "<g id=\"node14\" class=\"node\">\n",
       "<title>13</title>\n",
       "<path fill=\"#e58139\" stroke=\"black\" d=\"M551.5,-417.5C551.5,-417.5 430.5,-417.5 430.5,-417.5 424.5,-417.5 418.5,-411.5 418.5,-405.5 418.5,-405.5 418.5,-361.5 418.5,-361.5 418.5,-355.5 424.5,-349.5 430.5,-349.5 430.5,-349.5 551.5,-349.5 551.5,-349.5 557.5,-349.5 563.5,-355.5 563.5,-361.5 563.5,-361.5 563.5,-405.5 563.5,-405.5 563.5,-411.5 557.5,-417.5 551.5,-417.5\"/>\n",
       "<text text-anchor=\"start\" x=\"456\" y=\"-402.3\" font-family=\"helvetica\" font-size=\"14.00\">gini = 0.0</text>\n",
       "<text text-anchor=\"start\" x=\"445.5\" y=\"-387.3\" font-family=\"helvetica\" font-size=\"14.00\">samples = 1</text>\n",
       "<text text-anchor=\"start\" x=\"442\" y=\"-372.3\" font-family=\"helvetica\" font-size=\"14.00\">value = [1, 0]</text>\n",
       "<text text-anchor=\"start\" x=\"426.5\" y=\"-357.3\" font-family=\"helvetica\" font-size=\"14.00\">class = malignant</text>\n",
       "</g>\n",
       "<!-- 3&#45;&gt;13 -->\n",
       "<g id=\"edge13\" class=\"edge\">\n",
       "<title>3&#45;&gt;13</title>\n",
       "<path fill=\"none\" stroke=\"black\" d=\"M481.2,-460.91C482.58,-450.2 484.06,-438.62 485.45,-427.78\"/>\n",
       "<polygon fill=\"black\" stroke=\"black\" points=\"488.95,-428.03 486.75,-417.67 482,-427.14 488.95,-428.03\"/>\n",
       "</g>\n",
       "<!-- 5 -->\n",
       "<g id=\"node6\" class=\"node\">\n",
       "<title>5</title>\n",
       "<path fill=\"#6ab6ec\" stroke=\"black\" d=\"M271.5,-306C271.5,-306 140.5,-306 140.5,-306 134.5,-306 128.5,-300 128.5,-294 128.5,-294 128.5,-235 128.5,-235 128.5,-229 134.5,-223 140.5,-223 140.5,-223 271.5,-223 271.5,-223 277.5,-223 283.5,-229 283.5,-235 283.5,-235 283.5,-294 283.5,-294 283.5,-300 277.5,-306 271.5,-306\"/>\n",
       "<text text-anchor=\"start\" x=\"136.5\" y=\"-290.8\" font-family=\"helvetica\" font-size=\"14.00\">worst area ≤ 756.9</text>\n",
       "<text text-anchor=\"start\" x=\"166.5\" y=\"-275.8\" font-family=\"helvetica\" font-size=\"14.00\">gini = 0.32</text>\n",
       "<text text-anchor=\"start\" x=\"160.5\" y=\"-260.8\" font-family=\"helvetica\" font-size=\"14.00\">samples = 5</text>\n",
       "<text text-anchor=\"start\" x=\"157\" y=\"-245.8\" font-family=\"helvetica\" font-size=\"14.00\">value = [1, 4]</text>\n",
       "<text text-anchor=\"start\" x=\"153\" y=\"-230.8\" font-family=\"helvetica\" font-size=\"14.00\">class = benign</text>\n",
       "</g>\n",
       "<!-- 4&#45;&gt;5 -->\n",
       "<g id=\"edge5\" class=\"edge\">\n",
       "<title>4&#45;&gt;5</title>\n",
       "<path fill=\"none\" stroke=\"black\" d=\"M265.43,-341.91C258.44,-332.92 250.97,-323.32 243.76,-314.05\"/>\n",
       "<polygon fill=\"black\" stroke=\"black\" points=\"246.42,-311.77 237.52,-306.02 240.89,-316.06 246.42,-311.77\"/>\n",
       "</g>\n",
       "<!-- 8 -->\n",
       "<g id=\"node9\" class=\"node\">\n",
       "<title>8</title>\n",
       "<path fill=\"#3a9de5\" stroke=\"black\" d=\"M464,-306C464,-306 314,-306 314,-306 308,-306 302,-300 302,-294 302,-294 302,-235 302,-235 302,-229 308,-223 314,-223 314,-223 464,-223 464,-223 470,-223 476,-229 476,-235 476,-235 476,-294 476,-294 476,-300 470,-306 464,-306\"/>\n",
       "<text text-anchor=\"start\" x=\"310\" y=\"-290.8\" font-family=\"helvetica\" font-size=\"14.00\">worst texture ≤ 33.35</text>\n",
       "<text text-anchor=\"start\" x=\"345\" y=\"-275.8\" font-family=\"helvetica\" font-size=\"14.00\">gini = 0.009</text>\n",
       "<text text-anchor=\"start\" x=\"334.5\" y=\"-260.8\" font-family=\"helvetica\" font-size=\"14.00\">samples = 221</text>\n",
       "<text text-anchor=\"start\" x=\"331\" y=\"-245.8\" font-family=\"helvetica\" font-size=\"14.00\">value = [1, 220]</text>\n",
       "<text text-anchor=\"start\" x=\"336\" y=\"-230.8\" font-family=\"helvetica\" font-size=\"14.00\">class = benign</text>\n",
       "</g>\n",
       "<!-- 4&#45;&gt;8 -->\n",
       "<g id=\"edge8\" class=\"edge\">\n",
       "<title>4&#45;&gt;8</title>\n",
       "<path fill=\"none\" stroke=\"black\" d=\"M328.92,-341.91C335.98,-332.92 343.54,-323.32 350.82,-314.05\"/>\n",
       "<polygon fill=\"black\" stroke=\"black\" points=\"353.71,-316.05 357.14,-306.02 348.2,-311.72 353.71,-316.05\"/>\n",
       "</g>\n",
       "<!-- 6 -->\n",
       "<g id=\"node7\" class=\"node\">\n",
       "<title>6</title>\n",
       "<path fill=\"#399de5\" stroke=\"black\" d=\"M110,-179.5C110,-179.5 12,-179.5 12,-179.5 6,-179.5 0,-173.5 0,-167.5 0,-167.5 0,-123.5 0,-123.5 0,-117.5 6,-111.5 12,-111.5 12,-111.5 110,-111.5 110,-111.5 116,-111.5 122,-117.5 122,-123.5 122,-123.5 122,-167.5 122,-167.5 122,-173.5 116,-179.5 110,-179.5\"/>\n",
       "<text text-anchor=\"start\" x=\"26\" y=\"-164.3\" font-family=\"helvetica\" font-size=\"14.00\">gini = 0.0</text>\n",
       "<text text-anchor=\"start\" x=\"15.5\" y=\"-149.3\" font-family=\"helvetica\" font-size=\"14.00\">samples = 4</text>\n",
       "<text text-anchor=\"start\" x=\"12\" y=\"-134.3\" font-family=\"helvetica\" font-size=\"14.00\">value = [0, 4]</text>\n",
       "<text text-anchor=\"start\" x=\"8\" y=\"-119.3\" font-family=\"helvetica\" font-size=\"14.00\">class = benign</text>\n",
       "</g>\n",
       "<!-- 5&#45;&gt;6 -->\n",
       "<g id=\"edge6\" class=\"edge\">\n",
       "<title>5&#45;&gt;6</title>\n",
       "<path fill=\"none\" stroke=\"black\" d=\"M155.69,-222.91C140.92,-210.99 124.79,-197.98 110.1,-186.12\"/>\n",
       "<polygon fill=\"black\" stroke=\"black\" points=\"112.08,-183.22 102.1,-179.67 107.69,-188.67 112.08,-183.22\"/>\n",
       "</g>\n",
       "<!-- 7 -->\n",
       "<g id=\"node8\" class=\"node\">\n",
       "<title>7</title>\n",
       "<path fill=\"#e58139\" stroke=\"black\" d=\"M273.5,-179.5C273.5,-179.5 152.5,-179.5 152.5,-179.5 146.5,-179.5 140.5,-173.5 140.5,-167.5 140.5,-167.5 140.5,-123.5 140.5,-123.5 140.5,-117.5 146.5,-111.5 152.5,-111.5 152.5,-111.5 273.5,-111.5 273.5,-111.5 279.5,-111.5 285.5,-117.5 285.5,-123.5 285.5,-123.5 285.5,-167.5 285.5,-167.5 285.5,-173.5 279.5,-179.5 273.5,-179.5\"/>\n",
       "<text text-anchor=\"start\" x=\"178\" y=\"-164.3\" font-family=\"helvetica\" font-size=\"14.00\">gini = 0.0</text>\n",
       "<text text-anchor=\"start\" x=\"167.5\" y=\"-149.3\" font-family=\"helvetica\" font-size=\"14.00\">samples = 1</text>\n",
       "<text text-anchor=\"start\" x=\"164\" y=\"-134.3\" font-family=\"helvetica\" font-size=\"14.00\">value = [1, 0]</text>\n",
       "<text text-anchor=\"start\" x=\"148.5\" y=\"-119.3\" font-family=\"helvetica\" font-size=\"14.00\">class = malignant</text>\n",
       "</g>\n",
       "<!-- 5&#45;&gt;7 -->\n",
       "<g id=\"edge7\" class=\"edge\">\n",
       "<title>5&#45;&gt;7</title>\n",
       "<path fill=\"none\" stroke=\"black\" d=\"M208.43,-222.91C209.07,-212.2 209.76,-200.62 210.41,-189.78\"/>\n",
       "<polygon fill=\"black\" stroke=\"black\" points=\"213.91,-189.86 211.02,-179.67 206.92,-189.44 213.91,-189.86\"/>\n",
       "</g>\n",
       "<!-- 9 -->\n",
       "<g id=\"node10\" class=\"node\">\n",
       "<title>9</title>\n",
       "<path fill=\"#399de5\" stroke=\"black\" d=\"M437,-179.5C437,-179.5 329,-179.5 329,-179.5 323,-179.5 317,-173.5 317,-167.5 317,-167.5 317,-123.5 317,-123.5 317,-117.5 323,-111.5 329,-111.5 329,-111.5 437,-111.5 437,-111.5 443,-111.5 449,-117.5 449,-123.5 449,-123.5 449,-167.5 449,-167.5 449,-173.5 443,-179.5 437,-179.5\"/>\n",
       "<text text-anchor=\"start\" x=\"348\" y=\"-164.3\" font-family=\"helvetica\" font-size=\"14.00\">gini = 0.0</text>\n",
       "<text text-anchor=\"start\" x=\"328.5\" y=\"-149.3\" font-family=\"helvetica\" font-size=\"14.00\">samples = 208</text>\n",
       "<text text-anchor=\"start\" x=\"325\" y=\"-134.3\" font-family=\"helvetica\" font-size=\"14.00\">value = [0, 208]</text>\n",
       "<text text-anchor=\"start\" x=\"330\" y=\"-119.3\" font-family=\"helvetica\" font-size=\"14.00\">class = benign</text>\n",
       "</g>\n",
       "<!-- 8&#45;&gt;9 -->\n",
       "<g id=\"edge9\" class=\"edge\">\n",
       "<title>8&#45;&gt;9</title>\n",
       "<path fill=\"none\" stroke=\"black\" d=\"M386.92,-222.91C386.37,-212.2 385.78,-200.62 385.22,-189.78\"/>\n",
       "<polygon fill=\"black\" stroke=\"black\" points=\"388.71,-189.47 384.7,-179.67 381.72,-189.83 388.71,-189.47\"/>\n",
       "</g>\n",
       "<!-- 10 -->\n",
       "<g id=\"node11\" class=\"node\">\n",
       "<title>10</title>\n",
       "<path fill=\"#49a5e7\" stroke=\"black\" d=\"M620.5,-187C620.5,-187 479.5,-187 479.5,-187 473.5,-187 467.5,-181 467.5,-175 467.5,-175 467.5,-116 467.5,-116 467.5,-110 473.5,-104 479.5,-104 479.5,-104 620.5,-104 620.5,-104 626.5,-104 632.5,-110 632.5,-116 632.5,-116 632.5,-175 632.5,-175 632.5,-181 626.5,-187 620.5,-187\"/>\n",
       "<text text-anchor=\"start\" x=\"475.5\" y=\"-171.8\" font-family=\"helvetica\" font-size=\"14.00\">worst texture ≤ 34.5</text>\n",
       "<text text-anchor=\"start\" x=\"506\" y=\"-156.8\" font-family=\"helvetica\" font-size=\"14.00\">gini = 0.142</text>\n",
       "<text text-anchor=\"start\" x=\"500\" y=\"-141.8\" font-family=\"helvetica\" font-size=\"14.00\">samples = 13</text>\n",
       "<text text-anchor=\"start\" x=\"496.5\" y=\"-126.8\" font-family=\"helvetica\" font-size=\"14.00\">value = [1, 12]</text>\n",
       "<text text-anchor=\"start\" x=\"497\" y=\"-111.8\" font-family=\"helvetica\" font-size=\"14.00\">class = benign</text>\n",
       "</g>\n",
       "<!-- 8&#45;&gt;10 -->\n",
       "<g id=\"edge10\" class=\"edge\">\n",
       "<title>8&#45;&gt;10</title>\n",
       "<path fill=\"none\" stroke=\"black\" d=\"M444.86,-222.91C458.1,-213.29 472.32,-202.95 485.89,-193.09\"/>\n",
       "<polygon fill=\"black\" stroke=\"black\" points=\"488.21,-195.73 494.24,-187.02 484.09,-190.07 488.21,-195.73\"/>\n",
       "</g>\n",
       "<!-- 11 -->\n",
       "<g id=\"node12\" class=\"node\">\n",
       "<title>11</title>\n",
       "<path fill=\"#e58139\" stroke=\"black\" d=\"M534.5,-68C534.5,-68 413.5,-68 413.5,-68 407.5,-68 401.5,-62 401.5,-56 401.5,-56 401.5,-12 401.5,-12 401.5,-6 407.5,0 413.5,0 413.5,0 534.5,0 534.5,0 540.5,0 546.5,-6 546.5,-12 546.5,-12 546.5,-56 546.5,-56 546.5,-62 540.5,-68 534.5,-68\"/>\n",
       "<text text-anchor=\"start\" x=\"439\" y=\"-52.8\" font-family=\"helvetica\" font-size=\"14.00\">gini = 0.0</text>\n",
       "<text text-anchor=\"start\" x=\"428.5\" y=\"-37.8\" font-family=\"helvetica\" font-size=\"14.00\">samples = 1</text>\n",
       "<text text-anchor=\"start\" x=\"425\" y=\"-22.8\" font-family=\"helvetica\" font-size=\"14.00\">value = [1, 0]</text>\n",
       "<text text-anchor=\"start\" x=\"409.5\" y=\"-7.8\" font-family=\"helvetica\" font-size=\"14.00\">class = malignant</text>\n",
       "</g>\n",
       "<!-- 10&#45;&gt;11 -->\n",
       "<g id=\"edge11\" class=\"edge\">\n",
       "<title>10&#45;&gt;11</title>\n",
       "<path fill=\"none\" stroke=\"black\" d=\"M521.7,-103.73C515.56,-94.88 509.06,-85.51 502.89,-76.63\"/>\n",
       "<polygon fill=\"black\" stroke=\"black\" points=\"505.69,-74.52 497.11,-68.3 499.94,-78.51 505.69,-74.52\"/>\n",
       "</g>\n",
       "<!-- 12 -->\n",
       "<g id=\"node13\" class=\"node\">\n",
       "<title>12</title>\n",
       "<path fill=\"#399de5\" stroke=\"black\" d=\"M675.5,-68C675.5,-68 576.5,-68 576.5,-68 570.5,-68 564.5,-62 564.5,-56 564.5,-56 564.5,-12 564.5,-12 564.5,-6 570.5,0 576.5,0 576.5,0 675.5,0 675.5,0 681.5,0 687.5,-6 687.5,-12 687.5,-12 687.5,-56 687.5,-56 687.5,-62 681.5,-68 675.5,-68\"/>\n",
       "<text text-anchor=\"start\" x=\"591\" y=\"-52.8\" font-family=\"helvetica\" font-size=\"14.00\">gini = 0.0</text>\n",
       "<text text-anchor=\"start\" x=\"576\" y=\"-37.8\" font-family=\"helvetica\" font-size=\"14.00\">samples = 12</text>\n",
       "<text text-anchor=\"start\" x=\"572.5\" y=\"-22.8\" font-family=\"helvetica\" font-size=\"14.00\">value = [0, 12]</text>\n",
       "<text text-anchor=\"start\" x=\"573\" y=\"-7.8\" font-family=\"helvetica\" font-size=\"14.00\">class = benign</text>\n",
       "</g>\n",
       "<!-- 10&#45;&gt;12 -->\n",
       "<g id=\"edge12\" class=\"edge\">\n",
       "<title>10&#45;&gt;12</title>\n",
       "<path fill=\"none\" stroke=\"black\" d=\"M578.3,-103.73C584.44,-94.88 590.94,-85.51 597.11,-76.63\"/>\n",
       "<polygon fill=\"black\" stroke=\"black\" points=\"600.06,-78.51 602.89,-68.3 594.31,-74.52 600.06,-78.51\"/>\n",
       "</g>\n",
       "<!-- 15 -->\n",
       "<g id=\"node16\" class=\"node\">\n",
       "<title>15</title>\n",
       "<path fill=\"#e58139\" stroke=\"black\" d=\"M743.5,-417.5C743.5,-417.5 622.5,-417.5 622.5,-417.5 616.5,-417.5 610.5,-411.5 610.5,-405.5 610.5,-405.5 610.5,-361.5 610.5,-361.5 610.5,-355.5 616.5,-349.5 622.5,-349.5 622.5,-349.5 743.5,-349.5 743.5,-349.5 749.5,-349.5 755.5,-355.5 755.5,-361.5 755.5,-361.5 755.5,-405.5 755.5,-405.5 755.5,-411.5 749.5,-417.5 743.5,-417.5\"/>\n",
       "<text text-anchor=\"start\" x=\"648\" y=\"-402.3\" font-family=\"helvetica\" font-size=\"14.00\">gini = 0.0</text>\n",
       "<text text-anchor=\"start\" x=\"637.5\" y=\"-387.3\" font-family=\"helvetica\" font-size=\"14.00\">samples = 2</text>\n",
       "<text text-anchor=\"start\" x=\"634\" y=\"-372.3\" font-family=\"helvetica\" font-size=\"14.00\">value = [2, 0]</text>\n",
       "<text text-anchor=\"start\" x=\"618.5\" y=\"-357.3\" font-family=\"helvetica\" font-size=\"14.00\">class = malignant</text>\n",
       "</g>\n",
       "<!-- 14&#45;&gt;15 -->\n",
       "<g id=\"edge15\" class=\"edge\">\n",
       "<title>14&#45;&gt;15</title>\n",
       "<path fill=\"none\" stroke=\"black\" d=\"M692.14,-460.91C690.86,-450.2 689.48,-438.62 688.18,-427.78\"/>\n",
       "<polygon fill=\"black\" stroke=\"black\" points=\"691.63,-427.18 686.97,-417.67 684.68,-428.01 691.63,-427.18\"/>\n",
       "</g>\n",
       "<!-- 16 -->\n",
       "<g id=\"node17\" class=\"node\">\n",
       "<title>16</title>\n",
       "<path fill=\"#399de5\" stroke=\"black\" d=\"M884,-417.5C884,-417.5 786,-417.5 786,-417.5 780,-417.5 774,-411.5 774,-405.5 774,-405.5 774,-361.5 774,-361.5 774,-355.5 780,-349.5 786,-349.5 786,-349.5 884,-349.5 884,-349.5 890,-349.5 896,-355.5 896,-361.5 896,-361.5 896,-405.5 896,-405.5 896,-411.5 890,-417.5 884,-417.5\"/>\n",
       "<text text-anchor=\"start\" x=\"800\" y=\"-402.3\" font-family=\"helvetica\" font-size=\"14.00\">gini = 0.0</text>\n",
       "<text text-anchor=\"start\" x=\"789.5\" y=\"-387.3\" font-family=\"helvetica\" font-size=\"14.00\">samples = 1</text>\n",
       "<text text-anchor=\"start\" x=\"786\" y=\"-372.3\" font-family=\"helvetica\" font-size=\"14.00\">value = [0, 1]</text>\n",
       "<text text-anchor=\"start\" x=\"782\" y=\"-357.3\" font-family=\"helvetica\" font-size=\"14.00\">class = benign</text>\n",
       "</g>\n",
       "<!-- 14&#45;&gt;16 -->\n",
       "<g id=\"edge16\" class=\"edge\">\n",
       "<title>14&#45;&gt;16</title>\n",
       "<path fill=\"none\" stroke=\"black\" d=\"M744.88,-460.91C758.8,-449.1 774,-436.22 787.88,-424.45\"/>\n",
       "<polygon fill=\"black\" stroke=\"black\" points=\"790.52,-426.8 795.88,-417.67 785.99,-421.46 790.52,-426.8\"/>\n",
       "</g>\n",
       "<!-- 18 -->\n",
       "<g id=\"node19\" class=\"node\">\n",
       "<title>18</title>\n",
       "<path fill=\"#399de5\" stroke=\"black\" d=\"M924,-536.5C924,-536.5 826,-536.5 826,-536.5 820,-536.5 814,-530.5 814,-524.5 814,-524.5 814,-480.5 814,-480.5 814,-474.5 820,-468.5 826,-468.5 826,-468.5 924,-468.5 924,-468.5 930,-468.5 936,-474.5 936,-480.5 936,-480.5 936,-524.5 936,-524.5 936,-530.5 930,-536.5 924,-536.5\"/>\n",
       "<text text-anchor=\"start\" x=\"840\" y=\"-521.3\" font-family=\"helvetica\" font-size=\"14.00\">gini = 0.0</text>\n",
       "<text text-anchor=\"start\" x=\"829.5\" y=\"-506.3\" font-family=\"helvetica\" font-size=\"14.00\">samples = 5</text>\n",
       "<text text-anchor=\"start\" x=\"826\" y=\"-491.3\" font-family=\"helvetica\" font-size=\"14.00\">value = [0, 5]</text>\n",
       "<text text-anchor=\"start\" x=\"822\" y=\"-476.3\" font-family=\"helvetica\" font-size=\"14.00\">class = benign</text>\n",
       "</g>\n",
       "<!-- 17&#45;&gt;18 -->\n",
       "<g id=\"edge18\" class=\"edge\">\n",
       "<title>17&#45;&gt;18</title>\n",
       "<path fill=\"none\" stroke=\"black\" d=\"M947.49,-579.91C936.5,-568.32 924.52,-555.7 913.53,-544.11\"/>\n",
       "<polygon fill=\"black\" stroke=\"black\" points=\"915.89,-541.51 906.47,-536.67 910.81,-546.33 915.89,-541.51\"/>\n",
       "</g>\n",
       "<!-- 19 -->\n",
       "<g id=\"node20\" class=\"node\">\n",
       "<title>19</title>\n",
       "<path fill=\"#eca06a\" stroke=\"black\" d=\"M1112,-544C1112,-544 966,-544 966,-544 960,-544 954,-538 954,-532 954,-532 954,-473 954,-473 954,-467 960,-461 966,-461 966,-461 1112,-461 1112,-461 1118,-461 1124,-467 1124,-473 1124,-473 1124,-532 1124,-532 1124,-538 1118,-544 1112,-544\"/>\n",
       "<text text-anchor=\"start\" x=\"962\" y=\"-528.8\" font-family=\"helvetica\" font-size=\"14.00\">texture error ≤ 1.378</text>\n",
       "<text text-anchor=\"start\" x=\"999.5\" y=\"-513.8\" font-family=\"helvetica\" font-size=\"14.00\">gini = 0.32</text>\n",
       "<text text-anchor=\"start\" x=\"989\" y=\"-498.8\" font-family=\"helvetica\" font-size=\"14.00\">samples = 10</text>\n",
       "<text text-anchor=\"start\" x=\"990\" y=\"-483.8\" font-family=\"helvetica\" font-size=\"14.00\">value = [8, 2]</text>\n",
       "<text text-anchor=\"start\" x=\"974.5\" y=\"-468.8\" font-family=\"helvetica\" font-size=\"14.00\">class = malignant</text>\n",
       "</g>\n",
       "<!-- 17&#45;&gt;19 -->\n",
       "<g id=\"edge19\" class=\"edge\">\n",
       "<title>17&#45;&gt;19</title>\n",
       "<path fill=\"none\" stroke=\"black\" d=\"M1004.39,-579.91C1008.29,-571.29 1012.46,-562.09 1016.5,-553.17\"/>\n",
       "<polygon fill=\"black\" stroke=\"black\" points=\"1019.71,-554.57 1020.64,-544.02 1013.33,-551.69 1019.71,-554.57\"/>\n",
       "</g>\n",
       "<!-- 20 -->\n",
       "<g id=\"node21\" class=\"node\">\n",
       "<title>20</title>\n",
       "<path fill=\"#e58139\" stroke=\"black\" d=\"M1073.5,-417.5C1073.5,-417.5 952.5,-417.5 952.5,-417.5 946.5,-417.5 940.5,-411.5 940.5,-405.5 940.5,-405.5 940.5,-361.5 940.5,-361.5 940.5,-355.5 946.5,-349.5 952.5,-349.5 952.5,-349.5 1073.5,-349.5 1073.5,-349.5 1079.5,-349.5 1085.5,-355.5 1085.5,-361.5 1085.5,-361.5 1085.5,-405.5 1085.5,-405.5 1085.5,-411.5 1079.5,-417.5 1073.5,-417.5\"/>\n",
       "<text text-anchor=\"start\" x=\"978\" y=\"-402.3\" font-family=\"helvetica\" font-size=\"14.00\">gini = 0.0</text>\n",
       "<text text-anchor=\"start\" x=\"967.5\" y=\"-387.3\" font-family=\"helvetica\" font-size=\"14.00\">samples = 8</text>\n",
       "<text text-anchor=\"start\" x=\"964\" y=\"-372.3\" font-family=\"helvetica\" font-size=\"14.00\">value = [8, 0]</text>\n",
       "<text text-anchor=\"start\" x=\"948.5\" y=\"-357.3\" font-family=\"helvetica\" font-size=\"14.00\">class = malignant</text>\n",
       "</g>\n",
       "<!-- 19&#45;&gt;20 -->\n",
       "<g id=\"edge20\" class=\"edge\">\n",
       "<title>19&#45;&gt;20</title>\n",
       "<path fill=\"none\" stroke=\"black\" d=\"M1029.98,-460.91C1027.58,-450.09 1024.97,-438.38 1022.54,-427.44\"/>\n",
       "<polygon fill=\"black\" stroke=\"black\" points=\"1025.96,-426.67 1020.37,-417.67 1019.12,-428.19 1025.96,-426.67\"/>\n",
       "</g>\n",
       "<!-- 21 -->\n",
       "<g id=\"node22\" class=\"node\">\n",
       "<title>21</title>\n",
       "<path fill=\"#399de5\" stroke=\"black\" d=\"M1214,-417.5C1214,-417.5 1116,-417.5 1116,-417.5 1110,-417.5 1104,-411.5 1104,-405.5 1104,-405.5 1104,-361.5 1104,-361.5 1104,-355.5 1110,-349.5 1116,-349.5 1116,-349.5 1214,-349.5 1214,-349.5 1220,-349.5 1226,-355.5 1226,-361.5 1226,-361.5 1226,-405.5 1226,-405.5 1226,-411.5 1220,-417.5 1214,-417.5\"/>\n",
       "<text text-anchor=\"start\" x=\"1130\" y=\"-402.3\" font-family=\"helvetica\" font-size=\"14.00\">gini = 0.0</text>\n",
       "<text text-anchor=\"start\" x=\"1119.5\" y=\"-387.3\" font-family=\"helvetica\" font-size=\"14.00\">samples = 2</text>\n",
       "<text text-anchor=\"start\" x=\"1116\" y=\"-372.3\" font-family=\"helvetica\" font-size=\"14.00\">value = [0, 2]</text>\n",
       "<text text-anchor=\"start\" x=\"1112\" y=\"-357.3\" font-family=\"helvetica\" font-size=\"14.00\">class = benign</text>\n",
       "</g>\n",
       "<!-- 19&#45;&gt;21 -->\n",
       "<g id=\"edge21\" class=\"edge\">\n",
       "<title>19&#45;&gt;21</title>\n",
       "<path fill=\"none\" stroke=\"black\" d=\"M1082.72,-460.91C1095.31,-449.21 1109.05,-436.46 1121.62,-424.78\"/>\n",
       "<polygon fill=\"black\" stroke=\"black\" points=\"1124.34,-427.04 1129.28,-417.67 1119.57,-421.91 1124.34,-427.04\"/>\n",
       "</g>\n",
       "<!-- 23 -->\n",
       "<g id=\"node24\" class=\"node\">\n",
       "<title>23</title>\n",
       "<path fill=\"#88c4ef\" stroke=\"black\" d=\"M1359,-663C1359,-663 1153,-663 1153,-663 1147,-663 1141,-657 1141,-651 1141,-651 1141,-592 1141,-592 1141,-586 1147,-580 1153,-580 1153,-580 1359,-580 1359,-580 1365,-580 1371,-586 1371,-592 1371,-592 1371,-651 1371,-651 1371,-657 1365,-663 1359,-663\"/>\n",
       "<text text-anchor=\"start\" x=\"1149\" y=\"-647.8\" font-family=\"helvetica\" font-size=\"14.00\">worst concave points ≤ 0.158</text>\n",
       "<text text-anchor=\"start\" x=\"1212\" y=\"-632.8\" font-family=\"helvetica\" font-size=\"14.00\">gini = 0.408</text>\n",
       "<text text-anchor=\"start\" x=\"1206\" y=\"-617.8\" font-family=\"helvetica\" font-size=\"14.00\">samples = 14</text>\n",
       "<text text-anchor=\"start\" x=\"1202.5\" y=\"-602.8\" font-family=\"helvetica\" font-size=\"14.00\">value = [4, 10]</text>\n",
       "<text text-anchor=\"start\" x=\"1203\" y=\"-587.8\" font-family=\"helvetica\" font-size=\"14.00\">class = benign</text>\n",
       "</g>\n",
       "<!-- 22&#45;&gt;23 -->\n",
       "<g id=\"edge23\" class=\"edge\">\n",
       "<title>22&#45;&gt;23</title>\n",
       "<path fill=\"none\" stroke=\"black\" d=\"M1256,-698.91C1256,-690.65 1256,-681.86 1256,-673.3\"/>\n",
       "<polygon fill=\"black\" stroke=\"black\" points=\"1259.5,-673.02 1256,-663.02 1252.5,-673.02 1259.5,-673.02\"/>\n",
       "</g>\n",
       "<!-- 26 -->\n",
       "<g id=\"node27\" class=\"node\">\n",
       "<title>26</title>\n",
       "<path fill=\"#e68844\" stroke=\"black\" d=\"M1608,-663C1608,-663 1468,-663 1468,-663 1462,-663 1456,-657 1456,-651 1456,-651 1456,-592 1456,-592 1456,-586 1462,-580 1468,-580 1468,-580 1608,-580 1608,-580 1614,-580 1620,-586 1620,-592 1620,-592 1620,-651 1620,-651 1620,-657 1614,-663 1608,-663\"/>\n",
       "<text text-anchor=\"start\" x=\"1464\" y=\"-647.8\" font-family=\"helvetica\" font-size=\"14.00\">worst area ≤ 718.65</text>\n",
       "<text text-anchor=\"start\" x=\"1494\" y=\"-632.8\" font-family=\"helvetica\" font-size=\"14.00\">gini = 0.096</text>\n",
       "<text text-anchor=\"start\" x=\"1483.5\" y=\"-617.8\" font-family=\"helvetica\" font-size=\"14.00\">samples = 139</text>\n",
       "<text text-anchor=\"start\" x=\"1480\" y=\"-602.8\" font-family=\"helvetica\" font-size=\"14.00\">value = [132, 7]</text>\n",
       "<text text-anchor=\"start\" x=\"1473.5\" y=\"-587.8\" font-family=\"helvetica\" font-size=\"14.00\">class = malignant</text>\n",
       "</g>\n",
       "<!-- 22&#45;&gt;26 -->\n",
       "<g id=\"edge26\" class=\"edge\">\n",
       "<title>22&#45;&gt;26</title>\n",
       "<path fill=\"none\" stroke=\"black\" d=\"M1347.56,-701.51C1379.32,-688.33 1414.92,-673.57 1446.66,-660.4\"/>\n",
       "<polygon fill=\"black\" stroke=\"black\" points=\"1448.05,-663.61 1455.94,-656.54 1445.37,-657.14 1448.05,-663.61\"/>\n",
       "</g>\n",
       "<!-- 24 -->\n",
       "<g id=\"node25\" class=\"node\">\n",
       "<title>24</title>\n",
       "<path fill=\"#399de5\" stroke=\"black\" d=\"M1253.5,-536.5C1253.5,-536.5 1154.5,-536.5 1154.5,-536.5 1148.5,-536.5 1142.5,-530.5 1142.5,-524.5 1142.5,-524.5 1142.5,-480.5 1142.5,-480.5 1142.5,-474.5 1148.5,-468.5 1154.5,-468.5 1154.5,-468.5 1253.5,-468.5 1253.5,-468.5 1259.5,-468.5 1265.5,-474.5 1265.5,-480.5 1265.5,-480.5 1265.5,-524.5 1265.5,-524.5 1265.5,-530.5 1259.5,-536.5 1253.5,-536.5\"/>\n",
       "<text text-anchor=\"start\" x=\"1169\" y=\"-521.3\" font-family=\"helvetica\" font-size=\"14.00\">gini = 0.0</text>\n",
       "<text text-anchor=\"start\" x=\"1154\" y=\"-506.3\" font-family=\"helvetica\" font-size=\"14.00\">samples = 10</text>\n",
       "<text text-anchor=\"start\" x=\"1150.5\" y=\"-491.3\" font-family=\"helvetica\" font-size=\"14.00\">value = [0, 10]</text>\n",
       "<text text-anchor=\"start\" x=\"1151\" y=\"-476.3\" font-family=\"helvetica\" font-size=\"14.00\">class = benign</text>\n",
       "</g>\n",
       "<!-- 23&#45;&gt;24 -->\n",
       "<g id=\"edge24\" class=\"edge\">\n",
       "<title>23&#45;&gt;24</title>\n",
       "<path fill=\"none\" stroke=\"black\" d=\"M1237.96,-579.91C1233.1,-568.98 1227.84,-557.14 1222.94,-546.11\"/>\n",
       "<polygon fill=\"black\" stroke=\"black\" points=\"1226,-544.38 1218.74,-536.67 1219.6,-547.23 1226,-544.38\"/>\n",
       "</g>\n",
       "<!-- 25 -->\n",
       "<g id=\"node26\" class=\"node\">\n",
       "<title>25</title>\n",
       "<path fill=\"#e58139\" stroke=\"black\" d=\"M1416.5,-536.5C1416.5,-536.5 1295.5,-536.5 1295.5,-536.5 1289.5,-536.5 1283.5,-530.5 1283.5,-524.5 1283.5,-524.5 1283.5,-480.5 1283.5,-480.5 1283.5,-474.5 1289.5,-468.5 1295.5,-468.5 1295.5,-468.5 1416.5,-468.5 1416.5,-468.5 1422.5,-468.5 1428.5,-474.5 1428.5,-480.5 1428.5,-480.5 1428.5,-524.5 1428.5,-524.5 1428.5,-530.5 1422.5,-536.5 1416.5,-536.5\"/>\n",
       "<text text-anchor=\"start\" x=\"1321\" y=\"-521.3\" font-family=\"helvetica\" font-size=\"14.00\">gini = 0.0</text>\n",
       "<text text-anchor=\"start\" x=\"1310.5\" y=\"-506.3\" font-family=\"helvetica\" font-size=\"14.00\">samples = 4</text>\n",
       "<text text-anchor=\"start\" x=\"1307\" y=\"-491.3\" font-family=\"helvetica\" font-size=\"14.00\">value = [4, 0]</text>\n",
       "<text text-anchor=\"start\" x=\"1291.5\" y=\"-476.3\" font-family=\"helvetica\" font-size=\"14.00\">class = malignant</text>\n",
       "</g>\n",
       "<!-- 23&#45;&gt;25 -->\n",
       "<g id=\"edge25\" class=\"edge\">\n",
       "<title>23&#45;&gt;25</title>\n",
       "<path fill=\"none\" stroke=\"black\" d=\"M1290.69,-579.91C1300.5,-568.43 1311.18,-555.94 1321.01,-544.44\"/>\n",
       "<polygon fill=\"black\" stroke=\"black\" points=\"1323.82,-546.54 1327.65,-536.67 1318.49,-541.99 1323.82,-546.54\"/>\n",
       "</g>\n",
       "<!-- 27 -->\n",
       "<g id=\"node28\" class=\"node\">\n",
       "<title>27</title>\n",
       "<path fill=\"#e3f1fb\" stroke=\"black\" d=\"M1617.5,-544C1617.5,-544 1458.5,-544 1458.5,-544 1452.5,-544 1446.5,-538 1446.5,-532 1446.5,-532 1446.5,-473 1446.5,-473 1446.5,-467 1452.5,-461 1458.5,-461 1458.5,-461 1617.5,-461 1617.5,-461 1623.5,-461 1629.5,-467 1629.5,-473 1629.5,-473 1629.5,-532 1629.5,-532 1629.5,-538 1623.5,-544 1617.5,-544\"/>\n",
       "<text text-anchor=\"start\" x=\"1454.5\" y=\"-528.8\" font-family=\"helvetica\" font-size=\"14.00\">worst texture ≤ 25.925</text>\n",
       "<text text-anchor=\"start\" x=\"1494\" y=\"-513.8\" font-family=\"helvetica\" font-size=\"14.00\">gini = 0.497</text>\n",
       "<text text-anchor=\"start\" x=\"1488\" y=\"-498.8\" font-family=\"helvetica\" font-size=\"14.00\">samples = 13</text>\n",
       "<text text-anchor=\"start\" x=\"1489\" y=\"-483.8\" font-family=\"helvetica\" font-size=\"14.00\">value = [6, 7]</text>\n",
       "<text text-anchor=\"start\" x=\"1485\" y=\"-468.8\" font-family=\"helvetica\" font-size=\"14.00\">class = benign</text>\n",
       "</g>\n",
       "<!-- 26&#45;&gt;27 -->\n",
       "<g id=\"edge27\" class=\"edge\">\n",
       "<title>26&#45;&gt;27</title>\n",
       "<path fill=\"none\" stroke=\"black\" d=\"M1538,-579.91C1538,-571.65 1538,-562.86 1538,-554.3\"/>\n",
       "<polygon fill=\"black\" stroke=\"black\" points=\"1541.5,-554.02 1538,-544.02 1534.5,-554.02 1541.5,-554.02\"/>\n",
       "</g>\n",
       "<!-- 30 -->\n",
       "<g id=\"node31\" class=\"node\">\n",
       "<title>30</title>\n",
       "<path fill=\"#e58139\" stroke=\"black\" d=\"M1780.5,-536.5C1780.5,-536.5 1659.5,-536.5 1659.5,-536.5 1653.5,-536.5 1647.5,-530.5 1647.5,-524.5 1647.5,-524.5 1647.5,-480.5 1647.5,-480.5 1647.5,-474.5 1653.5,-468.5 1659.5,-468.5 1659.5,-468.5 1780.5,-468.5 1780.5,-468.5 1786.5,-468.5 1792.5,-474.5 1792.5,-480.5 1792.5,-480.5 1792.5,-524.5 1792.5,-524.5 1792.5,-530.5 1786.5,-536.5 1780.5,-536.5\"/>\n",
       "<text text-anchor=\"start\" x=\"1685\" y=\"-521.3\" font-family=\"helvetica\" font-size=\"14.00\">gini = 0.0</text>\n",
       "<text text-anchor=\"start\" x=\"1665.5\" y=\"-506.3\" font-family=\"helvetica\" font-size=\"14.00\">samples = 126</text>\n",
       "<text text-anchor=\"start\" x=\"1662\" y=\"-491.3\" font-family=\"helvetica\" font-size=\"14.00\">value = [126, 0]</text>\n",
       "<text text-anchor=\"start\" x=\"1655.5\" y=\"-476.3\" font-family=\"helvetica\" font-size=\"14.00\">class = malignant</text>\n",
       "</g>\n",
       "<!-- 26&#45;&gt;30 -->\n",
       "<g id=\"edge30\" class=\"edge\">\n",
       "<title>26&#45;&gt;30</title>\n",
       "<path fill=\"none\" stroke=\"black\" d=\"M1601.14,-579.91C1620.2,-567.66 1641.05,-554.25 1659.9,-542.13\"/>\n",
       "<polygon fill=\"black\" stroke=\"black\" points=\"1661.89,-545.02 1668.41,-536.67 1658.1,-539.13 1661.89,-545.02\"/>\n",
       "</g>\n",
       "<!-- 28 -->\n",
       "<g id=\"node29\" class=\"node\">\n",
       "<title>28</title>\n",
       "<path fill=\"#399de5\" stroke=\"black\" d=\"M1511,-417.5C1511,-417.5 1413,-417.5 1413,-417.5 1407,-417.5 1401,-411.5 1401,-405.5 1401,-405.5 1401,-361.5 1401,-361.5 1401,-355.5 1407,-349.5 1413,-349.5 1413,-349.5 1511,-349.5 1511,-349.5 1517,-349.5 1523,-355.5 1523,-361.5 1523,-361.5 1523,-405.5 1523,-405.5 1523,-411.5 1517,-417.5 1511,-417.5\"/>\n",
       "<text text-anchor=\"start\" x=\"1427\" y=\"-402.3\" font-family=\"helvetica\" font-size=\"14.00\">gini = 0.0</text>\n",
       "<text text-anchor=\"start\" x=\"1416.5\" y=\"-387.3\" font-family=\"helvetica\" font-size=\"14.00\">samples = 7</text>\n",
       "<text text-anchor=\"start\" x=\"1413\" y=\"-372.3\" font-family=\"helvetica\" font-size=\"14.00\">value = [0, 7]</text>\n",
       "<text text-anchor=\"start\" x=\"1409\" y=\"-357.3\" font-family=\"helvetica\" font-size=\"14.00\">class = benign</text>\n",
       "</g>\n",
       "<!-- 27&#45;&gt;28 -->\n",
       "<g id=\"edge28\" class=\"edge\">\n",
       "<title>27&#45;&gt;28</title>\n",
       "<path fill=\"none\" stroke=\"black\" d=\"M1511.63,-460.91C1504.32,-449.65 1496.37,-437.42 1489.03,-426.11\"/>\n",
       "<polygon fill=\"black\" stroke=\"black\" points=\"1491.93,-424.15 1483.54,-417.67 1486.06,-427.96 1491.93,-424.15\"/>\n",
       "</g>\n",
       "<!-- 29 -->\n",
       "<g id=\"node30\" class=\"node\">\n",
       "<title>29</title>\n",
       "<path fill=\"#e58139\" stroke=\"black\" d=\"M1674.5,-417.5C1674.5,-417.5 1553.5,-417.5 1553.5,-417.5 1547.5,-417.5 1541.5,-411.5 1541.5,-405.5 1541.5,-405.5 1541.5,-361.5 1541.5,-361.5 1541.5,-355.5 1547.5,-349.5 1553.5,-349.5 1553.5,-349.5 1674.5,-349.5 1674.5,-349.5 1680.5,-349.5 1686.5,-355.5 1686.5,-361.5 1686.5,-361.5 1686.5,-405.5 1686.5,-405.5 1686.5,-411.5 1680.5,-417.5 1674.5,-417.5\"/>\n",
       "<text text-anchor=\"start\" x=\"1579\" y=\"-402.3\" font-family=\"helvetica\" font-size=\"14.00\">gini = 0.0</text>\n",
       "<text text-anchor=\"start\" x=\"1568.5\" y=\"-387.3\" font-family=\"helvetica\" font-size=\"14.00\">samples = 6</text>\n",
       "<text text-anchor=\"start\" x=\"1565\" y=\"-372.3\" font-family=\"helvetica\" font-size=\"14.00\">value = [6, 0]</text>\n",
       "<text text-anchor=\"start\" x=\"1549.5\" y=\"-357.3\" font-family=\"helvetica\" font-size=\"14.00\">class = malignant</text>\n",
       "</g>\n",
       "<!-- 27&#45;&gt;29 -->\n",
       "<g id=\"edge29\" class=\"edge\">\n",
       "<title>27&#45;&gt;29</title>\n",
       "<path fill=\"none\" stroke=\"black\" d=\"M1564.37,-460.91C1571.68,-449.65 1579.63,-437.42 1586.97,-426.11\"/>\n",
       "<polygon fill=\"black\" stroke=\"black\" points=\"1589.94,-427.96 1592.46,-417.67 1584.07,-424.15 1589.94,-427.96\"/>\n",
       "</g>\n",
       "</g>\n",
       "</svg>\n"
      ],
      "text/plain": [
       "<graphviz.sources.Source at 0x7fc7ca23d2e8>"
      ]
     },
     "execution_count": 33,
     "metadata": {},
     "output_type": "execute_result"
    }
   ],
   "source": [
    "# exportation de la structure de l'arbre dans un fichier .dot\n",
    "dotFile_cancer = open(\"file3.dot\", \"w\")\n",
    "\n",
    "# Viusaliseur en ligne\n",
    "tree.export_graphviz(modelTreeCancer, out_file=dotFile_cancer,\n",
    "                    feature_names=features_cancer,\n",
    "                    class_names=classes_cancer,\n",
    "                    filled=True, rounded=True,\n",
    "                    special_characters=True)\n",
    "dotFile_cancer.close()\n",
    "\n",
    "# Visualisation\n",
    "dot_wine = tree.export_graphviz(modelTreeCancer, out_file=None, \n",
    "                        feature_names=features_cancer,  \n",
    "                        class_names=classes_cancer,     \n",
    "                        filled=True, rounded=True,  \n",
    "                        special_characters=True) \n",
    "graph = graphviz.Source(dot_wine)\n",
    "graph"
   ]
  },
  {
   "cell_type": "code",
   "execution_count": 34,
   "id": "cloudy-tournament",
   "metadata": {},
   "outputs": [
    {
     "name": "stdout",
     "output_type": "stream",
     "text": [
      "Tree -> Accuracy: 0.9173730787144854 (+/- 0.01981721851462547)\n",
      "NB -> Accuracy: 0.9385188635305075 (+/- 0.014585994424363306)\n",
      "KNN -> Accuracy: 0.9279459711224964 (+/- 0.02176276406544814)\n"
     ]
    }
   ],
   "source": [
    "# Decision tree with CV\n",
    "\n",
    "TreeMean_cancer, TreeStd_cancer = cvComparaison(tree.DecisionTreeClassifier(), X_cancer, y_cancer, 5)\n",
    "\n",
    "# Gaussian NB with CV\n",
    "\n",
    "NbMean_cancer, NbStd_cancer = cvComparaison(GaussianNB(), X_cancer, y_cancer, 5)\n",
    "\n",
    "# KNN with CV\n",
    "\n",
    "KnnMean_cancer, KnnStd_cancer = cvComparaison(KNeighborsClassifier(), X_cancer, y_cancer, 5)\n",
    "\n",
    "printResult(\"Tree ->\",TreeMean_cancer,TreeStd_cancer)\n",
    "printResult(\"NB ->\",NbMean_cancer,NbStd_cancer)\n",
    "printResult(\"KNN ->\",KnnMean_cancer,KnnStd_cancer)"
   ]
  },
  {
   "cell_type": "markdown",
   "id": "willing-deposit",
   "metadata": {},
   "source": [
    "#### Commentaire :\n",
    "\n",
    "On peut remarquer que pour le dataset sur le cancer, là encore GaussianNB se distingue positivement des autres."
   ]
  },
  {
   "cell_type": "markdown",
   "id": "bacterial-grenada",
   "metadata": {},
   "source": [
    "\n",
    "\n",
    "****"
   ]
  },
  {
   "cell_type": "markdown",
   "id": "bulgarian-positive",
   "metadata": {},
   "source": [
    "## 4) Visualiser les frontières de décision"
   ]
  },
  {
   "cell_type": "markdown",
   "id": "working-beginning",
   "metadata": {},
   "source": [
    "Sur un problème de classification en deux dimensions, on peut facilement visualiser les\n",
    "frontières de décision d’un arbre de décision et analyser comment elles évoluent en\n",
    "fonction de certains paramètres d’apprentissage."
   ]
  },
  {
   "cell_type": "markdown",
   "id": "meaningful-difficulty",
   "metadata": {},
   "source": [
    "- Générer une base de données synthétique en deux dimensions avec la fonction make_moon de Scikit-learn11. Cette base sera composée de 2 classes, 500 instances, et un taux de bruit de 0.2."
   ]
  },
  {
   "cell_type": "code",
   "execution_count": 35,
   "id": "pacific-essence",
   "metadata": {},
   "outputs": [
    {
     "data": {
      "text/plain": [
       "<matplotlib.collections.PathCollection at 0x7fc7c21eacc0>"
      ]
     },
     "execution_count": 35,
     "metadata": {},
     "output_type": "execute_result"
    },
    {
     "data": {
      "image/png": "[encoded data removed]",
      "text/plain": [
       "<Figure size 432x288 with 1 Axes>"
      ]
     },
     "metadata": {
      "needs_background": "light"
     },
     "output_type": "display_data"
    }
   ],
   "source": [
    "dataX, dataY = make_moons(500, noise = 0.2)\n",
    "colormap=np.array(['Black','Blue'])\n",
    "plt.scatter(dataX[:,0], dataX[:,1],color=colormap[dataY])"
   ]
  },
  {
   "cell_type": "markdown",
   "id": "thirty-burns",
   "metadata": {},
   "source": [
    "- Lancez l’apprentissage d’un arbre de décision, d’un GaussianNB et d’un KNeighborsClassifier sur cette base, comme à l’exercice précédent."
   ]
  },
  {
   "cell_type": "code",
   "execution_count": 36,
   "id": "vital-vitamin",
   "metadata": {},
   "outputs": [],
   "source": [
    "modelArbre = tree.DecisionTreeClassifier()\n",
    "modelNaives = GaussianNB()\n",
    "modelKNC = KNeighborsClassifier()"
   ]
  },
  {
   "cell_type": "code",
   "execution_count": 37,
   "id": "important-creativity",
   "metadata": {},
   "outputs": [],
   "source": [
    "X_app, X_dec, y_app, y_dec = train_test_split(dataX, dataY, test_size=0.30, random_state=42)"
   ]
  },
  {
   "cell_type": "code",
   "execution_count": 38,
   "id": "whole-syracuse",
   "metadata": {},
   "outputs": [],
   "source": [
    "modelArbre = modelArbre.fit(X_app,y_app)\n",
    "modelNaives = modelNaives.fit(X_app,y_app)\n",
    "modelKNC = modelKNC.fit(X_app,y_app)"
   ]
  },
  {
   "cell_type": "markdown",
   "id": "activated-workshop",
   "metadata": {},
   "source": [
    "- Créez une fonction python plot_decision_frontiers qui prend en paramètre un classifieur, sa base d’apprentissage et une figure dans laquelle seront dessinés les points (2D) de la base d’apprentissage et les frontières de décision du classifieur."
   ]
  },
  {
   "cell_type": "markdown",
   "id": "committed-cholesterol",
   "metadata": {},
   "source": [
    "Cette fonction procédera en plusieurs étapes:\n",
    "\n",
    "1. Générer une grille de points 2D: {(i, j)} pour i = $x^{(1)}_{min}...x^{(1)}_{max} et j = x^{(2)}_{min}...x^{(2)}_{max}$ Pour cela, utilisez la fonction **meshgrid** de NumPy.\n",
    "\n",
    "2. Rassembler les prédictions de l’arbre pour chacun des points de cette grille. Les fonctions **ravel**, **c_** et reshape de NumPy pourront vous être utiles.\n",
    "\n",
    "3. Afficher les points de la base d’apprentissage avec la fonction **scatter** de Matplotlib.\n",
    "\n",
    "4. Afficher les frontières de décisions en utilisant la fonction **contourf** de Matplotlib."
   ]
  },
  {
   "cell_type": "code",
   "execution_count": 39,
   "id": "naval-oakland",
   "metadata": {},
   "outputs": [],
   "source": [
    "def plot_decision_frontiers(Model, X, y, check, fig):\n",
    "    \n",
    "    if(check==False):\n",
    "        txt=\"tree1-Gini\"\n",
    "    elif(check==True):\n",
    "        txt=\"tree2-Entropy\"\n",
    "    else:\n",
    "        txt=check\n",
    "        \n",
    "    # Meshgrid\n",
    "    \n",
    "    h = .2\n",
    "    colors = \"bry\"\n",
    "    \n",
    "    x_min, x_max = X[:, 0].min() - 1, X[:, 0].max() + 1\n",
    "    y_min, y_max = X[:, 1].min() - 1, X[:, 1].max() + 1    \n",
    "    xx, yy = np.meshgrid(np.arange(x_min, x_max, h),np.arange(y_min, y_max, h))\n",
    "    \n",
    "    Z = Model.predict(np.c_[xx.ravel(), yy.ravel()])\n",
    "    Z = Z.reshape(xx.shape)\n",
    "    \n",
    "    fig.contourf(xx, yy, Z, cmap=plt.cm.Paired)    \n",
    "    fig.set_title(txt)\n",
    "    fig.axis('tight')\n",
    "\n",
    "    for i, color in zip(Model.classes_, colors):\n",
    "        idx = np.where(y == i)\n",
    "        fig.scatter(X[idx, 0], X[idx, 1], c=color,cmap=plt.cm.Paired, edgecolor='black', s=20) "
   ]
  },
  {
   "cell_type": "markdown",
   "id": "considerable-algebra",
   "metadata": {},
   "source": [
    "- Créez une figure contenant 3 sous-figures avec la fonction subplots de Matplotlib.\n",
    "- Appelez la fonction plot_decision_frontiers pour chacun des trois classifieurs et chacune des 3 sous-figures."
   ]
  },
  {
   "cell_type": "code",
   "execution_count": 40,
   "id": "dangerous-coach",
   "metadata": {},
   "outputs": [
    {
     "data": {
      "image/png": "[encoded data removed]",
      "text/plain": [
       "<Figure size 1296x360 with 3 Axes>"
      ]
     },
     "metadata": {
      "needs_background": "light"
     },
     "output_type": "display_data"
    }
   ],
   "source": [
    "fig, ax = plt.subplots(1, 3, figsize=(18,5), sharex=True, sharey=True)\n",
    "\n",
    "plot_decision_frontiers(modelArbre, X_app, y_app, \"Tree\", ax[0])\n",
    "plot_decision_frontiers(modelNaives, X_app, y_app, \"NB\", ax[1])\n",
    "plot_decision_frontiers(modelKNC, X_app, y_app, \"KN Class\", ax[2])"
   ]
  },
  {
   "cell_type": "markdown",
   "id": "blond-sierra",
   "metadata": {},
   "source": [
    "#### Commentaire :\n",
    "\n",
    "Dans cette première visualisation, on remarque qu'avec nos données d'apprentissages, KNC se comporte correctement."
   ]
  },
  {
   "cell_type": "markdown",
   "id": "extra-serbia",
   "metadata": {},
   "source": [
    "\n",
    "\n",
    "****"
   ]
  },
  {
   "cell_type": "code",
   "execution_count": 41,
   "id": "registered-caution",
   "metadata": {},
   "outputs": [
    {
     "data": {
      "image/png": "[encoded data removed]",
      "text/plain": [
       "<Figure size 1296x360 with 3 Axes>"
      ]
     },
     "metadata": {
      "needs_background": "light"
     },
     "output_type": "display_data"
    }
   ],
   "source": [
    "fig, ax = plt.subplots(1, 3, figsize=(18,5), sharex=True, sharey=True)\n",
    "# dataX, dataY\n",
    "# X_dec,y_dec\n",
    "# X_app, y_app\n",
    "plot_decision_frontiers(modelArbre, X_dec,y_dec, \"Tree\", ax[0])\n",
    "plot_decision_frontiers(modelNaives, X_dec,y_dec, \"NB\", ax[1])\n",
    "plot_decision_frontiers(modelKNC, X_dec,y_dec, \"KN Class\", ax[2])"
   ]
  },
  {
   "cell_type": "markdown",
   "id": "international-correction",
   "metadata": {},
   "source": [
    "#### Commentaire :\n",
    "\n",
    "avec des données de tests, on parvient aussi à avoir des résulats satisfaisants, avec un Kppv-C et, un Arbre de Décision, ces derniers classifient donc bien les points. Cependant, alors qu'ua niveau de Decision Tree, l'arbre sur-apprends, GaussianNB classe mal les points."
   ]
  },
  {
   "cell_type": "markdown",
   "id": "remarkable-dodge",
   "metadata": {},
   "source": [
    "\n",
    "\n",
    "****"
   ]
  },
  {
   "cell_type": "markdown",
   "id": "dietary-dressing",
   "metadata": {},
   "source": [
    "## 5) Étude de paramètres"
   ]
  },
  {
   "cell_type": "markdown",
   "id": "about-province",
   "metadata": {},
   "source": [
    "L’objectif est d’analyser l’influence de quelques paramètres sur les performances d’un arbre de décision. Dans un premier temps, analysez l’effet du critère de partitionnement:\n",
    "\n",
    "- Générez une nouvelle base avec make_moon, avec 1000 données et un taux de bruits de 0.3."
   ]
  },
  {
   "cell_type": "code",
   "execution_count": 42,
   "id": "czech-examination",
   "metadata": {},
   "outputs": [
    {
     "data": {
      "text/plain": [
       "<matplotlib.collections.PathCollection at 0x7fc7c1ca6588>"
      ]
     },
     "execution_count": 42,
     "metadata": {},
     "output_type": "execute_result"
    },
    {
     "data": {
      "image/png": "[encoded data removed]",
      "text/plain": [
       "<Figure size 432x288 with 1 Axes>"
      ]
     },
     "metadata": {
      "needs_background": "light"
     },
     "output_type": "display_data"
    }
   ],
   "source": [
    "dataX2, dataY2 = make_moons(1000, noise = 0.3)\n",
    "colormap=np.array(['Red','Black'])\n",
    "plt.scatter(dataX2[:,0], dataX2[:,1],color=colormap[dataY2])"
   ]
  },
  {
   "cell_type": "markdown",
   "id": "declared-still",
   "metadata": {},
   "source": [
    "- Lancez l’apprentissage de deux arbres de décision sur cette base: l’un avec le critère de partitionnement Gini, l’autre avec Entropy."
   ]
  },
  {
   "cell_type": "code",
   "execution_count": 43,
   "id": "social-detail",
   "metadata": {},
   "outputs": [],
   "source": [
    "# En apprentissage : l'entropie est nulle lorsque toutes les observations appartiennent à une classe\n",
    "\n",
    "modelTree1 = tree.DecisionTreeClassifier(criterion=\"gini\")\n",
    "modelTree2 = tree.DecisionTreeClassifier(criterion=\"entropy\")"
   ]
  },
  {
   "cell_type": "code",
   "execution_count": 44,
   "id": "informational-facility",
   "metadata": {},
   "outputs": [],
   "source": [
    "X_app_1, X_dec_2, y_app_1, y_dec_2 = train_test_split(dataX2, dataY2, test_size=0.30, random_state=42)\n",
    "\n",
    "modelTree1 = modelTree1.fit(X_app_1,y_app_1)\n",
    "\n",
    "modelTree2 = modelTree2.fit(X_app_1,y_app_1)"
   ]
  },
  {
   "cell_type": "markdown",
   "id": "hungarian-invention",
   "metadata": {},
   "source": [
    "- Visualisez les frontières de décision des deux classifieurs ainsi obtenus en utilisant la fonction définie à l’exercice précédent."
   ]
  },
  {
   "cell_type": "code",
   "execution_count": 45,
   "id": "restricted-pressing",
   "metadata": {},
   "outputs": [
    {
     "data": {
      "image/png": "[encoded data removed]",
      "text/plain": [
       "<Figure size 1296x360 with 2 Axes>"
      ]
     },
     "metadata": {
      "needs_background": "light"
     },
     "output_type": "display_data"
    }
   ],
   "source": [
    "fig, ax = plt.subplots(1, 2, figsize=(18,5), sharex=True, sharey=True)\n",
    "\n",
    "plot_decision_frontiers(modelTree1, X_app_1,y_app_1, False, ax[0])\n",
    "plot_decision_frontiers(modelTree2, X_app_1,y_app_1, True, ax[1])"
   ]
  },
  {
   "cell_type": "markdown",
   "id": "gothic-lottery",
   "metadata": {},
   "source": [
    "#### Commentaire :\n",
    "\n",
    "Quoi que imparfait, alors qu'au moment de l'apprentissage un arbre de décision avec Gini semble bien classer les points, l'entropy paraît moins performant, ainsi, on va privilégier la discrimination des données selon l'impureté de Gini."
   ]
  },
  {
   "cell_type": "code",
   "execution_count": 46,
   "id": "liable-buyer",
   "metadata": {},
   "outputs": [
    {
     "data": {
      "image/png": "[encoded data removed]",
      "text/plain": [
       "<Figure size 1296x360 with 2 Axes>"
      ]
     },
     "metadata": {
      "needs_background": "light"
     },
     "output_type": "display_data"
    }
   ],
   "source": [
    "fig, ax = plt.subplots(1, 2, figsize=(18,5), sharex=True, sharey=True)\n",
    "\n",
    "plot_decision_frontiers(modelTree1, X_dec_2,y_dec_2, False, ax[0])\n",
    "plot_decision_frontiers(modelTree2, X_dec_2,y_dec_2, True, ax[1])"
   ]
  },
  {
   "cell_type": "markdown",
   "id": "systematic-humidity",
   "metadata": {},
   "source": [
    "#### Commentaire :\n",
    "\n",
    "Grosso modo, au moment des tets, on parvient à mieux généraliser avec Gini."
   ]
  },
  {
   "cell_type": "markdown",
   "id": "severe-mumbai",
   "metadata": {},
   "source": [
    "\n",
    "\n",
    "****"
   ]
  },
  {
   "cell_type": "markdown",
   "id": "existing-snowboard",
   "metadata": {},
   "source": [
    "- Estimez également les performances de ces deux algorithmes d’apprentissage avec une procédure de validation croisée."
   ]
  },
  {
   "cell_type": "code",
   "execution_count": 47,
   "id": "fifteen-brick",
   "metadata": {},
   "outputs": [
    {
     "name": "stdout",
     "output_type": "stream",
     "text": [
      "Tree.Gini -> Accuracy: 0.8899999999999999 (+/- 0.008366600265340762)\n",
      "Tree.Entropy -> Accuracy: 0.884 (+/- 0.009695359714832668)\n"
     ]
    }
   ],
   "source": [
    "# Decision tree with CV and gini\n",
    "\n",
    "TreeMean_Gini, TreeStd_Gini = cvComparaison(tree.DecisionTreeClassifier(), dataX2, dataY2, 5)\n",
    "\n",
    "# Gaussian NB with CV and entropy\n",
    "\n",
    "TreeMean_Entropy, TreeStd_Entropy = cvComparaison(tree.DecisionTreeClassifier(), dataX2, dataY2, 5)\n",
    "\n",
    "printResult(\"Tree.Gini ->\",TreeMean_Gini,TreeStd_Gini)\n",
    "printResult(\"Tree.Entropy ->\",TreeMean_Entropy,TreeStd_Entropy)"
   ]
  },
  {
   "cell_type": "markdown",
   "id": "careful-envelope",
   "metadata": {},
   "source": [
    "- Analysez les résultats et donnez vos conclusions."
   ]
  },
  {
   "cell_type": "markdown",
   "id": "interpreted-frank",
   "metadata": {},
   "source": [
    "#### Commentaire :\n",
    "\n",
    "Une fois de plus nous confirmons après application de la croisse validation, que l'on va préférer une classification avec arbre de décision basée sur Gini que sur l'entropie. Par ailleurs, du fait que en moyennes dans les deux cas nous avons un score pas suffisant, nous pousserait à tester un autre classifieur."
   ]
  },
  {
   "cell_type": "markdown",
   "id": "employed-panel",
   "metadata": {},
   "source": [
    "\n",
    "\n",
    "****"
   ]
  },
  {
   "cell_type": "markdown",
   "id": "corresponding-persian",
   "metadata": {},
   "source": [
    "Dans un deuxième temps, vous allez créer une expérience pour visualiser l’évolution de performances en fonction des valeurs de deux paramètres:\n",
    "\n",
    "- la profondeur maximum de l’arbre de décision\n",
    "- le nombre minimum de données par feuille"
   ]
  },
  {
   "cell_type": "markdown",
   "id": "nasty-liver",
   "metadata": {},
   "source": [
    "Pour cela:\n",
    "\n",
    "- Faites varier les valeurs de chaque paramètre (séparément):\n",
    "\n",
    "        - Profondeur maximum: de 1 à 30\n",
    "        - Nombre minimum de données par feuille (en pourcentage): de 1% à 50%\n",
    "        \n",
    "- Pour chaque valeur, testez l’apprentissage d’un arbre via une procédure de validation croisée et mémoriser le taux moyen de bonne classification dans un tableau.\n",
    "\n",
    "- Tracez la courbe de l’évolution du taux moyen de bonne classification en fonction des valeurs de paramètre testées.\n",
    "\n",
    "- Analysez les résultats et donnez vos conclusions."
   ]
  },
  {
   "cell_type": "code",
   "execution_count": 48,
   "id": "substantial-wagon",
   "metadata": {},
   "outputs": [],
   "source": [
    "X, y = make_moons(10000, noise = 0.3)"
   ]
  },
  {
   "cell_type": "code",
   "execution_count": 49,
   "id": "dried-university",
   "metadata": {},
   "outputs": [],
   "source": [
    "profondeur = []\n",
    "tauxGiniMoyen = []\n",
    "tauxEntropieMoyen = []"
   ]
  },
  {
   "cell_type": "code",
   "execution_count": 50,
   "id": "vulnerable-credit",
   "metadata": {},
   "outputs": [],
   "source": [
    "for i in range(1, 30, 1):\n",
    "    profondeur.append(i)\n",
    "    tauxGiniMoyen.append(cvComparaison(tree.DecisionTreeClassifier(max_depth=i, criterion=\"gini\"), X, y, 5)[0])\n",
    "    tauxEntropieMoyen.append(cvComparaison(tree.DecisionTreeClassifier(max_depth=i, criterion=\"entropy\"), X, y, 5)[0])"
   ]
  },
  {
   "cell_type": "code",
   "execution_count": 51,
   "id": "spatial-fruit",
   "metadata": {},
   "outputs": [
    {
     "data": {
      "text/plain": [
       "Text(0, 0.5, 'taux')"
      ]
     },
     "execution_count": 51,
     "metadata": {},
     "output_type": "execute_result"
    },
    {
     "data": {
      "image/png": "[encoded data removed]",
      "text/plain": [
       "<Figure size 432x288 with 1 Axes>"
      ]
     },
     "metadata": {
      "needs_background": "light"
     },
     "output_type": "display_data"
    }
   ],
   "source": [
    "plt.scatter(profondeur, tauxGiniMoyen)\n",
    "plt.title(\"Gini\")\n",
    "plt.xlabel(\"profondeur\")\n",
    "plt.ylabel(\"taux\")"
   ]
  },
  {
   "cell_type": "code",
   "execution_count": 52,
   "id": "gothic-recycling",
   "metadata": {},
   "outputs": [
    {
     "data": {
      "text/plain": [
       "Text(0, 0.5, 'taux')"
      ]
     },
     "execution_count": 52,
     "metadata": {},
     "output_type": "execute_result"
    },
    {
     "data": {
      "image/png": "[encoded data removed]",
      "text/plain": [
       "<Figure size 432x288 with 1 Axes>"
      ]
     },
     "metadata": {
      "needs_background": "light"
     },
     "output_type": "display_data"
    }
   ],
   "source": [
    "plt.scatter(profondeur, tauxEntropieMoyen)\n",
    "plt.title(\"Entropie\")\n",
    "plt.xlabel(\"profondeur\")\n",
    "plt.ylabel(\"taux\")"
   ]
  },
  {
   "cell_type": "markdown",
   "id": "adjustable-northwest",
   "metadata": {},
   "source": [
    "#### Commentaire :\n",
    "\n",
    "Autant un arbre est profond, autant il ets complexe, et donc, Gini présente un critère de performance meilleur que Entropie. Nous l'aurons compris, dans le cas contraire, autant un abre est moins profond, autant l'entrpoie est moins meilleur que Gini."
   ]
  },
  {
   "cell_type": "markdown",
   "id": "constitutional-somewhere",
   "metadata": {},
   "source": [
    "*****"
   ]
  },
  {
   "cell_type": "code",
   "execution_count": 53,
   "id": "coral-activity",
   "metadata": {},
   "outputs": [],
   "source": [
    "profondeur = []\n",
    "tauxGiniMoyen = []\n",
    "tauxEntropieMoyen = []"
   ]
  },
  {
   "cell_type": "code",
   "execution_count": 54,
   "id": "smart-sucking",
   "metadata": {},
   "outputs": [],
   "source": [
    "for i in range(1, 50, 1):\n",
    "    profondeur.append(i)\n",
    "    tauxGiniMoyen.append(cvComparaison(tree.DecisionTreeClassifier(criterion=\"gini\", min_samples_leaf=i), X, y, 5)[0])\n",
    "    tauxEntropieMoyen.append(cvComparaison(tree.DecisionTreeClassifier(criterion=\"entropy\", min_samples_leaf=i), X, y, 5)[0])"
   ]
  },
  {
   "cell_type": "code",
   "execution_count": 55,
   "id": "married-youth",
   "metadata": {},
   "outputs": [
    {
     "data": {
      "text/plain": [
       "Text(0, 0.5, 'taux')"
      ]
     },
     "execution_count": 55,
     "metadata": {},
     "output_type": "execute_result"
    },
    {
     "data": {
      "image/png": "[encoded data removed]",
      "text/plain": [
       "<Figure size 432x288 with 1 Axes>"
      ]
     },
     "metadata": {
      "needs_background": "light"
     },
     "output_type": "display_data"
    }
   ],
   "source": [
    "plt.scatter(profondeur, tauxGiniMoyen)\n",
    "plt.title(\"Gini\")\n",
    "plt.xlabel(\"profondeur\")\n",
    "plt.ylabel(\"taux\")"
   ]
  },
  {
   "cell_type": "code",
   "execution_count": 56,
   "id": "fallen-ribbon",
   "metadata": {},
   "outputs": [
    {
     "data": {
      "text/plain": [
       "Text(0, 0.5, 'taux')"
      ]
     },
     "execution_count": 56,
     "metadata": {},
     "output_type": "execute_result"
    },
    {
     "data": {
      "image/png": "[encoded data removed]",
      "text/plain": [
       "<Figure size 432x288 with 1 Axes>"
      ]
     },
     "metadata": {
      "needs_background": "light"
     },
     "output_type": "display_data"
    }
   ],
   "source": [
    "plt.scatter(profondeur, tauxEntropieMoyen)\n",
    "plt.title(\"Entropie\")\n",
    "plt.xlabel(\"profondeur\")\n",
    "plt.ylabel(\"taux\")"
   ]
  },
  {
   "cell_type": "markdown",
   "id": "crude-bryan",
   "metadata": {},
   "source": [
    "#### Commentaire :\n",
    "\n",
    "Gini est performant pour les arbres avec des feuilles aux nombreuses informations, alors que l'Entropie est préférable lorsqu'il y 'en a moins."
   ]
  }
 ],
 "metadata": {
  "kernelspec": {
   "display_name": "Python 3",
   "language": "python",
   "name": "python3"
  },
  "language_info": {
   "codemirror_mode": {
    "name": "ipython",
    "version": 3
   },
   "file_extension": ".py",
   "mimetype": "text/x-python",
   "name": "python",
   "nbconvert_exporter": "python",
   "pygments_lexer": "ipython3",
   "version": "3.6.13"
  }
 },
 "nbformat": 4,
 "nbformat_minor": 5
}
